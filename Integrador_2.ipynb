{
  "nbformat": 4,
  "nbformat_minor": 0,
  "metadata": {
    "kernelspec": {
      "display_name": "Python 3",
      "language": "python",
      "name": "python3"
    },
    "language_info": {
      "codemirror_mode": {
        "name": "ipython",
        "version": 3
      },
      "file_extension": ".py",
      "mimetype": "text/x-python",
      "name": "python",
      "nbconvert_exporter": "python",
      "pygments_lexer": "ipython3",
      "version": "3.8.10"
    },
    "colab": {
      "name": "Integrador 2.ipynb",
      "provenance": [],
      "collapsed_sections": []
    },
    "widgets": {
      "application/vnd.jupyter.widget-state+json": {
        "44b059ecd79443cabf2e10dde67395f3": {
          "model_module": "@jupyter-widgets/controls",
          "model_name": "HBoxModel",
          "state": {
            "_view_name": "HBoxView",
            "_dom_classes": [],
            "_model_name": "HBoxModel",
            "_view_module": "@jupyter-widgets/controls",
            "_model_module_version": "1.5.0",
            "_view_count": null,
            "_view_module_version": "1.5.0",
            "box_style": "",
            "layout": "IPY_MODEL_101ee32766a14fd58c7c6838bb00ca71",
            "_model_module": "@jupyter-widgets/controls",
            "children": [
              "IPY_MODEL_1d23899cee7a406dab4060da0064b3fa",
              "IPY_MODEL_05822c66db3e4bacae0f88be867989d7"
            ]
          }
        },
        "101ee32766a14fd58c7c6838bb00ca71": {
          "model_module": "@jupyter-widgets/base",
          "model_name": "LayoutModel",
          "state": {
            "_view_name": "LayoutView",
            "grid_template_rows": null,
            "right": null,
            "justify_content": null,
            "_view_module": "@jupyter-widgets/base",
            "overflow": null,
            "_model_module_version": "1.2.0",
            "_view_count": null,
            "flex_flow": null,
            "width": null,
            "min_width": null,
            "border": null,
            "align_items": null,
            "bottom": null,
            "_model_module": "@jupyter-widgets/base",
            "top": null,
            "grid_column": null,
            "overflow_y": null,
            "overflow_x": null,
            "grid_auto_flow": null,
            "grid_area": null,
            "grid_template_columns": null,
            "flex": null,
            "_model_name": "LayoutModel",
            "justify_items": null,
            "grid_row": null,
            "max_height": null,
            "align_content": null,
            "visibility": null,
            "align_self": null,
            "height": null,
            "min_height": null,
            "padding": null,
            "grid_auto_rows": null,
            "grid_gap": null,
            "max_width": null,
            "order": null,
            "_view_module_version": "1.2.0",
            "grid_template_areas": null,
            "object_position": null,
            "object_fit": null,
            "grid_auto_columns": null,
            "margin": null,
            "display": null,
            "left": null
          }
        },
        "1d23899cee7a406dab4060da0064b3fa": {
          "model_module": "@jupyter-widgets/controls",
          "model_name": "FloatProgressModel",
          "state": {
            "_view_name": "ProgressView",
            "style": "IPY_MODEL_065cceac7c594b93aec9b90e1c957fcd",
            "_dom_classes": [],
            "description": "Downloading: 100%",
            "_model_name": "FloatProgressModel",
            "bar_style": "success",
            "max": 4420,
            "_view_module": "@jupyter-widgets/controls",
            "_model_module_version": "1.5.0",
            "value": 4420,
            "_view_count": null,
            "_view_module_version": "1.5.0",
            "orientation": "horizontal",
            "min": 0,
            "description_tooltip": null,
            "_model_module": "@jupyter-widgets/controls",
            "layout": "IPY_MODEL_42f90b94b1104cd68d196cb8f20b386b"
          }
        },
        "05822c66db3e4bacae0f88be867989d7": {
          "model_module": "@jupyter-widgets/controls",
          "model_name": "HTMLModel",
          "state": {
            "_view_name": "HTMLView",
            "style": "IPY_MODEL_48b1264217a64bc996284c7166221b01",
            "_dom_classes": [],
            "description": "",
            "_model_name": "HTMLModel",
            "placeholder": "​",
            "_view_module": "@jupyter-widgets/controls",
            "_model_module_version": "1.5.0",
            "value": " 4.42k/4.42k [00:00&lt;00:00, 33.7kB/s]",
            "_view_count": null,
            "_view_module_version": "1.5.0",
            "description_tooltip": null,
            "_model_module": "@jupyter-widgets/controls",
            "layout": "IPY_MODEL_8d3f9261f5c24b4cb5d6c89b9644b7a7"
          }
        },
        "065cceac7c594b93aec9b90e1c957fcd": {
          "model_module": "@jupyter-widgets/controls",
          "model_name": "ProgressStyleModel",
          "state": {
            "_view_name": "StyleView",
            "_model_name": "ProgressStyleModel",
            "description_width": "initial",
            "_view_module": "@jupyter-widgets/base",
            "_model_module_version": "1.5.0",
            "_view_count": null,
            "_view_module_version": "1.2.0",
            "bar_color": null,
            "_model_module": "@jupyter-widgets/controls"
          }
        },
        "42f90b94b1104cd68d196cb8f20b386b": {
          "model_module": "@jupyter-widgets/base",
          "model_name": "LayoutModel",
          "state": {
            "_view_name": "LayoutView",
            "grid_template_rows": null,
            "right": null,
            "justify_content": null,
            "_view_module": "@jupyter-widgets/base",
            "overflow": null,
            "_model_module_version": "1.2.0",
            "_view_count": null,
            "flex_flow": null,
            "width": null,
            "min_width": null,
            "border": null,
            "align_items": null,
            "bottom": null,
            "_model_module": "@jupyter-widgets/base",
            "top": null,
            "grid_column": null,
            "overflow_y": null,
            "overflow_x": null,
            "grid_auto_flow": null,
            "grid_area": null,
            "grid_template_columns": null,
            "flex": null,
            "_model_name": "LayoutModel",
            "justify_items": null,
            "grid_row": null,
            "max_height": null,
            "align_content": null,
            "visibility": null,
            "align_self": null,
            "height": null,
            "min_height": null,
            "padding": null,
            "grid_auto_rows": null,
            "grid_gap": null,
            "max_width": null,
            "order": null,
            "_view_module_version": "1.2.0",
            "grid_template_areas": null,
            "object_position": null,
            "object_fit": null,
            "grid_auto_columns": null,
            "margin": null,
            "display": null,
            "left": null
          }
        },
        "48b1264217a64bc996284c7166221b01": {
          "model_module": "@jupyter-widgets/controls",
          "model_name": "DescriptionStyleModel",
          "state": {
            "_view_name": "StyleView",
            "_model_name": "DescriptionStyleModel",
            "description_width": "",
            "_view_module": "@jupyter-widgets/base",
            "_model_module_version": "1.5.0",
            "_view_count": null,
            "_view_module_version": "1.2.0",
            "_model_module": "@jupyter-widgets/controls"
          }
        },
        "8d3f9261f5c24b4cb5d6c89b9644b7a7": {
          "model_module": "@jupyter-widgets/base",
          "model_name": "LayoutModel",
          "state": {
            "_view_name": "LayoutView",
            "grid_template_rows": null,
            "right": null,
            "justify_content": null,
            "_view_module": "@jupyter-widgets/base",
            "overflow": null,
            "_model_module_version": "1.2.0",
            "_view_count": null,
            "flex_flow": null,
            "width": null,
            "min_width": null,
            "border": null,
            "align_items": null,
            "bottom": null,
            "_model_module": "@jupyter-widgets/base",
            "top": null,
            "grid_column": null,
            "overflow_y": null,
            "overflow_x": null,
            "grid_auto_flow": null,
            "grid_area": null,
            "grid_template_columns": null,
            "flex": null,
            "_model_name": "LayoutModel",
            "justify_items": null,
            "grid_row": null,
            "max_height": null,
            "align_content": null,
            "visibility": null,
            "align_self": null,
            "height": null,
            "min_height": null,
            "padding": null,
            "grid_auto_rows": null,
            "grid_gap": null,
            "max_width": null,
            "order": null,
            "_view_module_version": "1.2.0",
            "grid_template_areas": null,
            "object_position": null,
            "object_fit": null,
            "grid_auto_columns": null,
            "margin": null,
            "display": null,
            "left": null
          }
        },
        "df55a69215604df7a36e482beef9a956": {
          "model_module": "@jupyter-widgets/controls",
          "model_name": "HBoxModel",
          "state": {
            "_view_name": "HBoxView",
            "_dom_classes": [],
            "_model_name": "HBoxModel",
            "_view_module": "@jupyter-widgets/controls",
            "_model_module_version": "1.5.0",
            "_view_count": null,
            "_view_module_version": "1.5.0",
            "box_style": "",
            "layout": "IPY_MODEL_b5e0888bab0a4d03877b1992585e3d1b",
            "_model_module": "@jupyter-widgets/controls",
            "children": [
              "IPY_MODEL_5301459db6a94ce9ae829bd02cad4ebe",
              "IPY_MODEL_a12a48e6800c44b3a3a1c5e073dd42b3"
            ]
          }
        },
        "b5e0888bab0a4d03877b1992585e3d1b": {
          "model_module": "@jupyter-widgets/base",
          "model_name": "LayoutModel",
          "state": {
            "_view_name": "LayoutView",
            "grid_template_rows": null,
            "right": null,
            "justify_content": null,
            "_view_module": "@jupyter-widgets/base",
            "overflow": null,
            "_model_module_version": "1.2.0",
            "_view_count": null,
            "flex_flow": null,
            "width": null,
            "min_width": null,
            "border": null,
            "align_items": null,
            "bottom": null,
            "_model_module": "@jupyter-widgets/base",
            "top": null,
            "grid_column": null,
            "overflow_y": null,
            "overflow_x": null,
            "grid_auto_flow": null,
            "grid_area": null,
            "grid_template_columns": null,
            "flex": null,
            "_model_name": "LayoutModel",
            "justify_items": null,
            "grid_row": null,
            "max_height": null,
            "align_content": null,
            "visibility": null,
            "align_self": null,
            "height": null,
            "min_height": null,
            "padding": null,
            "grid_auto_rows": null,
            "grid_gap": null,
            "max_width": null,
            "order": null,
            "_view_module_version": "1.2.0",
            "grid_template_areas": null,
            "object_position": null,
            "object_fit": null,
            "grid_auto_columns": null,
            "margin": null,
            "display": null,
            "left": null
          }
        },
        "5301459db6a94ce9ae829bd02cad4ebe": {
          "model_module": "@jupyter-widgets/controls",
          "model_name": "FloatProgressModel",
          "state": {
            "_view_name": "ProgressView",
            "style": "IPY_MODEL_a9f4a763b7b4438fa48bf6e2457ac930",
            "_dom_classes": [],
            "description": "Downloading: 100%",
            "_model_name": "FloatProgressModel",
            "bar_style": "success",
            "max": 479555971,
            "_view_module": "@jupyter-widgets/controls",
            "_model_module_version": "1.5.0",
            "value": 479555971,
            "_view_count": null,
            "_view_module_version": "1.5.0",
            "orientation": "horizontal",
            "min": 0,
            "description_tooltip": null,
            "_model_module": "@jupyter-widgets/controls",
            "layout": "IPY_MODEL_5ba087db8b4e4e9f93afb50951dc51f5"
          }
        },
        "a12a48e6800c44b3a3a1c5e073dd42b3": {
          "model_module": "@jupyter-widgets/controls",
          "model_name": "HTMLModel",
          "state": {
            "_view_name": "HTMLView",
            "style": "IPY_MODEL_b9a154b08e2c41f4b8973ae65fda9a9d",
            "_dom_classes": [],
            "description": "",
            "_model_name": "HTMLModel",
            "placeholder": "​",
            "_view_module": "@jupyter-widgets/controls",
            "_model_module_version": "1.5.0",
            "value": " 480M/480M [04:04&lt;00:00, 1.96MB/s]",
            "_view_count": null,
            "_view_module_version": "1.5.0",
            "description_tooltip": null,
            "_model_module": "@jupyter-widgets/controls",
            "layout": "IPY_MODEL_bf6ee5e7b1184606813f664f97db0780"
          }
        },
        "a9f4a763b7b4438fa48bf6e2457ac930": {
          "model_module": "@jupyter-widgets/controls",
          "model_name": "ProgressStyleModel",
          "state": {
            "_view_name": "StyleView",
            "_model_name": "ProgressStyleModel",
            "description_width": "initial",
            "_view_module": "@jupyter-widgets/base",
            "_model_module_version": "1.5.0",
            "_view_count": null,
            "_view_module_version": "1.2.0",
            "bar_color": null,
            "_model_module": "@jupyter-widgets/controls"
          }
        },
        "5ba087db8b4e4e9f93afb50951dc51f5": {
          "model_module": "@jupyter-widgets/base",
          "model_name": "LayoutModel",
          "state": {
            "_view_name": "LayoutView",
            "grid_template_rows": null,
            "right": null,
            "justify_content": null,
            "_view_module": "@jupyter-widgets/base",
            "overflow": null,
            "_model_module_version": "1.2.0",
            "_view_count": null,
            "flex_flow": null,
            "width": null,
            "min_width": null,
            "border": null,
            "align_items": null,
            "bottom": null,
            "_model_module": "@jupyter-widgets/base",
            "top": null,
            "grid_column": null,
            "overflow_y": null,
            "overflow_x": null,
            "grid_auto_flow": null,
            "grid_area": null,
            "grid_template_columns": null,
            "flex": null,
            "_model_name": "LayoutModel",
            "justify_items": null,
            "grid_row": null,
            "max_height": null,
            "align_content": null,
            "visibility": null,
            "align_self": null,
            "height": null,
            "min_height": null,
            "padding": null,
            "grid_auto_rows": null,
            "grid_gap": null,
            "max_width": null,
            "order": null,
            "_view_module_version": "1.2.0",
            "grid_template_areas": null,
            "object_position": null,
            "object_fit": null,
            "grid_auto_columns": null,
            "margin": null,
            "display": null,
            "left": null
          }
        },
        "b9a154b08e2c41f4b8973ae65fda9a9d": {
          "model_module": "@jupyter-widgets/controls",
          "model_name": "DescriptionStyleModel",
          "state": {
            "_view_name": "StyleView",
            "_model_name": "DescriptionStyleModel",
            "description_width": "",
            "_view_module": "@jupyter-widgets/base",
            "_model_module_version": "1.5.0",
            "_view_count": null,
            "_view_module_version": "1.2.0",
            "_model_module": "@jupyter-widgets/controls"
          }
        },
        "bf6ee5e7b1184606813f664f97db0780": {
          "model_module": "@jupyter-widgets/base",
          "model_name": "LayoutModel",
          "state": {
            "_view_name": "LayoutView",
            "grid_template_rows": null,
            "right": null,
            "justify_content": null,
            "_view_module": "@jupyter-widgets/base",
            "overflow": null,
            "_model_module_version": "1.2.0",
            "_view_count": null,
            "flex_flow": null,
            "width": null,
            "min_width": null,
            "border": null,
            "align_items": null,
            "bottom": null,
            "_model_module": "@jupyter-widgets/base",
            "top": null,
            "grid_column": null,
            "overflow_y": null,
            "overflow_x": null,
            "grid_auto_flow": null,
            "grid_area": null,
            "grid_template_columns": null,
            "flex": null,
            "_model_name": "LayoutModel",
            "justify_items": null,
            "grid_row": null,
            "max_height": null,
            "align_content": null,
            "visibility": null,
            "align_self": null,
            "height": null,
            "min_height": null,
            "padding": null,
            "grid_auto_rows": null,
            "grid_gap": null,
            "max_width": null,
            "order": null,
            "_view_module_version": "1.2.0",
            "grid_template_areas": null,
            "object_position": null,
            "object_fit": null,
            "grid_auto_columns": null,
            "margin": null,
            "display": null,
            "left": null
          }
        },
        "0c8ed0589a944b4c91d915e0a0af5371": {
          "model_module": "@jupyter-widgets/controls",
          "model_name": "HBoxModel",
          "state": {
            "_view_name": "HBoxView",
            "_dom_classes": [],
            "_model_name": "HBoxModel",
            "_view_module": "@jupyter-widgets/controls",
            "_model_module_version": "1.5.0",
            "_view_count": null,
            "_view_module_version": "1.5.0",
            "box_style": "",
            "layout": "IPY_MODEL_36f22a2f6059424c9a07073c00543438",
            "_model_module": "@jupyter-widgets/controls",
            "children": [
              "IPY_MODEL_78281b88dd05437295be09e53cc52d38",
              "IPY_MODEL_c776f6976128409bb7e481e6ddb68d11"
            ]
          }
        },
        "36f22a2f6059424c9a07073c00543438": {
          "model_module": "@jupyter-widgets/base",
          "model_name": "LayoutModel",
          "state": {
            "_view_name": "LayoutView",
            "grid_template_rows": null,
            "right": null,
            "justify_content": null,
            "_view_module": "@jupyter-widgets/base",
            "overflow": null,
            "_model_module_version": "1.2.0",
            "_view_count": null,
            "flex_flow": null,
            "width": null,
            "min_width": null,
            "border": null,
            "align_items": null,
            "bottom": null,
            "_model_module": "@jupyter-widgets/base",
            "top": null,
            "grid_column": null,
            "overflow_y": null,
            "overflow_x": null,
            "grid_auto_flow": null,
            "grid_area": null,
            "grid_template_columns": null,
            "flex": null,
            "_model_name": "LayoutModel",
            "justify_items": null,
            "grid_row": null,
            "max_height": null,
            "align_content": null,
            "visibility": null,
            "align_self": null,
            "height": null,
            "min_height": null,
            "padding": null,
            "grid_auto_rows": null,
            "grid_gap": null,
            "max_width": null,
            "order": null,
            "_view_module_version": "1.2.0",
            "grid_template_areas": null,
            "object_position": null,
            "object_fit": null,
            "grid_auto_columns": null,
            "margin": null,
            "display": null,
            "left": null
          }
        },
        "78281b88dd05437295be09e53cc52d38": {
          "model_module": "@jupyter-widgets/controls",
          "model_name": "FloatProgressModel",
          "state": {
            "_view_name": "ProgressView",
            "style": "IPY_MODEL_98c8f1705190448d92de0e2dbf813db7",
            "_dom_classes": [],
            "description": "Downloading: 100%",
            "_model_name": "FloatProgressModel",
            "bar_style": "success",
            "max": 212420087,
            "_view_module": "@jupyter-widgets/controls",
            "_model_module_version": "1.5.0",
            "value": 212420087,
            "_view_count": null,
            "_view_module_version": "1.5.0",
            "orientation": "horizontal",
            "min": 0,
            "description_tooltip": null,
            "_model_module": "@jupyter-widgets/controls",
            "layout": "IPY_MODEL_8a0197c792ae47c39950bc67b95d5c63"
          }
        },
        "c776f6976128409bb7e481e6ddb68d11": {
          "model_module": "@jupyter-widgets/controls",
          "model_name": "HTMLModel",
          "state": {
            "_view_name": "HTMLView",
            "style": "IPY_MODEL_8afdaafef59b4c35873ef415656e7795",
            "_dom_classes": [],
            "description": "",
            "_model_name": "HTMLModel",
            "placeholder": "​",
            "_view_module": "@jupyter-widgets/controls",
            "_model_module_version": "1.5.0",
            "value": " 212M/212M [03:50&lt;00:00, 923kB/s]",
            "_view_count": null,
            "_view_module_version": "1.5.0",
            "description_tooltip": null,
            "_model_module": "@jupyter-widgets/controls",
            "layout": "IPY_MODEL_de69302d1fb0462c96ad2055731689c3"
          }
        },
        "98c8f1705190448d92de0e2dbf813db7": {
          "model_module": "@jupyter-widgets/controls",
          "model_name": "ProgressStyleModel",
          "state": {
            "_view_name": "StyleView",
            "_model_name": "ProgressStyleModel",
            "description_width": "initial",
            "_view_module": "@jupyter-widgets/base",
            "_model_module_version": "1.5.0",
            "_view_count": null,
            "_view_module_version": "1.2.0",
            "bar_color": null,
            "_model_module": "@jupyter-widgets/controls"
          }
        },
        "8a0197c792ae47c39950bc67b95d5c63": {
          "model_module": "@jupyter-widgets/base",
          "model_name": "LayoutModel",
          "state": {
            "_view_name": "LayoutView",
            "grid_template_rows": null,
            "right": null,
            "justify_content": null,
            "_view_module": "@jupyter-widgets/base",
            "overflow": null,
            "_model_module_version": "1.2.0",
            "_view_count": null,
            "flex_flow": null,
            "width": null,
            "min_width": null,
            "border": null,
            "align_items": null,
            "bottom": null,
            "_model_module": "@jupyter-widgets/base",
            "top": null,
            "grid_column": null,
            "overflow_y": null,
            "overflow_x": null,
            "grid_auto_flow": null,
            "grid_area": null,
            "grid_template_columns": null,
            "flex": null,
            "_model_name": "LayoutModel",
            "justify_items": null,
            "grid_row": null,
            "max_height": null,
            "align_content": null,
            "visibility": null,
            "align_self": null,
            "height": null,
            "min_height": null,
            "padding": null,
            "grid_auto_rows": null,
            "grid_gap": null,
            "max_width": null,
            "order": null,
            "_view_module_version": "1.2.0",
            "grid_template_areas": null,
            "object_position": null,
            "object_fit": null,
            "grid_auto_columns": null,
            "margin": null,
            "display": null,
            "left": null
          }
        },
        "8afdaafef59b4c35873ef415656e7795": {
          "model_module": "@jupyter-widgets/controls",
          "model_name": "DescriptionStyleModel",
          "state": {
            "_view_name": "StyleView",
            "_model_name": "DescriptionStyleModel",
            "description_width": "",
            "_view_module": "@jupyter-widgets/base",
            "_model_module_version": "1.5.0",
            "_view_count": null,
            "_view_module_version": "1.2.0",
            "_model_module": "@jupyter-widgets/controls"
          }
        },
        "de69302d1fb0462c96ad2055731689c3": {
          "model_module": "@jupyter-widgets/base",
          "model_name": "LayoutModel",
          "state": {
            "_view_name": "LayoutView",
            "grid_template_rows": null,
            "right": null,
            "justify_content": null,
            "_view_module": "@jupyter-widgets/base",
            "overflow": null,
            "_model_module_version": "1.2.0",
            "_view_count": null,
            "flex_flow": null,
            "width": null,
            "min_width": null,
            "border": null,
            "align_items": null,
            "bottom": null,
            "_model_module": "@jupyter-widgets/base",
            "top": null,
            "grid_column": null,
            "overflow_y": null,
            "overflow_x": null,
            "grid_auto_flow": null,
            "grid_area": null,
            "grid_template_columns": null,
            "flex": null,
            "_model_name": "LayoutModel",
            "justify_items": null,
            "grid_row": null,
            "max_height": null,
            "align_content": null,
            "visibility": null,
            "align_self": null,
            "height": null,
            "min_height": null,
            "padding": null,
            "grid_auto_rows": null,
            "grid_gap": null,
            "max_width": null,
            "order": null,
            "_view_module_version": "1.2.0",
            "grid_template_areas": null,
            "object_position": null,
            "object_fit": null,
            "grid_auto_columns": null,
            "margin": null,
            "display": null,
            "left": null
          }
        },
        "3fc2598a4b1044b88bd8e964d4a4a688": {
          "model_module": "@jupyter-widgets/controls",
          "model_name": "HBoxModel",
          "state": {
            "_view_name": "HBoxView",
            "_dom_classes": [],
            "_model_name": "HBoxModel",
            "_view_module": "@jupyter-widgets/controls",
            "_model_module_version": "1.5.0",
            "_view_count": null,
            "_view_module_version": "1.5.0",
            "box_style": "",
            "layout": "IPY_MODEL_a9821daaa8bc4ee2821c6ff69c31abe7",
            "_model_module": "@jupyter-widgets/controls",
            "children": [
              "IPY_MODEL_f0b260f5dc324d42953e63a378d8a6b0",
              "IPY_MODEL_6345e57b32ff4da986344758bc247d10"
            ]
          }
        },
        "a9821daaa8bc4ee2821c6ff69c31abe7": {
          "model_module": "@jupyter-widgets/base",
          "model_name": "LayoutModel",
          "state": {
            "_view_name": "LayoutView",
            "grid_template_rows": null,
            "right": null,
            "justify_content": null,
            "_view_module": "@jupyter-widgets/base",
            "overflow": null,
            "_model_module_version": "1.2.0",
            "_view_count": null,
            "flex_flow": null,
            "width": null,
            "min_width": null,
            "border": null,
            "align_items": null,
            "bottom": null,
            "_model_module": "@jupyter-widgets/base",
            "top": null,
            "grid_column": null,
            "overflow_y": null,
            "overflow_x": null,
            "grid_auto_flow": null,
            "grid_area": null,
            "grid_template_columns": null,
            "flex": null,
            "_model_name": "LayoutModel",
            "justify_items": null,
            "grid_row": null,
            "max_height": null,
            "align_content": null,
            "visibility": null,
            "align_self": null,
            "height": null,
            "min_height": null,
            "padding": null,
            "grid_auto_rows": null,
            "grid_gap": null,
            "max_width": null,
            "order": null,
            "_view_module_version": "1.2.0",
            "grid_template_areas": null,
            "object_position": null,
            "object_fit": null,
            "grid_auto_columns": null,
            "margin": null,
            "display": null,
            "left": null
          }
        },
        "f0b260f5dc324d42953e63a378d8a6b0": {
          "model_module": "@jupyter-widgets/controls",
          "model_name": "FloatProgressModel",
          "state": {
            "_view_name": "ProgressView",
            "style": "IPY_MODEL_c44445bb2cc844799c5a96114fa67f29",
            "_dom_classes": [],
            "description": "Downloading: 100%",
            "_model_name": "FloatProgressModel",
            "bar_style": "success",
            "max": 253217,
            "_view_module": "@jupyter-widgets/controls",
            "_model_module_version": "1.5.0",
            "value": 253217,
            "_view_count": null,
            "_view_module_version": "1.5.0",
            "orientation": "horizontal",
            "min": 0,
            "description_tooltip": null,
            "_model_module": "@jupyter-widgets/controls",
            "layout": "IPY_MODEL_88c8defacee84a819d3ee5e4203672a1"
          }
        },
        "6345e57b32ff4da986344758bc247d10": {
          "model_module": "@jupyter-widgets/controls",
          "model_name": "HTMLModel",
          "state": {
            "_view_name": "HTMLView",
            "style": "IPY_MODEL_0c0ab6e6497e491d9b9e5e5c9b9bd68f",
            "_dom_classes": [],
            "description": "",
            "_model_name": "HTMLModel",
            "placeholder": "​",
            "_view_module": "@jupyter-widgets/controls",
            "_model_module_version": "1.5.0",
            "value": " 253k/253k [00:10&lt;00:00, 24.0kB/s]",
            "_view_count": null,
            "_view_module_version": "1.5.0",
            "description_tooltip": null,
            "_model_module": "@jupyter-widgets/controls",
            "layout": "IPY_MODEL_16f90e19d3364709ad0ed9beccf83f1f"
          }
        },
        "c44445bb2cc844799c5a96114fa67f29": {
          "model_module": "@jupyter-widgets/controls",
          "model_name": "ProgressStyleModel",
          "state": {
            "_view_name": "StyleView",
            "_model_name": "ProgressStyleModel",
            "description_width": "initial",
            "_view_module": "@jupyter-widgets/base",
            "_model_module_version": "1.5.0",
            "_view_count": null,
            "_view_module_version": "1.2.0",
            "bar_color": null,
            "_model_module": "@jupyter-widgets/controls"
          }
        },
        "88c8defacee84a819d3ee5e4203672a1": {
          "model_module": "@jupyter-widgets/base",
          "model_name": "LayoutModel",
          "state": {
            "_view_name": "LayoutView",
            "grid_template_rows": null,
            "right": null,
            "justify_content": null,
            "_view_module": "@jupyter-widgets/base",
            "overflow": null,
            "_model_module_version": "1.2.0",
            "_view_count": null,
            "flex_flow": null,
            "width": null,
            "min_width": null,
            "border": null,
            "align_items": null,
            "bottom": null,
            "_model_module": "@jupyter-widgets/base",
            "top": null,
            "grid_column": null,
            "overflow_y": null,
            "overflow_x": null,
            "grid_auto_flow": null,
            "grid_area": null,
            "grid_template_columns": null,
            "flex": null,
            "_model_name": "LayoutModel",
            "justify_items": null,
            "grid_row": null,
            "max_height": null,
            "align_content": null,
            "visibility": null,
            "align_self": null,
            "height": null,
            "min_height": null,
            "padding": null,
            "grid_auto_rows": null,
            "grid_gap": null,
            "max_width": null,
            "order": null,
            "_view_module_version": "1.2.0",
            "grid_template_areas": null,
            "object_position": null,
            "object_fit": null,
            "grid_auto_columns": null,
            "margin": null,
            "display": null,
            "left": null
          }
        },
        "0c0ab6e6497e491d9b9e5e5c9b9bd68f": {
          "model_module": "@jupyter-widgets/controls",
          "model_name": "DescriptionStyleModel",
          "state": {
            "_view_name": "StyleView",
            "_model_name": "DescriptionStyleModel",
            "description_width": "",
            "_view_module": "@jupyter-widgets/base",
            "_model_module_version": "1.5.0",
            "_view_count": null,
            "_view_module_version": "1.2.0",
            "_model_module": "@jupyter-widgets/controls"
          }
        },
        "16f90e19d3364709ad0ed9beccf83f1f": {
          "model_module": "@jupyter-widgets/base",
          "model_name": "LayoutModel",
          "state": {
            "_view_name": "LayoutView",
            "grid_template_rows": null,
            "right": null,
            "justify_content": null,
            "_view_module": "@jupyter-widgets/base",
            "overflow": null,
            "_model_module_version": "1.2.0",
            "_view_count": null,
            "flex_flow": null,
            "width": null,
            "min_width": null,
            "border": null,
            "align_items": null,
            "bottom": null,
            "_model_module": "@jupyter-widgets/base",
            "top": null,
            "grid_column": null,
            "overflow_y": null,
            "overflow_x": null,
            "grid_auto_flow": null,
            "grid_area": null,
            "grid_template_columns": null,
            "flex": null,
            "_model_name": "LayoutModel",
            "justify_items": null,
            "grid_row": null,
            "max_height": null,
            "align_content": null,
            "visibility": null,
            "align_self": null,
            "height": null,
            "min_height": null,
            "padding": null,
            "grid_auto_rows": null,
            "grid_gap": null,
            "max_width": null,
            "order": null,
            "_view_module_version": "1.2.0",
            "grid_template_areas": null,
            "object_position": null,
            "object_fit": null,
            "grid_auto_columns": null,
            "margin": null,
            "display": null,
            "left": null
          }
        }
      }
    }
  },
  "cells": [
    {
      "cell_type": "markdown",
      "metadata": {
        "id": "4b5hBv16rclM"
      },
      "source": [
        "# Actividad Integradora 2"
      ]
    },
    {
      "cell_type": "code",
      "metadata": {
        "id": "nTOJu6-srclP"
      },
      "source": [
        "!pip install praw"
      ],
      "execution_count": null,
      "outputs": []
    },
    {
      "cell_type": "markdown",
      "metadata": {
        "id": "lz1E1nWqDIvh"
      },
      "source": [
        "## Investiguen e incorporen una base de datos que tenga texto etiquetado como positivo o negativo. (10 puntos)"
      ]
    },
    {
      "cell_type": "code",
      "metadata": {
        "id": "sDwgFMFyJvGy"
      },
      "source": [
        "import nltk\n",
        "import random\n",
        "from nltk.classify.scikitlearn import SklearnClassifier\n",
        "import pickle\n",
        "from sklearn.naive_bayes import MultinomialNB, BernoulliNB\n",
        "from sklearn.linear_model import LogisticRegression, SGDClassifier\n",
        "from sklearn.svm import SVC, LinearSVC, NuSVC\n",
        "from nltk.classify import ClassifierI\n",
        "from statistics import mode\n",
        "from nltk.tokenize import word_tokenize\n",
        "import numpy as np\n",
        "import pandas as pd\n",
        "import seaborn as sns\n",
        "import matplotlib.pyplot as plt"
      ],
      "execution_count": 35,
      "outputs": []
    },
    {
      "cell_type": "code",
      "metadata": {
        "id": "QD6ibrw9rclQ",
        "outputId": "b03f1307-c52a-4a7c-c2e4-a907b40dbd97"
      },
      "source": [
        "class VoteClassifier(ClassifierI):\n",
        "    def __init__(self, *classifiers):\n",
        "        self._classifiers = classifiers\n",
        "\n",
        "    def classify(self, features):\n",
        "        votes = []\n",
        "        for c in self._classifiers:\n",
        "            v = c.classify(features)\n",
        "            votes.append(v)\n",
        "        return mode(votes)\n",
        "\n",
        "    def confidence(self, features):\n",
        "        votes = []\n",
        "        for c in self._classifiers:\n",
        "            v = c.classify(features)\n",
        "            votes.append(v)\n",
        "\n",
        "        choice_votes = votes.count(mode(votes))\n",
        "        conf = choice_votes / len(votes)\n",
        "        return conf\n",
        "\n",
        "\n",
        "short_pos = open(\"short_reviews/positive.txt\", \"r\").read()\n",
        "short_neg = open(\"short_reviews/negative.txt\", \"r\").read()\n",
        "\n",
        "\n",
        "all_words = []\n",
        "documents = []\n",
        "\n",
        "\n",
        "allowed_word_types = [\"J\"]\n",
        "\n",
        "for p in short_pos.split('\\n'):\n",
        "    documents.append((p, \"pos\"))\n",
        "    words = word_tokenize(p)\n",
        "    pos = nltk.pos_tag(words)\n",
        "    for w in pos:\n",
        "        if w[1][0] in allowed_word_types:\n",
        "            all_words.append(w[0].lower())\n",
        "\n",
        "for p in short_neg.split('\\n'):\n",
        "    documents.append((p, \"neg\"))\n",
        "    words = word_tokenize(p)\n",
        "    pos = nltk.pos_tag(words)\n",
        "    for w in pos:\n",
        "        if w[1][0] in allowed_word_types:\n",
        "            all_words.append(w[0].lower())\n",
        "            \n",
        "all_words = nltk.FreqDist(all_words)\n",
        "\n",
        "word_features = list(all_words.keys())[:5000]\n",
        "\n",
        "def find_features(document):\n",
        "    words = word_tokenize(document)\n",
        "    features = {}\n",
        "    for w in word_features:\n",
        "        features[w] = (w in words)\n",
        "\n",
        "    return features\n",
        "\n",
        "\n",
        "featuresets = [(find_features(rev), category) for (rev, category) in documents]\n",
        "\n",
        "random.shuffle(featuresets)\n",
        "print(len(featuresets))\n",
        "\n",
        "testing_set = featuresets[10000:]\n",
        "training_set = featuresets[:10000]"
      ],
      "execution_count": null,
      "outputs": [
        {
          "output_type": "stream",
          "text": [
            "10664\n"
          ],
          "name": "stdout"
        }
      ]
    },
    {
      "cell_type": "code",
      "metadata": {
        "id": "dJD4bnR-rclS",
        "outputId": "2dcbf9b7-3c00-4349-8746-c66ef6202e40"
      },
      "source": [
        "BernoulliNB_classifier = SklearnClassifier(BernoulliNB())\n",
        "BernoulliNB_classifier.train(training_set)\n",
        "print(\"BernoulliNB_classifier accuracy percent:\", (nltk.classify.accuracy(BernoulliNB_classifier, testing_set)) * 100)\n",
        "\n",
        "save_classifier = open(\"pickled_algos/BernoulliNB_classifier5k.pickle\", \"wb\")\n",
        "pickle.dump(BernoulliNB_classifier, save_classifier)\n",
        "save_classifier.close()"
      ],
      "execution_count": null,
      "outputs": [
        {
          "output_type": "stream",
          "text": [
            "BernoulliNB_classifier accuracy percent: 73.94578313253012\n"
          ],
          "name": "stdout"
        }
      ]
    },
    {
      "cell_type": "code",
      "metadata": {
        "id": "ZA3Y42jyrclS",
        "outputId": "a44f5ff7-a3e9-49ac-cc55-247577498a0d"
      },
      "source": [
        "LogisticRegression_classifier = SklearnClassifier(LogisticRegression())\n",
        "LogisticRegression_classifier.train(training_set)\n",
        "print(\"LogisticRegression_classifier accuracy percent:\", (nltk.classify.accuracy(LogisticRegression_classifier, testing_set)) * 100)\n",
        "\n",
        "save_classifier = open(\"pickled_algos/LogisticRegression_classifier5k.pickle\", \"wb\")\n",
        "pickle.dump(LogisticRegression_classifier, save_classifier)\n",
        "save_classifier.close()"
      ],
      "execution_count": null,
      "outputs": [
        {
          "output_type": "stream",
          "text": [
            "LogisticRegression_classifier accuracy percent: 69.87951807228916\n"
          ],
          "name": "stdout"
        }
      ]
    },
    {
      "cell_type": "code",
      "metadata": {
        "id": "Kgf_-sd_rclT",
        "outputId": "96d33b92-345c-41d5-f813-50b57773bde2"
      },
      "source": [
        "LinearSVC_classifier = SklearnClassifier(LinearSVC())\n",
        "LinearSVC_classifier.train(training_set)\n",
        "print(\"LinearSVC_classifier accuracy percent:\", (nltk.classify.accuracy(LinearSVC_classifier, testing_set)) * 100)\n",
        "\n",
        "save_classifier = open(\"pickled_algos/LinearSVC_classifier5k.pickle\", \"wb\")\n",
        "pickle.dump(LinearSVC_classifier, save_classifier)\n",
        "save_classifier.close()"
      ],
      "execution_count": null,
      "outputs": [
        {
          "output_type": "stream",
          "text": [
            "LinearSVC_classifier accuracy percent: 69.27710843373494\n"
          ],
          "name": "stdout"
        }
      ]
    },
    {
      "cell_type": "code",
      "metadata": {
        "id": "aCv-jiJSrclT",
        "outputId": "54cee9f3-64e4-40d4-91f1-91a172a858cd"
      },
      "source": [
        "SGDC_classifier = SklearnClassifier(SGDClassifier())\n",
        "SGDC_classifier.train(training_set)\n",
        "print(\"SGDClassifier accuracy percent:\", nltk.classify.accuracy(SGDC_classifier, testing_set) * 100)\n",
        "\n",
        "save_classifier = open(\"pickled_algos/SGDC_classifier5k.pickle\", \"wb\")\n",
        "pickle.dump(SGDC_classifier, save_classifier)\n",
        "save_classifier.close()"
      ],
      "execution_count": null,
      "outputs": [
        {
          "output_type": "stream",
          "text": [
            "SGDClassifier accuracy percent: 68.07228915662651\n"
          ],
          "name": "stdout"
        }
      ]
    },
    {
      "cell_type": "code",
      "metadata": {
        "id": "gtU-qCcerclU",
        "outputId": "8e6026c6-53ab-43bf-f8a4-9cba5e7dcfac"
      },
      "source": [
        "classifier = nltk.NaiveBayesClassifier.train(training_set)\n",
        "print(\"Original Naive Bayes Algo accuracy percent:\", (nltk.classify.accuracy(classifier, testing_set))*100)\n",
        "classifier.show_most_informative_features(15)\n",
        "\n",
        "###############\n",
        "save_classifier = open(\"pickled_algos/originalnaivebayes5k.pickle\",\"wb\")\n",
        "pickle.dump(classifier, save_classifier)\n",
        "save_classifier.close()"
      ],
      "execution_count": null,
      "outputs": [
        {
          "output_type": "stream",
          "text": [
            "Original Naive Bayes Algo accuracy percent: 72.7409638554217\n",
            "Most Informative Features\n",
            "                  boring = True              neg : pos    =     20.7 : 1.0\n",
            "              engrossing = True              pos : neg    =     18.9 : 1.0\n",
            "                 generic = True              neg : pos    =     16.4 : 1.0\n",
            "                mediocre = True              neg : pos    =     16.4 : 1.0\n",
            "                    loud = True              neg : pos    =     15.8 : 1.0\n",
            "                    flat = True              neg : pos    =     15.1 : 1.0\n",
            "              delightful = True              pos : neg    =     14.9 : 1.0\n",
            "                 routine = True              neg : pos    =     14.4 : 1.0\n",
            "               inventive = True              pos : neg    =     14.2 : 1.0\n",
            "                  unique = True              pos : neg    =     13.6 : 1.0\n",
            "              refreshing = True              pos : neg    =     12.3 : 1.0\n",
            "               wonderful = True              pos : neg    =     12.1 : 1.0\n",
            "                mindless = True              neg : pos    =     11.7 : 1.0\n",
            "                   stale = True              neg : pos    =     11.7 : 1.0\n",
            "                    warm = True              pos : neg    =     11.7 : 1.0\n"
          ],
          "name": "stdout"
        }
      ]
    },
    {
      "cell_type": "code",
      "metadata": {
        "id": "HMk_AroSrclU",
        "outputId": "e6464208-0122-4af0-da12-98a8382e7d9e"
      },
      "source": [
        "MNB_classifier = SklearnClassifier(MultinomialNB())\n",
        "MNB_classifier.train(training_set)\n",
        "print(\"MNB_classifier accuracy percent:\", (nltk.classify.accuracy(MNB_classifier, testing_set)) * 100)\n",
        "\n",
        "save_classifier = open(\"pickled_algos/MNB_classifier5k.pickle\", \"wb\")\n",
        "pickle.dump(MNB_classifier, save_classifier)\n",
        "save_classifier.close()"
      ],
      "execution_count": null,
      "outputs": [
        {
          "output_type": "stream",
          "text": [
            "MNB_classifier accuracy percent: 71.23493975903614\n"
          ],
          "name": "stdout"
        }
      ]
    },
    {
      "cell_type": "code",
      "metadata": {
        "id": "LHaFCnkXrclV",
        "outputId": "b602f399-7db6-4ee2-ec69-75fbe6445a0c"
      },
      "source": [
        "voted_classifier = VoteClassifier(\n",
        "    classifier,\n",
        "    LinearSVC_classifier,\n",
        "    MNB_classifier,\n",
        "    BernoulliNB_classifier,\n",
        "    LogisticRegression_classifier)\n",
        "\n",
        "print(\"voted_classifier accuracy percent:\", (nltk.classify.accuracy(voted_classifier, testing_set)) * 100)\n",
        "\n",
        "\n",
        "def sentiment(text):\n",
        "    feats = find_features(text)\n",
        "\n",
        "    return voted_classifier.classify(feats)\n"
      ],
      "execution_count": null,
      "outputs": [
        {
          "output_type": "stream",
          "text": [
            "voted_classifier accuracy percent: 73.19277108433735\n"
          ],
          "name": "stdout"
        }
      ]
    },
    {
      "cell_type": "code",
      "metadata": {
        "colab": {
          "base_uri": "https://localhost:8080/"
        },
        "id": "MC4VdrCXLcfG",
        "outputId": "a4e7842b-1530-4fc8-b1c8-aba95b364fee"
      },
      "source": [
        "nltk.download('punkt')"
      ],
      "execution_count": 6,
      "outputs": [
        {
          "output_type": "stream",
          "text": [
            "[nltk_data] Downloading package punkt to /root/nltk_data...\n",
            "[nltk_data]   Package punkt is already up-to-date!\n"
          ],
          "name": "stdout"
        },
        {
          "output_type": "execute_result",
          "data": {
            "text/plain": [
              "True"
            ]
          },
          "metadata": {
            "tags": []
          },
          "execution_count": 6
        }
      ]
    },
    {
      "cell_type": "code",
      "metadata": {
        "id": "FNiQcfuvrclW"
      },
      "source": [
        "import tweepy\n",
        "from tweepy import Stream\n",
        "from tweepy import OAuthHandler\n",
        "from tweepy.streaming import StreamListener\n",
        "import json\n",
        "import sentiment_mod as s\n",
        "\n",
        "#consumer key, consumer secret, access token, access secret.\n",
        "ckey=\"...\"\n",
        "csecret=\"...\"\n",
        "atoken=\".....\"\n",
        "asecret=\".....\"\n",
        "\n",
        "class listener(StreamListener):\n",
        "\n",
        "    def on_data(self, data):\n",
        "          all_data = json.loads(data)\n",
        "\n",
        "          tweet = all_data[\"text\"]\n",
        "          sentiment_value, confidence = s.sentiment(tweet)\n",
        "        \n",
        "          print('\\n')\n",
        "          print(tweet)\n",
        "          print('\\n')\n",
        "          print(\"******************************\")\n",
        "          print('\\n')\n",
        "          print(sentiment_value, confidence)\n",
        "          print('\\n')\n",
        "          print(\"=======================================================================\")\n",
        "          print('\\n')\n",
        "          \n",
        "          if confidence*100 >= 80:\n",
        "              output = open(\"twitter-out.txt\",\"a\")\n",
        "              output.write(sentiment_value)\n",
        "              output.write('\\n')\n",
        "              output.close()\n",
        "\n",
        "          return True\n",
        "\n",
        "    def on_error(self, status):\n",
        "        print(status)\n"
      ],
      "execution_count": 7,
      "outputs": []
    },
    {
      "cell_type": "code",
      "metadata": {
        "id": "szpStuOZKBrd"
      },
      "source": [
        "class listener(StreamListener):\n",
        "\n",
        "    def on_data(self, data):\n",
        "        \n",
        "        all_data = json.loads(data)\n",
        "\n",
        "        tweet = all_data[\"text\"]\n",
        "        sentiment_value, confidence = s.sentiment(tweet)\n",
        "        print(tweet, sentiment_value, confidence)\n",
        "        \n",
        "        if confidence*100 >= 80:\n",
        "            output = open(\"twitter-out.txt\",\"a\")\n",
        "            output.write(sentiment_value)\n",
        "            output.write('\\n')\n",
        "            output.close()\n",
        "\n",
        "        return True\n",
        "\n",
        "    def on_error(self, status):\n",
        "        print(status)"
      ],
      "execution_count": null,
      "outputs": []
    },
    {
      "cell_type": "code",
      "metadata": {
        "id": "fEg6c3ZLJDMk"
      },
      "source": [
        "auth = OAuthHandler(ckey, csecret)\n",
        "auth.set_access_token(atoken, asecret)"
      ],
      "execution_count": 8,
      "outputs": []
    },
    {
      "cell_type": "code",
      "metadata": {
        "colab": {
          "base_uri": "https://localhost:8080/",
          "height": 1000
        },
        "id": "cyPvQfLQIJFW",
        "outputId": "ab4991b7-d062-4bd4-cc54-942e83d8d403"
      },
      "source": [
        "twitterStream = Stream(auth, listener())\n",
        "twitterStream.filter(track=[\"covid\"])"
      ],
      "execution_count": 9,
      "outputs": [
        {
          "output_type": "stream",
          "text": [
            "\n",
            "\n",
            "RT @javi_montoro: Lo de Miguel Bosé ha pasado ya de ser la opinión de un friki a un problema de salud pública. Si en vez de salir diciendo…\n",
            "\n",
            "\n",
            "******************************\n",
            "\n",
            "\n",
            "pos 0.6\n",
            "\n",
            "\n",
            "=======================================================================\n",
            "\n",
            "\n",
            "\n",
            "\n",
            "RT @RonnieMotes8: @GOPLeader And this was months ago\n",
            "https://t.co/HjGtzExesD\n",
            "COVID-19 has hit people in Republican-led states hardest ... h…\n",
            "\n",
            "\n",
            "******************************\n",
            "\n",
            "\n",
            "neg 0.8\n",
            "\n",
            "\n",
            "=======================================================================\n",
            "\n",
            "\n",
            "\n",
            "\n",
            "@Claudiashein @fDiIntelligence Cuánto más tiempo piensas esperar para actuar el 30 %de mis amigos ya tienen COVID.… https://t.co/zJtRHqw6Zk\n",
            "\n",
            "\n",
            "******************************\n",
            "\n",
            "\n",
            "pos 0.8\n",
            "\n",
            "\n",
            "=======================================================================\n",
            "\n",
            "\n",
            "\n",
            "\n",
            "Roll on Saturday in Leeds 🤣🤣\n",
            "\n",
            "\n",
            "******************************\n",
            "\n",
            "\n",
            "neg 0.8\n",
            "\n",
            "\n",
            "=======================================================================\n",
            "\n",
            "\n",
            "\n",
            "\n",
            "RT @delfinocrc: ÚLTIMA HORA: CCSS ordena apertura generalizada de vacunación contra COVID-19 a personas de 30 años en adelante, con o sin r…\n",
            "\n",
            "\n",
            "******************************\n",
            "\n",
            "\n",
            "pos 1.0\n",
            "\n",
            "\n",
            "=======================================================================\n",
            "\n",
            "\n",
            "\n",
            "\n",
            "@RunninXC @ihatejohncronce @franke224 @SethWalder Without COVID those people would not have died. People live with… https://t.co/jRsSGfiubf\n",
            "\n",
            "\n",
            "******************************\n",
            "\n",
            "\n",
            "neg 0.8\n",
            "\n",
            "\n",
            "=======================================================================\n",
            "\n",
            "\n",
            "\n",
            "\n",
            "Over 80% of soldiers on South Korean warship test positive for COVID-19 https://t.co/rr4So7wg9h\n",
            "\n",
            "\n",
            "******************************\n",
            "\n",
            "\n",
            "pos 1.0\n",
            "\n",
            "\n",
            "=======================================================================\n",
            "\n",
            "\n",
            "\n",
            "\n",
            "RT @calvinrobinson: This man has to go.\n",
            "\n",
            "I don't see how any freedom-loving Conservative can continue to back him at this point.\n",
            "\n",
            "He has co…\n",
            "\n",
            "\n",
            "******************************\n",
            "\n",
            "\n",
            "neg 1.0\n",
            "\n",
            "\n",
            "=======================================================================\n",
            "\n",
            "\n",
            "\n",
            "\n",
            "RT @paulofilippus: Observem como está sendo a QUARENTENA FORÇADA na China, enquanto escondem do resto do mundo a realidade\n",
            "\n",
            "Pessoas PRESAS…\n",
            "\n",
            "\n",
            "******************************\n",
            "\n",
            "\n",
            "pos 1.0\n",
            "\n",
            "\n",
            "=======================================================================\n",
            "\n",
            "\n",
            "\n",
            "\n",
            "RT @KellDA: Ok here’s the deal and no malarkey. I was fully vaxxed and got Covid. It was pretty bad. I was the first in my county to have a…\n",
            "\n",
            "\n",
            "******************************\n",
            "\n",
            "\n",
            "neg 1.0\n",
            "\n",
            "\n",
            "=======================================================================\n",
            "\n",
            "\n",
            "\n",
            "\n",
            "RT @chicksonright: Clone him 49 times. https://t.co/OKAHUBoV7u\n",
            "\n",
            "\n",
            "******************************\n",
            "\n",
            "\n",
            "neg 0.8\n",
            "\n",
            "\n",
            "=======================================================================\n",
            "\n",
            "\n",
            "\n",
            "\n",
            "@Facts21The @samanthamarika1 You don’t know how deadly Covid actually is do you?😂\n",
            "Because it really isn’t that dead… https://t.co/N49n6kKjPf\n",
            "\n",
            "\n",
            "******************************\n",
            "\n",
            "\n",
            "neg 1.0\n",
            "\n",
            "\n",
            "=======================================================================\n",
            "\n",
            "\n",
            "\n",
            "\n",
            "RT @mariekehardy: ok, we have a number.  Not disastrous, not amazing.  Sending love to those now attempting to focus on work for the day.…\n",
            "\n",
            "\n",
            "******************************\n",
            "\n",
            "\n",
            "pos 1.0\n",
            "\n",
            "\n",
            "=======================================================================\n",
            "\n",
            "\n",
            "\n",
            "\n",
            "RT @jornalhojeemdia: Santa Casa de BH redireciona 69% dos leitos de Covid-19 para pacientes com outras doenças\n",
            "https://t.co/b1bSqt3icU\n",
            "\n",
            "\n",
            "******************************\n",
            "\n",
            "\n",
            "pos 1.0\n",
            "\n",
            "\n",
            "=======================================================================\n",
            "\n",
            "\n",
            "\n",
            "\n",
            "Tienen que pedirle permiso a @NuestraCruzada \n",
            "\n",
            "#LosCruzados\n",
            "\n",
            "\n",
            "******************************\n",
            "\n",
            "\n",
            "pos 0.6\n",
            "\n",
            "\n",
            "=======================================================================\n",
            "\n",
            "\n",
            "\n",
            "\n",
            "RT @manilabulletin: Health Secretary Francisco Duque III believes the Philippines situation is much better compared to other ASEAN countrie…\n",
            "\n",
            "\n",
            "******************************\n",
            "\n",
            "\n",
            "neg 1.0\n",
            "\n",
            "\n",
            "=======================================================================\n",
            "\n",
            "\n",
            "\n",
            "\n",
            "@brittterssss immune system, for ex: the black fungus problem in india that is spreading and targeting mostly covid… https://t.co/BcovhTf2kT\n",
            "\n",
            "\n",
            "******************************\n",
            "\n",
            "\n",
            "neg 0.6\n",
            "\n",
            "\n",
            "=======================================================================\n",
            "\n",
            "\n",
            "\n",
            "\n",
            "RT @The_Endie: Sesetengah org fikir kalau komplen pasal staff kesihatan cucuk angin ni benda remeh. Bayangkan parents kau yg tua tu dah lam…\n",
            "\n",
            "\n",
            "******************************\n",
            "\n",
            "\n",
            "pos 0.8\n",
            "\n",
            "\n",
            "=======================================================================\n",
            "\n",
            "\n",
            "\n",
            "\n",
            "RT @heidimur: 13\n",
            "FOUR known about from yesterday.. \n",
            "Of the total of 13 - 12 have been linked to the current outbreaks.\n",
            "One is under investi…\n",
            "\n",
            "\n",
            "******************************\n",
            "\n",
            "\n",
            "neg 0.8\n",
            "\n",
            "\n",
            "=======================================================================\n",
            "\n",
            "\n",
            "\n",
            "\n",
            "@Posixart @DanielArabian @Ryan_Ahn26 @SportsCenter You'll keep twisting that google search result thinking it's pro… https://t.co/IOglj6GnTS\n",
            "\n",
            "\n",
            "******************************\n",
            "\n",
            "\n",
            "neg 0.8\n",
            "\n",
            "\n",
            "=======================================================================\n",
            "\n",
            "\n",
            "\n",
            "\n",
            "RT @Diego__RS: Una vez más, el secretario de la Presidencia @AlvaroDelgadoUy, transmitió claridad y compromiso del gobierno para salir de l…\n",
            "\n",
            "\n",
            "******************************\n",
            "\n",
            "\n",
            "pos 1.0\n",
            "\n",
            "\n",
            "=======================================================================\n",
            "\n",
            "\n",
            "\n",
            "\n",
            "RT @nrlizzhmhd: Ya Allah tamatkanlah segera wabak Covid 19 ini agar kami dapat kembali hidup seperti sedia kala bekerja, beribadah di masji…\n",
            "\n",
            "\n",
            "******************************\n",
            "\n",
            "\n",
            "neg 0.8\n",
            "\n",
            "\n",
            "=======================================================================\n",
            "\n",
            "\n",
            "\n",
            "\n",
            "Potemkin, not Chernobyl.\n",
            "It's all theatre for gullible Westerners. #unrestrictedwarfare #bioattack\n",
            "https://t.co/Q9ut5jFwHv\n",
            "\n",
            "\n",
            "******************************\n",
            "\n",
            "\n",
            "pos 0.8\n",
            "\n",
            "\n",
            "=======================================================================\n",
            "\n",
            "\n",
            "\n",
            "\n",
            "RT @BarVBarbis: Me vacuné sin haber tenido covid es como llegar Virgen al matrimonio\n",
            "\n",
            "\n",
            "******************************\n",
            "\n",
            "\n",
            "pos 1.0\n",
            "\n",
            "\n",
            "=======================================================================\n",
            "\n",
            "\n",
            "\n",
            "\n",
            "RT @Gavarnos: @Dr2NisreenAlwan Many I know who still don’t feel right after over a year post Covid would say he’s talking sh1te.  Though as…\n",
            "\n",
            "\n",
            "******************************\n",
            "\n",
            "\n",
            "pos 1.0\n",
            "\n",
            "\n",
            "=======================================================================\n",
            "\n",
            "\n",
            "\n",
            "\n",
            "RT @_NOMICS: This click bait is INSANE\n",
            "\n",
            "He misspoke and corrected himself. 60% of people admitted to hospital are unvaccinated\n",
            "\n",
            "\n",
            "******************************\n",
            "\n",
            "\n",
            "neg 1.0\n",
            "\n",
            "\n",
            "=======================================================================\n",
            "\n",
            "\n",
            "\n",
            "\n",
            "RT @DrTomFrieden: The most certain way not to get long Covid is not to get Covid. The most certain way to not get Covid is to get vaccinate…\n",
            "\n",
            "\n",
            "******************************\n",
            "\n",
            "\n",
            "pos 1.0\n",
            "\n",
            "\n",
            "=======================================================================\n",
            "\n",
            "\n",
            "\n",
            "\n",
            "Cool Motorcycles Covid mask. @chileantrooperx.cl #mask #helmet #motorcycle #oldschool #noclub #lonerider #lonewolf https://t.co/pudllmFtIK\n",
            "\n",
            "\n",
            "******************************\n",
            "\n",
            "\n",
            "neg 0.8\n",
            "\n",
            "\n",
            "=======================================================================\n",
            "\n",
            "\n",
            "\n",
            "\n",
            "RT @queenjoheen: Athletes to sleep on 'anti-sex' cardboard beds at Olympic Games amid COVID https://t.co/7cREn50gnz\n",
            "\n",
            "\n",
            "******************************\n",
            "\n",
            "\n",
            "neg 1.0\n",
            "\n",
            "\n",
            "=======================================================================\n",
            "\n",
            "\n",
            "\n",
            "\n",
            "So my mom and her cousin are trying to convince me to get the COVID shot smh they have CNN or whatever national new… https://t.co/ODcrRH5saP\n",
            "\n",
            "\n",
            "******************************\n",
            "\n",
            "\n",
            "neg 0.6\n",
            "\n",
            "\n",
            "=======================================================================\n",
            "\n",
            "\n",
            "\n",
            "\n",
            "RT @gersonsalvador: Proxalutamida é uma droga experimental, proposta para tratar câncer de próstata, ainda sem aprovação definitiva mesmo p…\n",
            "\n",
            "\n",
            "******************************\n",
            "\n",
            "\n",
            "pos 1.0\n",
            "\n",
            "\n",
            "=======================================================================\n",
            "\n",
            "\n",
            "\n",
            "\n",
            "RT @S_SERCHPOWER: Muy grave, seguramente están ya en centro américa.\n",
            "#LigaDeGuerreros\n",
            "\n",
            "\n",
            "******************************\n",
            "\n",
            "\n",
            "neg 1.0\n",
            "\n",
            "\n",
            "=======================================================================\n",
            "\n",
            "\n",
            "\n",
            "\n",
            "Graças a Deus 🙏🙌\n",
            "\n",
            "\n",
            "******************************\n",
            "\n",
            "\n",
            "neg 0.8\n",
            "\n",
            "\n",
            "=======================================================================\n",
            "\n",
            "\n",
            "\n",
            "\n",
            "A male in his 60s who was not vaccinated. \n",
            "\n",
            "No excuse for this.\n",
            "\n",
            "\n",
            "******************************\n",
            "\n",
            "\n",
            "neg 1.0\n",
            "\n",
            "\n",
            "=======================================================================\n",
            "\n",
            "\n",
            "\n",
            "\n",
            "RT @JTRocker99: Someone throw a rock at him.\n",
            "\n",
            "\n",
            "******************************\n",
            "\n",
            "\n",
            "neg 0.8\n",
            "\n",
            "\n",
            "=======================================================================\n",
            "\n",
            "\n",
            "\n",
            "\n",
            "@jacindaardern Your remark that Covid facts can only come from your government is the essence of what Orwell prophe… https://t.co/UkEsJr4tpX\n",
            "\n",
            "\n",
            "******************************\n",
            "\n",
            "\n",
            "neg 1.0\n",
            "\n",
            "\n",
            "=======================================================================\n",
            "\n",
            "\n",
            "\n",
            "\n",
            "RT @MichaelPSenger: \"Macron has been forced into a humiliating U-turn after mass protests sparked over the introduction of the controversia…\n",
            "\n",
            "\n",
            "******************************\n",
            "\n",
            "\n",
            "neg 1.0\n",
            "\n",
            "\n",
            "=======================================================================\n",
            "\n",
            "\n",
            "\n",
            "\n",
            "@YvetteJacqR @gclt5 @smackmom25 @GeraldoRivera @DebraMessing Dr Mike Yeadon – “Children are 50 times more likely to… https://t.co/XoMwae5VSu\n",
            "\n",
            "\n",
            "******************************\n",
            "\n",
            "\n",
            "neg 1.0\n",
            "\n",
            "\n",
            "=======================================================================\n",
            "\n",
            "\n",
            "\n",
            "\n",
            "RT @JTrianaT: Al gobierno se le perdieron 19 millones de vacunas en plena pandemia, así casual.\n",
            "\n",
            "No sirven para maldita sea la cosa, y toda…\n",
            "\n",
            "\n",
            "******************************\n",
            "\n",
            "\n",
            "pos 1.0\n",
            "\n",
            "\n",
            "=======================================================================\n",
            "\n",
            "\n",
            "\n",
            "\n",
            "RT @StarAdvertiser: Stocks skid as COVID-19 fears shake markets; Dow falls 2.1% #StockMarket https://t.co/r4mHNkJoLP https://t.co/uHDCMSsev8\n",
            "\n",
            "\n",
            "******************************\n",
            "\n",
            "\n",
            "neg 0.8\n",
            "\n",
            "\n",
            "=======================================================================\n",
            "\n",
            "\n",
            "\n",
            "\n",
            "RT @realTuckFrumper: Utah’s GOP Governor Spencer Cox Says Fox is Killing People With COVID Propaganda https://t.co/iECT0CxlpD\n",
            "\n",
            "\n",
            "******************************\n",
            "\n",
            "\n",
            "pos 1.0\n",
            "\n",
            "\n",
            "=======================================================================\n",
            "\n",
            "\n",
            "\n",
            "\n",
            "@samanthamarika1 https://t.co/K7UfM3RdTJ\n",
            "\n",
            "\n",
            "******************************\n",
            "\n",
            "\n",
            "neg 0.8\n",
            "\n",
            "\n",
            "=======================================================================\n",
            "\n",
            "\n",
            "\n",
            "\n",
            "RT @SarahMackAttack: My vaccinated friend just tested positive for covid and feels like garbage. You already knew to keep those masks on bu…\n",
            "\n",
            "\n",
            "******************************\n",
            "\n",
            "\n",
            "neg 0.8\n",
            "\n",
            "\n",
            "=======================================================================\n",
            "\n",
            "\n",
            "\n",
            "\n",
            "RT @ActualidadRT: Este 19 de julio, una fuente oficial del Ministerio del Interior de Arabia Saudita anunció que recibir la segunda dosis d…\n",
            "\n",
            "\n",
            "******************************\n",
            "\n",
            "\n",
            "pos 0.6\n",
            "\n",
            "\n",
            "=======================================================================\n",
            "\n",
            "\n",
            "\n",
            "\n",
            "UKM hospital denies rumours of out-of-control Covid-19 outbreak\n",
            "\n",
            "https://t.co/X6HLpTDx6y\n",
            "\n",
            "#eNewsMalaysia… https://t.co/ocIQEKg33r\n",
            "\n",
            "\n",
            "******************************\n",
            "\n",
            "\n",
            "neg 0.8\n",
            "\n",
            "\n",
            "=======================================================================\n",
            "\n",
            "\n",
            "\n",
            "\n",
            "@ecartelera La estrenaron en Disney+ y COVID 😓 es de entenderse\n",
            "\n",
            "\n",
            "******************************\n",
            "\n",
            "\n",
            "pos 1.0\n",
            "\n",
            "\n",
            "=======================================================================\n",
            "\n",
            "\n",
            "\n",
            "\n",
            "RT @CarolineLucas: 😲 when safety demands clarity, we get a masterclass in mixed messages from @nadhimzahawi who just said all of the follow…\n",
            "\n",
            "\n",
            "******************************\n",
            "\n",
            "\n",
            "neg 1.0\n",
            "\n",
            "\n",
            "=======================================================================\n",
            "\n",
            "\n",
            "\n",
            "\n",
            "RT @DrCSWilliam: I woke up and feel like shit after seeing &gt; 60 ppl with COVID symptoms in the last 48 hrs\n",
            "\n",
            "Headache, Runny nose, my body h…\n",
            "\n",
            "\n",
            "******************************\n",
            "\n",
            "\n",
            "neg 1.0\n",
            "\n",
            "\n",
            "=======================================================================\n",
            "\n",
            "\n",
            "\n",
            "\n",
            "RT @WalhallaMann: 101955 argentinos muertos por COVID, equivalen a 156 GUERRAS DE MALVINAS.\n",
            "\n",
            "No controlaron Ezeiza.\n",
            "No testearon.\n",
            "No trajer…\n",
            "\n",
            "\n",
            "******************************\n",
            "\n",
            "\n",
            "neg 0.8\n",
            "\n",
            "\n",
            "=======================================================================\n",
            "\n",
            "\n"
          ],
          "name": "stdout"
        },
        {
          "output_type": "error",
          "ename": "KeyboardInterrupt",
          "evalue": "ignored",
          "traceback": [
            "\u001b[0;31m---------------------------------------------------------------------------\u001b[0m",
            "\u001b[0;31mKeyboardInterrupt\u001b[0m                         Traceback (most recent call last)",
            "\u001b[0;32m<ipython-input-9-327afa1acebc>\u001b[0m in \u001b[0;36m<module>\u001b[0;34m()\u001b[0m\n\u001b[1;32m      1\u001b[0m \u001b[0mtwitterStream\u001b[0m \u001b[0;34m=\u001b[0m \u001b[0mStream\u001b[0m\u001b[0;34m(\u001b[0m\u001b[0mauth\u001b[0m\u001b[0;34m,\u001b[0m \u001b[0mlistener\u001b[0m\u001b[0;34m(\u001b[0m\u001b[0;34m)\u001b[0m\u001b[0;34m)\u001b[0m\u001b[0;34m\u001b[0m\u001b[0;34m\u001b[0m\u001b[0m\n\u001b[0;32m----> 2\u001b[0;31m \u001b[0mtwitterStream\u001b[0m\u001b[0;34m.\u001b[0m\u001b[0mfilter\u001b[0m\u001b[0;34m(\u001b[0m\u001b[0mtrack\u001b[0m\u001b[0;34m=\u001b[0m\u001b[0;34m[\u001b[0m\u001b[0;34m\"covid\"\u001b[0m\u001b[0;34m]\u001b[0m\u001b[0;34m)\u001b[0m\u001b[0;34m\u001b[0m\u001b[0;34m\u001b[0m\u001b[0m\n\u001b[0m",
            "\u001b[0;32m/usr/local/lib/python3.7/dist-packages/tweepy/streaming.py\u001b[0m in \u001b[0;36mfilter\u001b[0;34m(self, follow, track, is_async, locations, stall_warnings, languages, encoding, filter_level)\u001b[0m\n\u001b[1;32m    472\u001b[0m             \u001b[0mself\u001b[0m\u001b[0;34m.\u001b[0m\u001b[0mbody\u001b[0m\u001b[0;34m[\u001b[0m\u001b[0;34m'filter_level'\u001b[0m\u001b[0;34m]\u001b[0m \u001b[0;34m=\u001b[0m \u001b[0mfilter_level\u001b[0m\u001b[0;34m.\u001b[0m\u001b[0mencode\u001b[0m\u001b[0;34m(\u001b[0m\u001b[0mencoding\u001b[0m\u001b[0;34m)\u001b[0m\u001b[0;34m\u001b[0m\u001b[0;34m\u001b[0m\u001b[0m\n\u001b[1;32m    473\u001b[0m         \u001b[0mself\u001b[0m\u001b[0;34m.\u001b[0m\u001b[0msession\u001b[0m\u001b[0;34m.\u001b[0m\u001b[0mparams\u001b[0m \u001b[0;34m=\u001b[0m \u001b[0;34m{\u001b[0m\u001b[0;34m'delimited'\u001b[0m\u001b[0;34m:\u001b[0m \u001b[0;34m'length'\u001b[0m\u001b[0;34m}\u001b[0m\u001b[0;34m\u001b[0m\u001b[0;34m\u001b[0m\u001b[0m\n\u001b[0;32m--> 474\u001b[0;31m         \u001b[0mself\u001b[0m\u001b[0;34m.\u001b[0m\u001b[0m_start\u001b[0m\u001b[0;34m(\u001b[0m\u001b[0mis_async\u001b[0m\u001b[0;34m)\u001b[0m\u001b[0;34m\u001b[0m\u001b[0;34m\u001b[0m\u001b[0m\n\u001b[0m\u001b[1;32m    475\u001b[0m \u001b[0;34m\u001b[0m\u001b[0m\n\u001b[1;32m    476\u001b[0m     def sitestream(self, follow, stall_warnings=False,\n",
            "\u001b[0;32m/usr/local/lib/python3.7/dist-packages/tweepy/streaming.py\u001b[0m in \u001b[0;36m_start\u001b[0;34m(self, is_async)\u001b[0m\n\u001b[1;32m    387\u001b[0m             \u001b[0mself\u001b[0m\u001b[0;34m.\u001b[0m\u001b[0m_thread\u001b[0m\u001b[0;34m.\u001b[0m\u001b[0mstart\u001b[0m\u001b[0;34m(\u001b[0m\u001b[0;34m)\u001b[0m\u001b[0;34m\u001b[0m\u001b[0;34m\u001b[0m\u001b[0m\n\u001b[1;32m    388\u001b[0m         \u001b[0;32melse\u001b[0m\u001b[0;34m:\u001b[0m\u001b[0;34m\u001b[0m\u001b[0;34m\u001b[0m\u001b[0m\n\u001b[0;32m--> 389\u001b[0;31m             \u001b[0mself\u001b[0m\u001b[0;34m.\u001b[0m\u001b[0m_run\u001b[0m\u001b[0;34m(\u001b[0m\u001b[0;34m)\u001b[0m\u001b[0;34m\u001b[0m\u001b[0;34m\u001b[0m\u001b[0m\n\u001b[0m\u001b[1;32m    390\u001b[0m \u001b[0;34m\u001b[0m\u001b[0m\n\u001b[1;32m    391\u001b[0m     \u001b[0;32mdef\u001b[0m \u001b[0mon_closed\u001b[0m\u001b[0;34m(\u001b[0m\u001b[0mself\u001b[0m\u001b[0;34m,\u001b[0m \u001b[0mresp\u001b[0m\u001b[0;34m)\u001b[0m\u001b[0;34m:\u001b[0m\u001b[0;34m\u001b[0m\u001b[0;34m\u001b[0m\u001b[0m\n",
            "\u001b[0;32m/usr/local/lib/python3.7/dist-packages/tweepy/streaming.py\u001b[0m in \u001b[0;36m_run\u001b[0;34m(self)\u001b[0m\n\u001b[1;32m    287\u001b[0m                     \u001b[0mself\u001b[0m\u001b[0;34m.\u001b[0m\u001b[0msnooze_time\u001b[0m \u001b[0;34m=\u001b[0m \u001b[0mself\u001b[0m\u001b[0;34m.\u001b[0m\u001b[0msnooze_time_step\u001b[0m\u001b[0;34m\u001b[0m\u001b[0;34m\u001b[0m\u001b[0m\n\u001b[1;32m    288\u001b[0m                     \u001b[0mself\u001b[0m\u001b[0;34m.\u001b[0m\u001b[0mlistener\u001b[0m\u001b[0;34m.\u001b[0m\u001b[0mon_connect\u001b[0m\u001b[0;34m(\u001b[0m\u001b[0;34m)\u001b[0m\u001b[0;34m\u001b[0m\u001b[0;34m\u001b[0m\u001b[0m\n\u001b[0;32m--> 289\u001b[0;31m                     \u001b[0mself\u001b[0m\u001b[0;34m.\u001b[0m\u001b[0m_read_loop\u001b[0m\u001b[0;34m(\u001b[0m\u001b[0mresp\u001b[0m\u001b[0;34m)\u001b[0m\u001b[0;34m\u001b[0m\u001b[0;34m\u001b[0m\u001b[0m\n\u001b[0m\u001b[1;32m    290\u001b[0m             \u001b[0;32mexcept\u001b[0m \u001b[0;34m(\u001b[0m\u001b[0mTimeout\u001b[0m\u001b[0;34m,\u001b[0m \u001b[0mssl\u001b[0m\u001b[0;34m.\u001b[0m\u001b[0mSSLError\u001b[0m\u001b[0;34m)\u001b[0m \u001b[0;32mas\u001b[0m \u001b[0mexc\u001b[0m\u001b[0;34m:\u001b[0m\u001b[0;34m\u001b[0m\u001b[0;34m\u001b[0m\u001b[0m\n\u001b[1;32m    291\u001b[0m                 \u001b[0;31m# This is still necessary, as a SSLError can actually be\u001b[0m\u001b[0;34m\u001b[0m\u001b[0;34m\u001b[0m\u001b[0;34m\u001b[0m\u001b[0m\n",
            "\u001b[0;32m/usr/local/lib/python3.7/dist-packages/tweepy/streaming.py\u001b[0m in \u001b[0;36m_read_loop\u001b[0;34m(self, resp)\u001b[0m\n\u001b[1;32m    349\u001b[0m             \u001b[0mnext_status_obj\u001b[0m \u001b[0;34m=\u001b[0m \u001b[0mbuf\u001b[0m\u001b[0;34m.\u001b[0m\u001b[0mread_len\u001b[0m\u001b[0;34m(\u001b[0m\u001b[0mlength\u001b[0m\u001b[0;34m)\u001b[0m\u001b[0;34m\u001b[0m\u001b[0;34m\u001b[0m\u001b[0m\n\u001b[1;32m    350\u001b[0m             \u001b[0;32mif\u001b[0m \u001b[0mself\u001b[0m\u001b[0;34m.\u001b[0m\u001b[0mrunning\u001b[0m \u001b[0;32mand\u001b[0m \u001b[0mnext_status_obj\u001b[0m\u001b[0;34m:\u001b[0m\u001b[0;34m\u001b[0m\u001b[0;34m\u001b[0m\u001b[0m\n\u001b[0;32m--> 351\u001b[0;31m                 \u001b[0mself\u001b[0m\u001b[0;34m.\u001b[0m\u001b[0m_data\u001b[0m\u001b[0;34m(\u001b[0m\u001b[0mnext_status_obj\u001b[0m\u001b[0;34m)\u001b[0m\u001b[0;34m\u001b[0m\u001b[0;34m\u001b[0m\u001b[0m\n\u001b[0m\u001b[1;32m    352\u001b[0m \u001b[0;34m\u001b[0m\u001b[0m\n\u001b[1;32m    353\u001b[0m             \u001b[0;31m# # Note: keep-alive newlines might be inserted before each length value.\u001b[0m\u001b[0;34m\u001b[0m\u001b[0;34m\u001b[0m\u001b[0;34m\u001b[0m\u001b[0m\n",
            "\u001b[0;32m/usr/local/lib/python3.7/dist-packages/tweepy/streaming.py\u001b[0m in \u001b[0;36m_data\u001b[0;34m(self, data)\u001b[0m\n\u001b[1;32m    321\u001b[0m \u001b[0;34m\u001b[0m\u001b[0m\n\u001b[1;32m    322\u001b[0m     \u001b[0;32mdef\u001b[0m \u001b[0m_data\u001b[0m\u001b[0;34m(\u001b[0m\u001b[0mself\u001b[0m\u001b[0;34m,\u001b[0m \u001b[0mdata\u001b[0m\u001b[0;34m)\u001b[0m\u001b[0;34m:\u001b[0m\u001b[0;34m\u001b[0m\u001b[0;34m\u001b[0m\u001b[0m\n\u001b[0;32m--> 323\u001b[0;31m         \u001b[0;32mif\u001b[0m \u001b[0mself\u001b[0m\u001b[0;34m.\u001b[0m\u001b[0mlistener\u001b[0m\u001b[0;34m.\u001b[0m\u001b[0mon_data\u001b[0m\u001b[0;34m(\u001b[0m\u001b[0mdata\u001b[0m\u001b[0;34m)\u001b[0m \u001b[0;32mis\u001b[0m \u001b[0;32mFalse\u001b[0m\u001b[0;34m:\u001b[0m\u001b[0;34m\u001b[0m\u001b[0;34m\u001b[0m\u001b[0m\n\u001b[0m\u001b[1;32m    324\u001b[0m             \u001b[0mself\u001b[0m\u001b[0;34m.\u001b[0m\u001b[0mrunning\u001b[0m \u001b[0;34m=\u001b[0m \u001b[0;32mFalse\u001b[0m\u001b[0;34m\u001b[0m\u001b[0;34m\u001b[0m\u001b[0m\n\u001b[1;32m    325\u001b[0m \u001b[0;34m\u001b[0m\u001b[0m\n",
            "\u001b[0;32m<ipython-input-7-851814fecb5e>\u001b[0m in \u001b[0;36mon_data\u001b[0;34m(self, data)\u001b[0m\n\u001b[1;32m     18\u001b[0m \u001b[0;34m\u001b[0m\u001b[0m\n\u001b[1;32m     19\u001b[0m           \u001b[0mtweet\u001b[0m \u001b[0;34m=\u001b[0m \u001b[0mall_data\u001b[0m\u001b[0;34m[\u001b[0m\u001b[0;34m\"text\"\u001b[0m\u001b[0;34m]\u001b[0m\u001b[0;34m\u001b[0m\u001b[0;34m\u001b[0m\u001b[0m\n\u001b[0;32m---> 20\u001b[0;31m           \u001b[0msentiment_value\u001b[0m\u001b[0;34m,\u001b[0m \u001b[0mconfidence\u001b[0m \u001b[0;34m=\u001b[0m \u001b[0ms\u001b[0m\u001b[0;34m.\u001b[0m\u001b[0msentiment\u001b[0m\u001b[0;34m(\u001b[0m\u001b[0mtweet\u001b[0m\u001b[0;34m)\u001b[0m\u001b[0;34m\u001b[0m\u001b[0;34m\u001b[0m\u001b[0m\n\u001b[0m\u001b[1;32m     21\u001b[0m \u001b[0;34m\u001b[0m\u001b[0m\n\u001b[1;32m     22\u001b[0m           \u001b[0mprint\u001b[0m\u001b[0;34m(\u001b[0m\u001b[0;34m'\\n'\u001b[0m\u001b[0;34m)\u001b[0m\u001b[0;34m\u001b[0m\u001b[0;34m\u001b[0m\u001b[0m\n",
            "\u001b[0;32m/content/sentiment_mod.py\u001b[0m in \u001b[0;36msentiment\u001b[0;34m(text)\u001b[0m\n\u001b[1;32m    115\u001b[0m \u001b[0;34m\u001b[0m\u001b[0m\n\u001b[1;32m    116\u001b[0m \u001b[0;32mdef\u001b[0m \u001b[0msentiment\u001b[0m\u001b[0;34m(\u001b[0m\u001b[0mtext\u001b[0m\u001b[0;34m)\u001b[0m\u001b[0;34m:\u001b[0m\u001b[0;34m\u001b[0m\u001b[0;34m\u001b[0m\u001b[0m\n\u001b[0;32m--> 117\u001b[0;31m     \u001b[0mfeats\u001b[0m \u001b[0;34m=\u001b[0m \u001b[0mfind_features\u001b[0m\u001b[0;34m(\u001b[0m\u001b[0mtext\u001b[0m\u001b[0;34m)\u001b[0m\u001b[0;34m\u001b[0m\u001b[0;34m\u001b[0m\u001b[0m\n\u001b[0m\u001b[1;32m    118\u001b[0m \u001b[0;34m\u001b[0m\u001b[0m\n\u001b[1;32m    119\u001b[0m     \u001b[0;32mreturn\u001b[0m \u001b[0mvoted_classifier\u001b[0m\u001b[0;34m.\u001b[0m\u001b[0mclassify\u001b[0m\u001b[0;34m(\u001b[0m\u001b[0mfeats\u001b[0m\u001b[0;34m)\u001b[0m\u001b[0;34m,\u001b[0m\u001b[0mvoted_classifier\u001b[0m\u001b[0;34m.\u001b[0m\u001b[0mconfidence\u001b[0m\u001b[0;34m(\u001b[0m\u001b[0mfeats\u001b[0m\u001b[0;34m)\u001b[0m\u001b[0;34m\u001b[0m\u001b[0;34m\u001b[0m\u001b[0m\n",
            "\u001b[0;32m/content/sentiment_mod.py\u001b[0m in \u001b[0;36mfind_features\u001b[0;34m(document)\u001b[0m\n\u001b[1;32m     53\u001b[0m     \u001b[0mfeatures\u001b[0m \u001b[0;34m=\u001b[0m \u001b[0;34m{\u001b[0m\u001b[0;34m}\u001b[0m\u001b[0;34m\u001b[0m\u001b[0;34m\u001b[0m\u001b[0m\n\u001b[1;32m     54\u001b[0m     \u001b[0;32mfor\u001b[0m \u001b[0mw\u001b[0m \u001b[0;32min\u001b[0m \u001b[0mword_features\u001b[0m\u001b[0;34m:\u001b[0m\u001b[0;34m\u001b[0m\u001b[0;34m\u001b[0m\u001b[0m\n\u001b[0;32m---> 55\u001b[0;31m         \u001b[0mfeatures\u001b[0m\u001b[0;34m[\u001b[0m\u001b[0mw\u001b[0m\u001b[0;34m]\u001b[0m \u001b[0;34m=\u001b[0m \u001b[0;34m(\u001b[0m\u001b[0mw\u001b[0m \u001b[0;32min\u001b[0m \u001b[0mwords\u001b[0m\u001b[0;34m)\u001b[0m\u001b[0;34m\u001b[0m\u001b[0;34m\u001b[0m\u001b[0m\n\u001b[0m\u001b[1;32m     56\u001b[0m \u001b[0;34m\u001b[0m\u001b[0m\n\u001b[1;32m     57\u001b[0m     \u001b[0;32mreturn\u001b[0m \u001b[0mfeatures\u001b[0m\u001b[0;34m\u001b[0m\u001b[0;34m\u001b[0m\u001b[0m\n",
            "\u001b[0;31mKeyboardInterrupt\u001b[0m: "
          ]
        }
      ]
    },
    {
      "cell_type": "markdown",
      "metadata": {
        "id": "JKX9SyKuDQ8p"
      },
      "source": [
        "## Incorporar la funcionalidad de buscar Tweets por usuarios. (5puntos)"
      ]
    },
    {
      "cell_type": "code",
      "metadata": {
        "id": "v6LpWg_nrclc"
      },
      "source": [
        "def tweets_by_user(user):\n",
        "  userID = user\n",
        "  auth = tweepy.OAuthHandler(ckey, csecret)\n",
        "  auth.set_access_token(atoken, asecret)\n",
        "  api = tweepy.API(auth)\n",
        "\n",
        "  tweets = api.user_timeline(screen_name=userID, \n",
        "                            count=200,\n",
        "                            include_rts = False,\n",
        "                            tweet_mode = 'extended'\n",
        "                            )\n",
        "  return tweets"
      ],
      "execution_count": 10,
      "outputs": []
    },
    {
      "cell_type": "code",
      "metadata": {
        "id": "D3jbMHM8rclc",
        "colab": {
          "base_uri": "https://localhost:8080/",
          "height": 1000
        },
        "outputId": "c60f63ef-8681-4682-ba0f-ea30f259a25c"
      },
      "source": [
        "userID = \"elonmusk\"\n",
        "print(\"USER ID: \", userID)\n",
        "tweets = tweets_by_user(userID)\n",
        "for info in tweets:\n",
        "     print(\"ID: {}\".format(info.id))\n",
        "     print(info.created_at)\n",
        "     print(info.full_text, s.sentiment(info.full_text))\n",
        "     print(\"\\n\")"
      ],
      "execution_count": 22,
      "outputs": [
        {
          "output_type": "stream",
          "text": [
            "USER ID:  elonmusk\n",
            "ID: 1417274819461095432\n",
            "2021-07-20 00:07:03\n",
            "Full test duration firing of 3 Raptors on Super Heavy Booster! ('neg', 0.8)\n",
            "\n",
            "\n",
            "ID: 1417207016519454724\n",
            "2021-07-19 19:37:37\n",
            "@jack @BitcoinMagazine @CathieDWood Sure, I have a ton ('neg', 0.6)\n",
            "\n",
            "\n",
            "ID: 1417204066552205332\n",
            "2021-07-19 19:25:54\n",
            "@BitcoinMagazine @jack @CathieDWood During this talk, we will sing a cover of The Final Countdown by Europe https://t.co/7YUXiW8dhd ('neg', 0.6)\n",
            "\n",
            "\n",
            "ID: 1416970848104173574\n",
            "2021-07-19 03:59:10\n",
            "@DragTimes @Tesla Nice ('neg', 0.8)\n",
            "\n",
            "\n",
            "ID: 1416961748138033152\n",
            "2021-07-19 03:23:01\n",
            "@grimnut @Tesla @WholeMarsBlog @DirtyTesla Haha ('neg', 0.8)\n",
            "\n",
            "\n",
            "ID: 1416951898049896450\n",
            "2021-07-19 02:43:52\n",
            "@WholeMarsBlog You don’t even need to touch the shifter in new S. Auto detect direction will come as an optional setting to all cars with FSD. ('neg', 0.6)\n",
            "\n",
            "\n",
            "ID: 1416780739228602379\n",
            "2021-07-18 15:23:45\n",
            "@thePiggsBoson Problem 1st, theory 2nd is for sure way to go, as it establishes relevance, thus improving memory retention ('neg', 0.6)\n",
            "\n",
            "\n",
            "ID: 1416663763151949824\n",
            "2021-07-18 07:38:56\n",
            "Cybrrrtruck https://t.co/rdiMFdYOS6 ('neg', 0.8)\n",
            "\n",
            "\n",
            "ID: 1416593609302945792\n",
            "2021-07-18 03:00:10\n",
            "@ArtifactsHub And all-time hodl champion ('neg', 1.0)\n",
            "\n",
            "\n",
            "ID: 1416591988695126016\n",
            "2021-07-18 02:53:43\n",
            "@ArtifactsHub OG Hipster ('neg', 0.8)\n",
            "\n",
            "\n",
            "ID: 1416519319564001286\n",
            "2021-07-17 22:04:58\n",
            "@ValaAfshar Indeed ('neg', 0.8)\n",
            "\n",
            "\n",
            "ID: 1416518626274910212\n",
            "2021-07-17 22:02:12\n",
            "@waitbutwhy Pohtaytohz ('neg', 0.8)\n",
            "\n",
            "\n",
            "ID: 1416511905515048966\n",
            "2021-07-17 21:35:30\n",
            "@squawksquare Current Summon is sometimes useful, but mostly just a fun trick. Once we move summon (plus highway driving) to a single FSD stack, it will be sublime. ('pos', 1.0)\n",
            "\n",
            "\n",
            "ID: 1416479939155697664\n",
            "2021-07-17 19:28:29\n",
            "@billycrammer @Tesla Cool! ('neg', 0.8)\n",
            "\n",
            "\n",
            "ID: 1416457822502543360\n",
            "2021-07-17 18:00:36\n",
            "@engineers_feed There’s a corner case where brick density is same density as water, reaching bottom due to momentum ('neg', 1.0)\n",
            "\n",
            "\n",
            "ID: 1416453816069857283\n",
            "2021-07-17 17:44:40\n",
            "Fred Astaire is incredible. Worth watching his movies. One of a kind. ('pos', 1.0)\n",
            "\n",
            "\n",
            "ID: 1416452260826132482\n",
            "2021-07-17 17:38:30\n",
            "@ValaAfshar Haha ('neg', 0.8)\n",
            "\n",
            "\n",
            "ID: 1416448342419251203\n",
            "2021-07-17 17:22:55\n",
            "@TrungTPhan Now, he can bench press a rhino ('neg', 0.8)\n",
            "\n",
            "\n",
            "ID: 1416447895411232770\n",
            "2021-07-17 17:21:09\n",
            "@SamTwits Nice ('neg', 0.8)\n",
            "\n",
            "\n",
            "ID: 1416444660055224329\n",
            "2021-07-17 17:08:17\n",
            "Tap on the screen https://t.co/YPyyj8V8DF ('neg', 1.0)\n",
            "\n",
            "\n",
            "ID: 1416441034469527556\n",
            "2021-07-17 16:53:53\n",
            "@AshleyIllusion1 @lexfridman Lil X is hodling his Doge like a champ. Literally never said the word “sell” even once! ('neg', 1.0)\n",
            "\n",
            "\n",
            "ID: 1416440218903789568\n",
            "2021-07-17 16:50:39\n",
            "@lexfridman “All your basis points are belong to us” - fiat issuers ('neg', 0.8)\n",
            "\n",
            "\n",
            "ID: 1416436593246756864\n",
            "2021-07-17 16:36:14\n",
            "@engineers_feed A classic ('neg', 0.8)\n",
            "\n",
            "\n",
            "ID: 1416436076344971274\n",
            "2021-07-17 16:34:11\n",
            "@riorahardi618 True ('neg', 0.8)\n",
            "\n",
            "\n",
            "ID: 1416435673494695938\n",
            "2021-07-17 16:32:35\n",
            "https://t.co/d4ZOSKZESP ('neg', 0.8)\n",
            "\n",
            "\n",
            "ID: 1416286548258086914\n",
            "2021-07-17 06:40:01\n",
            "@Charly923407591 @techAU Haha ('neg', 0.8)\n",
            "\n",
            "\n",
            "ID: 1416286233962160128\n",
            "2021-07-17 06:38:46\n"
          ],
          "name": "stdout"
        },
        {
          "output_type": "error",
          "ename": "KeyboardInterrupt",
          "evalue": "ignored",
          "traceback": [
            "\u001b[0;31m---------------------------------------------------------------------------\u001b[0m",
            "\u001b[0;31mKeyboardInterrupt\u001b[0m                         Traceback (most recent call last)",
            "\u001b[0;32m<ipython-input-22-7e9fe9b96e55>\u001b[0m in \u001b[0;36m<module>\u001b[0;34m()\u001b[0m\n\u001b[1;32m      5\u001b[0m      \u001b[0mprint\u001b[0m\u001b[0;34m(\u001b[0m\u001b[0;34m\"ID: {}\"\u001b[0m\u001b[0;34m.\u001b[0m\u001b[0mformat\u001b[0m\u001b[0;34m(\u001b[0m\u001b[0minfo\u001b[0m\u001b[0;34m.\u001b[0m\u001b[0mid\u001b[0m\u001b[0;34m)\u001b[0m\u001b[0;34m)\u001b[0m\u001b[0;34m\u001b[0m\u001b[0;34m\u001b[0m\u001b[0m\n\u001b[1;32m      6\u001b[0m      \u001b[0mprint\u001b[0m\u001b[0;34m(\u001b[0m\u001b[0minfo\u001b[0m\u001b[0;34m.\u001b[0m\u001b[0mcreated_at\u001b[0m\u001b[0;34m)\u001b[0m\u001b[0;34m\u001b[0m\u001b[0;34m\u001b[0m\u001b[0m\n\u001b[0;32m----> 7\u001b[0;31m      \u001b[0mprint\u001b[0m\u001b[0;34m(\u001b[0m\u001b[0minfo\u001b[0m\u001b[0;34m.\u001b[0m\u001b[0mfull_text\u001b[0m\u001b[0;34m,\u001b[0m \u001b[0ms\u001b[0m\u001b[0;34m.\u001b[0m\u001b[0msentiment\u001b[0m\u001b[0;34m(\u001b[0m\u001b[0minfo\u001b[0m\u001b[0;34m.\u001b[0m\u001b[0mfull_text\u001b[0m\u001b[0;34m)\u001b[0m\u001b[0;34m)\u001b[0m\u001b[0;34m\u001b[0m\u001b[0;34m\u001b[0m\u001b[0m\n\u001b[0m\u001b[1;32m      8\u001b[0m      \u001b[0mprint\u001b[0m\u001b[0;34m(\u001b[0m\u001b[0;34m\"\\n\"\u001b[0m\u001b[0;34m)\u001b[0m\u001b[0;34m\u001b[0m\u001b[0;34m\u001b[0m\u001b[0m\n",
            "\u001b[0;32m/content/sentiment_mod.py\u001b[0m in \u001b[0;36msentiment\u001b[0;34m(text)\u001b[0m\n\u001b[1;32m    117\u001b[0m     \u001b[0mfeats\u001b[0m \u001b[0;34m=\u001b[0m \u001b[0mfind_features\u001b[0m\u001b[0;34m(\u001b[0m\u001b[0mtext\u001b[0m\u001b[0;34m)\u001b[0m\u001b[0;34m\u001b[0m\u001b[0;34m\u001b[0m\u001b[0m\n\u001b[1;32m    118\u001b[0m \u001b[0;34m\u001b[0m\u001b[0m\n\u001b[0;32m--> 119\u001b[0;31m     \u001b[0;32mreturn\u001b[0m \u001b[0mvoted_classifier\u001b[0m\u001b[0;34m.\u001b[0m\u001b[0mclassify\u001b[0m\u001b[0;34m(\u001b[0m\u001b[0mfeats\u001b[0m\u001b[0;34m)\u001b[0m\u001b[0;34m,\u001b[0m\u001b[0mvoted_classifier\u001b[0m\u001b[0;34m.\u001b[0m\u001b[0mconfidence\u001b[0m\u001b[0;34m(\u001b[0m\u001b[0mfeats\u001b[0m\u001b[0;34m)\u001b[0m\u001b[0;34m\u001b[0m\u001b[0;34m\u001b[0m\u001b[0m\n\u001b[0m",
            "\u001b[0;32m/content/sentiment_mod.py\u001b[0m in \u001b[0;36mconfidence\u001b[0;34m(self, features)\u001b[0m\n\u001b[1;32m     29\u001b[0m         \u001b[0mvotes\u001b[0m \u001b[0;34m=\u001b[0m \u001b[0;34m[\u001b[0m\u001b[0;34m]\u001b[0m\u001b[0;34m\u001b[0m\u001b[0;34m\u001b[0m\u001b[0m\n\u001b[1;32m     30\u001b[0m         \u001b[0;32mfor\u001b[0m \u001b[0mc\u001b[0m \u001b[0;32min\u001b[0m \u001b[0mself\u001b[0m\u001b[0;34m.\u001b[0m\u001b[0m_classifiers\u001b[0m\u001b[0;34m:\u001b[0m\u001b[0;34m\u001b[0m\u001b[0;34m\u001b[0m\u001b[0m\n\u001b[0;32m---> 31\u001b[0;31m             \u001b[0mv\u001b[0m \u001b[0;34m=\u001b[0m \u001b[0mc\u001b[0m\u001b[0;34m.\u001b[0m\u001b[0mclassify\u001b[0m\u001b[0;34m(\u001b[0m\u001b[0mfeatures\u001b[0m\u001b[0;34m)\u001b[0m\u001b[0;34m\u001b[0m\u001b[0;34m\u001b[0m\u001b[0m\n\u001b[0m\u001b[1;32m     32\u001b[0m             \u001b[0mvotes\u001b[0m\u001b[0;34m.\u001b[0m\u001b[0mappend\u001b[0m\u001b[0;34m(\u001b[0m\u001b[0mv\u001b[0m\u001b[0;34m)\u001b[0m\u001b[0;34m\u001b[0m\u001b[0;34m\u001b[0m\u001b[0m\n\u001b[1;32m     33\u001b[0m \u001b[0;34m\u001b[0m\u001b[0m\n",
            "\u001b[0;32m/usr/local/lib/python3.7/dist-packages/nltk/classify/api.py\u001b[0m in \u001b[0;36mclassify\u001b[0;34m(self, featureset)\u001b[0m\n\u001b[1;32m     52\u001b[0m         \"\"\"\n\u001b[1;32m     53\u001b[0m         \u001b[0;32mif\u001b[0m \u001b[0moverridden\u001b[0m\u001b[0;34m(\u001b[0m\u001b[0mself\u001b[0m\u001b[0;34m.\u001b[0m\u001b[0mclassify_many\u001b[0m\u001b[0;34m)\u001b[0m\u001b[0;34m:\u001b[0m\u001b[0;34m\u001b[0m\u001b[0;34m\u001b[0m\u001b[0m\n\u001b[0;32m---> 54\u001b[0;31m             \u001b[0;32mreturn\u001b[0m \u001b[0mself\u001b[0m\u001b[0;34m.\u001b[0m\u001b[0mclassify_many\u001b[0m\u001b[0;34m(\u001b[0m\u001b[0;34m[\u001b[0m\u001b[0mfeatureset\u001b[0m\u001b[0;34m]\u001b[0m\u001b[0;34m)\u001b[0m\u001b[0;34m[\u001b[0m\u001b[0;36m0\u001b[0m\u001b[0;34m]\u001b[0m\u001b[0;34m\u001b[0m\u001b[0;34m\u001b[0m\u001b[0m\n\u001b[0m\u001b[1;32m     55\u001b[0m         \u001b[0;32melse\u001b[0m\u001b[0;34m:\u001b[0m\u001b[0;34m\u001b[0m\u001b[0;34m\u001b[0m\u001b[0m\n\u001b[1;32m     56\u001b[0m             \u001b[0;32mraise\u001b[0m \u001b[0mNotImplementedError\u001b[0m\u001b[0;34m(\u001b[0m\u001b[0;34m)\u001b[0m\u001b[0;34m\u001b[0m\u001b[0;34m\u001b[0m\u001b[0m\n",
            "\u001b[0;32m/usr/local/lib/python3.7/dist-packages/nltk/classify/scikitlearn.py\u001b[0m in \u001b[0;36mclassify_many\u001b[0;34m(self, featuresets)\u001b[0m\n\u001b[1;32m     85\u001b[0m         \u001b[0mX\u001b[0m \u001b[0;34m=\u001b[0m \u001b[0mself\u001b[0m\u001b[0;34m.\u001b[0m\u001b[0m_vectorizer\u001b[0m\u001b[0;34m.\u001b[0m\u001b[0mtransform\u001b[0m\u001b[0;34m(\u001b[0m\u001b[0mfeaturesets\u001b[0m\u001b[0;34m)\u001b[0m\u001b[0;34m\u001b[0m\u001b[0;34m\u001b[0m\u001b[0m\n\u001b[1;32m     86\u001b[0m         \u001b[0mclasses\u001b[0m \u001b[0;34m=\u001b[0m \u001b[0mself\u001b[0m\u001b[0;34m.\u001b[0m\u001b[0m_encoder\u001b[0m\u001b[0;34m.\u001b[0m\u001b[0mclasses_\u001b[0m\u001b[0;34m\u001b[0m\u001b[0;34m\u001b[0m\u001b[0m\n\u001b[0;32m---> 87\u001b[0;31m         \u001b[0;32mreturn\u001b[0m \u001b[0;34m[\u001b[0m\u001b[0mclasses\u001b[0m\u001b[0;34m[\u001b[0m\u001b[0mi\u001b[0m\u001b[0;34m]\u001b[0m \u001b[0;32mfor\u001b[0m \u001b[0mi\u001b[0m \u001b[0;32min\u001b[0m \u001b[0mself\u001b[0m\u001b[0;34m.\u001b[0m\u001b[0m_clf\u001b[0m\u001b[0;34m.\u001b[0m\u001b[0mpredict\u001b[0m\u001b[0;34m(\u001b[0m\u001b[0mX\u001b[0m\u001b[0;34m)\u001b[0m\u001b[0;34m]\u001b[0m\u001b[0;34m\u001b[0m\u001b[0;34m\u001b[0m\u001b[0m\n\u001b[0m\u001b[1;32m     88\u001b[0m \u001b[0;34m\u001b[0m\u001b[0m\n\u001b[1;32m     89\u001b[0m     \u001b[0;32mdef\u001b[0m \u001b[0mprob_classify_many\u001b[0m\u001b[0;34m(\u001b[0m\u001b[0mself\u001b[0m\u001b[0;34m,\u001b[0m \u001b[0mfeaturesets\u001b[0m\u001b[0;34m)\u001b[0m\u001b[0;34m:\u001b[0m\u001b[0;34m\u001b[0m\u001b[0;34m\u001b[0m\u001b[0m\n",
            "\u001b[0;32m/usr/local/lib/python3.7/dist-packages/sklearn/naive_bayes.py\u001b[0m in \u001b[0;36mpredict\u001b[0;34m(self, X)\u001b[0m\n\u001b[1;32m     75\u001b[0m         \u001b[0mcheck_is_fitted\u001b[0m\u001b[0;34m(\u001b[0m\u001b[0mself\u001b[0m\u001b[0;34m)\u001b[0m\u001b[0;34m\u001b[0m\u001b[0;34m\u001b[0m\u001b[0m\n\u001b[1;32m     76\u001b[0m         \u001b[0mX\u001b[0m \u001b[0;34m=\u001b[0m \u001b[0mself\u001b[0m\u001b[0;34m.\u001b[0m\u001b[0m_check_X\u001b[0m\u001b[0;34m(\u001b[0m\u001b[0mX\u001b[0m\u001b[0;34m)\u001b[0m\u001b[0;34m\u001b[0m\u001b[0;34m\u001b[0m\u001b[0m\n\u001b[0;32m---> 77\u001b[0;31m         \u001b[0mjll\u001b[0m \u001b[0;34m=\u001b[0m \u001b[0mself\u001b[0m\u001b[0;34m.\u001b[0m\u001b[0m_joint_log_likelihood\u001b[0m\u001b[0;34m(\u001b[0m\u001b[0mX\u001b[0m\u001b[0;34m)\u001b[0m\u001b[0;34m\u001b[0m\u001b[0;34m\u001b[0m\u001b[0m\n\u001b[0m\u001b[1;32m     78\u001b[0m         \u001b[0;32mreturn\u001b[0m \u001b[0mself\u001b[0m\u001b[0;34m.\u001b[0m\u001b[0mclasses_\u001b[0m\u001b[0;34m[\u001b[0m\u001b[0mnp\u001b[0m\u001b[0;34m.\u001b[0m\u001b[0margmax\u001b[0m\u001b[0;34m(\u001b[0m\u001b[0mjll\u001b[0m\u001b[0;34m,\u001b[0m \u001b[0maxis\u001b[0m\u001b[0;34m=\u001b[0m\u001b[0;36m1\u001b[0m\u001b[0;34m)\u001b[0m\u001b[0;34m]\u001b[0m\u001b[0;34m\u001b[0m\u001b[0;34m\u001b[0m\u001b[0m\n\u001b[1;32m     79\u001b[0m \u001b[0;34m\u001b[0m\u001b[0m\n",
            "\u001b[0;32m/usr/local/lib/python3.7/dist-packages/sklearn/naive_bayes.py\u001b[0m in \u001b[0;36m_joint_log_likelihood\u001b[0;34m(self, X)\u001b[0m\n\u001b[1;32m   1002\u001b[0m                              % (n_features, n_features_X))\n\u001b[1;32m   1003\u001b[0m \u001b[0;34m\u001b[0m\u001b[0m\n\u001b[0;32m-> 1004\u001b[0;31m         \u001b[0mneg_prob\u001b[0m \u001b[0;34m=\u001b[0m \u001b[0mnp\u001b[0m\u001b[0;34m.\u001b[0m\u001b[0mlog\u001b[0m\u001b[0;34m(\u001b[0m\u001b[0;36m1\u001b[0m \u001b[0;34m-\u001b[0m \u001b[0mnp\u001b[0m\u001b[0;34m.\u001b[0m\u001b[0mexp\u001b[0m\u001b[0;34m(\u001b[0m\u001b[0mself\u001b[0m\u001b[0;34m.\u001b[0m\u001b[0mfeature_log_prob_\u001b[0m\u001b[0;34m)\u001b[0m\u001b[0;34m)\u001b[0m\u001b[0;34m\u001b[0m\u001b[0;34m\u001b[0m\u001b[0m\n\u001b[0m\u001b[1;32m   1005\u001b[0m         \u001b[0;31m# Compute  neg_prob · (1 - X).T  as  ∑neg_prob - X · neg_prob\u001b[0m\u001b[0;34m\u001b[0m\u001b[0;34m\u001b[0m\u001b[0;34m\u001b[0m\u001b[0m\n\u001b[1;32m   1006\u001b[0m         \u001b[0mjll\u001b[0m \u001b[0;34m=\u001b[0m \u001b[0msafe_sparse_dot\u001b[0m\u001b[0;34m(\u001b[0m\u001b[0mX\u001b[0m\u001b[0;34m,\u001b[0m \u001b[0;34m(\u001b[0m\u001b[0mself\u001b[0m\u001b[0;34m.\u001b[0m\u001b[0mfeature_log_prob_\u001b[0m \u001b[0;34m-\u001b[0m \u001b[0mneg_prob\u001b[0m\u001b[0;34m)\u001b[0m\u001b[0;34m.\u001b[0m\u001b[0mT\u001b[0m\u001b[0;34m)\u001b[0m\u001b[0;34m\u001b[0m\u001b[0;34m\u001b[0m\u001b[0m\n",
            "\u001b[0;31mKeyboardInterrupt\u001b[0m: "
          ]
        }
      ]
    },
    {
      "cell_type": "markdown",
      "metadata": {
        "id": "SDdZeUXMDctJ"
      },
      "source": [
        "## Integren  una  funcionalidad  para  transcribir audio  a  texto  y  realizar  un  análisis  de  sentimiento sobre lo transcrito. (10 puntos)"
      ]
    },
    {
      "cell_type": "code",
      "metadata": {
        "colab": {
          "base_uri": "https://localhost:8080/"
        },
        "id": "-qFfbL_ZOX_r",
        "outputId": "8d07d13b-2e27-4240-9a2d-aff765895592"
      },
      "source": [
        "!pip install speechbrain"
      ],
      "execution_count": 13,
      "outputs": [
        {
          "output_type": "stream",
          "text": [
            "Collecting speechbrain\n",
            "  Downloading speechbrain-0.5.9-py3-none-any.whl (358 kB)\n",
            "\u001b[K     |████████████████████████████████| 358 kB 5.0 MB/s \n",
            "\u001b[?25hRequirement already satisfied: scipy in /usr/local/lib/python3.7/dist-packages (from speechbrain) (1.4.1)\n",
            "Collecting huggingface-hub\n",
            "  Downloading huggingface_hub-0.0.14-py3-none-any.whl (43 kB)\n",
            "\u001b[K     |████████████████████████████████| 43 kB 1.5 MB/s \n",
            "\u001b[?25hCollecting sentencepiece\n",
            "  Downloading sentencepiece-0.1.96-cp37-cp37m-manylinux_2_17_x86_64.manylinux2014_x86_64.whl (1.2 MB)\n",
            "\u001b[K     |████████████████████████████████| 1.2 MB 41.1 MB/s \n",
            "\u001b[?25hRequirement already satisfied: numpy in /usr/local/lib/python3.7/dist-packages (from speechbrain) (1.19.5)\n",
            "Requirement already satisfied: tqdm in /usr/local/lib/python3.7/dist-packages (from speechbrain) (4.41.1)\n",
            "Requirement already satisfied: packaging in /usr/local/lib/python3.7/dist-packages (from speechbrain) (21.0)\n",
            "Requirement already satisfied: torch in /usr/local/lib/python3.7/dist-packages (from speechbrain) (1.9.0+cu102)\n",
            "Collecting hyperpyyaml\n",
            "  Downloading HyperPyYAML-1.0.0-py3-none-any.whl (15 kB)\n",
            "Collecting torchaudio\n",
            "  Downloading torchaudio-0.9.0-cp37-cp37m-manylinux1_x86_64.whl (1.9 MB)\n",
            "\u001b[K     |████████████████████████████████| 1.9 MB 49.0 MB/s \n",
            "\u001b[?25hRequirement already satisfied: joblib in /usr/local/lib/python3.7/dist-packages (from speechbrain) (1.0.1)\n",
            "Requirement already satisfied: filelock in /usr/local/lib/python3.7/dist-packages (from huggingface-hub->speechbrain) (3.0.12)\n",
            "Requirement already satisfied: importlib-metadata in /usr/local/lib/python3.7/dist-packages (from huggingface-hub->speechbrain) (4.6.1)\n",
            "Requirement already satisfied: requests in /usr/local/lib/python3.7/dist-packages (from huggingface-hub->speechbrain) (2.23.0)\n",
            "Requirement already satisfied: typing-extensions in /usr/local/lib/python3.7/dist-packages (from huggingface-hub->speechbrain) (3.7.4.3)\n",
            "Requirement already satisfied: pyparsing>=2.0.2 in /usr/local/lib/python3.7/dist-packages (from packaging->speechbrain) (2.4.7)\n",
            "Collecting ruamel.yaml>=0.15\n",
            "  Downloading ruamel.yaml-0.17.10-py3-none-any.whl (108 kB)\n",
            "\u001b[K     |████████████████████████████████| 108 kB 56.0 MB/s \n",
            "\u001b[?25hCollecting pyyaml>=5.1\n",
            "  Downloading PyYAML-5.4.1-cp37-cp37m-manylinux1_x86_64.whl (636 kB)\n",
            "\u001b[K     |████████████████████████████████| 636 kB 42.8 MB/s \n",
            "\u001b[?25hCollecting ruamel.yaml.clib>=0.1.2\n",
            "  Downloading ruamel.yaml.clib-0.2.6-cp37-cp37m-manylinux1_x86_64.whl (546 kB)\n",
            "\u001b[K     |████████████████████████████████| 546 kB 45.7 MB/s \n",
            "\u001b[?25hRequirement already satisfied: zipp>=0.5 in /usr/local/lib/python3.7/dist-packages (from importlib-metadata->huggingface-hub->speechbrain) (3.5.0)\n",
            "Requirement already satisfied: idna<3,>=2.5 in /usr/local/lib/python3.7/dist-packages (from requests->huggingface-hub->speechbrain) (2.10)\n",
            "Requirement already satisfied: chardet<4,>=3.0.2 in /usr/local/lib/python3.7/dist-packages (from requests->huggingface-hub->speechbrain) (3.0.4)\n",
            "Requirement already satisfied: certifi>=2017.4.17 in /usr/local/lib/python3.7/dist-packages (from requests->huggingface-hub->speechbrain) (2021.5.30)\n",
            "Requirement already satisfied: urllib3!=1.25.0,!=1.25.1,<1.26,>=1.21.1 in /usr/local/lib/python3.7/dist-packages (from requests->huggingface-hub->speechbrain) (1.24.3)\n",
            "Installing collected packages: ruamel.yaml.clib, ruamel.yaml, pyyaml, torchaudio, sentencepiece, hyperpyyaml, huggingface-hub, speechbrain\n",
            "  Attempting uninstall: pyyaml\n",
            "    Found existing installation: PyYAML 3.13\n",
            "    Uninstalling PyYAML-3.13:\n",
            "      Successfully uninstalled PyYAML-3.13\n",
            "Successfully installed huggingface-hub-0.0.14 hyperpyyaml-1.0.0 pyyaml-5.4.1 ruamel.yaml-0.17.10 ruamel.yaml.clib-0.2.6 sentencepiece-0.1.96 speechbrain-0.5.9 torchaudio-0.9.0\n"
          ],
          "name": "stdout"
        }
      ]
    },
    {
      "cell_type": "code",
      "metadata": {
        "id": "oYAqaVp9rcld"
      },
      "source": [
        "import speechbrain as sb\n",
        "from speechbrain.pretrained import EncoderDecoderASR"
      ],
      "execution_count": 14,
      "outputs": []
    },
    {
      "cell_type": "code",
      "metadata": {
        "id": "_IStIDsfrcle"
      },
      "source": [
        "from speechbrain.dataio.dataio import read_audio\n",
        "from IPython.display import Audio"
      ],
      "execution_count": 15,
      "outputs": []
    },
    {
      "cell_type": "code",
      "metadata": {
        "id": "xmHhjJZircle",
        "colab": {
          "base_uri": "https://localhost:8080/",
          "height": 267,
          "referenced_widgets": [
            "44b059ecd79443cabf2e10dde67395f3",
            "101ee32766a14fd58c7c6838bb00ca71",
            "1d23899cee7a406dab4060da0064b3fa",
            "05822c66db3e4bacae0f88be867989d7",
            "065cceac7c594b93aec9b90e1c957fcd",
            "42f90b94b1104cd68d196cb8f20b386b",
            "48b1264217a64bc996284c7166221b01",
            "8d3f9261f5c24b4cb5d6c89b9644b7a7",
            "df55a69215604df7a36e482beef9a956",
            "b5e0888bab0a4d03877b1992585e3d1b",
            "5301459db6a94ce9ae829bd02cad4ebe",
            "a12a48e6800c44b3a3a1c5e073dd42b3",
            "a9f4a763b7b4438fa48bf6e2457ac930",
            "5ba087db8b4e4e9f93afb50951dc51f5",
            "b9a154b08e2c41f4b8973ae65fda9a9d",
            "bf6ee5e7b1184606813f664f97db0780",
            "0c8ed0589a944b4c91d915e0a0af5371",
            "36f22a2f6059424c9a07073c00543438",
            "78281b88dd05437295be09e53cc52d38",
            "c776f6976128409bb7e481e6ddb68d11",
            "98c8f1705190448d92de0e2dbf813db7",
            "8a0197c792ae47c39950bc67b95d5c63",
            "8afdaafef59b4c35873ef415656e7795",
            "de69302d1fb0462c96ad2055731689c3",
            "3fc2598a4b1044b88bd8e964d4a4a688",
            "a9821daaa8bc4ee2821c6ff69c31abe7",
            "f0b260f5dc324d42953e63a378d8a6b0",
            "6345e57b32ff4da986344758bc247d10",
            "c44445bb2cc844799c5a96114fa67f29",
            "88c8defacee84a819d3ee5e4203672a1",
            "0c0ab6e6497e491d9b9e5e5c9b9bd68f",
            "16f90e19d3364709ad0ed9beccf83f1f"
          ]
        },
        "outputId": "8259845f-1e98-41ac-c9bf-2de011cf2e2f"
      },
      "source": [
        "\n",
        "asr_model = EncoderDecoderASR.from_hparams(source=\"speechbrain/asr-crdnn-rnnlm-librispeech\", savedir=\"pretrained_models/asr-crdnn-rnnlm-librispeech\")\n"
      ],
      "execution_count": 16,
      "outputs": [
        {
          "output_type": "display_data",
          "data": {
            "application/vnd.jupyter.widget-view+json": {
              "model_id": "44b059ecd79443cabf2e10dde67395f3",
              "version_minor": 0,
              "version_major": 2
            },
            "text/plain": [
              "HBox(children=(FloatProgress(value=0.0, description='Downloading', max=4420.0, style=ProgressStyle(description…"
            ]
          },
          "metadata": {
            "tags": []
          }
        },
        {
          "output_type": "stream",
          "text": [
            "\n"
          ],
          "name": "stdout"
        },
        {
          "output_type": "stream",
          "text": [
            "/usr/local/lib/python3.7/dist-packages/torch/nn/functional.py:718: UserWarning: Named tensors and all their associated APIs are an experimental feature and subject to change. Please do not use them for anything important until they are released as stable. (Triggered internally at  /pytorch/c10/core/TensorImpl.h:1156.)\n",
            "  return torch.max_pool2d(input, kernel_size, stride, padding, dilation, ceil_mode)\n"
          ],
          "name": "stderr"
        },
        {
          "output_type": "display_data",
          "data": {
            "application/vnd.jupyter.widget-view+json": {
              "model_id": "df55a69215604df7a36e482beef9a956",
              "version_minor": 0,
              "version_major": 2
            },
            "text/plain": [
              "HBox(children=(FloatProgress(value=0.0, description='Downloading', max=479555971.0, style=ProgressStyle(descri…"
            ]
          },
          "metadata": {
            "tags": []
          }
        },
        {
          "output_type": "stream",
          "text": [
            "\n"
          ],
          "name": "stdout"
        },
        {
          "output_type": "display_data",
          "data": {
            "application/vnd.jupyter.widget-view+json": {
              "model_id": "0c8ed0589a944b4c91d915e0a0af5371",
              "version_minor": 0,
              "version_major": 2
            },
            "text/plain": [
              "HBox(children=(FloatProgress(value=0.0, description='Downloading', max=212420087.0, style=ProgressStyle(descri…"
            ]
          },
          "metadata": {
            "tags": []
          }
        },
        {
          "output_type": "stream",
          "text": [
            "\n"
          ],
          "name": "stdout"
        },
        {
          "output_type": "display_data",
          "data": {
            "application/vnd.jupyter.widget-view+json": {
              "model_id": "3fc2598a4b1044b88bd8e964d4a4a688",
              "version_minor": 0,
              "version_major": 2
            },
            "text/plain": [
              "HBox(children=(FloatProgress(value=0.0, description='Downloading', max=253217.0, style=ProgressStyle(descripti…"
            ]
          },
          "metadata": {
            "tags": []
          }
        },
        {
          "output_type": "stream",
          "text": [
            "\n"
          ],
          "name": "stdout"
        }
      ]
    },
    {
      "cell_type": "code",
      "metadata": {
        "id": "OsD6zsPhrcle"
      },
      "source": [
        "text = asr_model.transcribe_file(\"positive-audio.ogg\")"
      ],
      "execution_count": 19,
      "outputs": []
    },
    {
      "cell_type": "code",
      "metadata": {
        "colab": {
          "base_uri": "https://localhost:8080/"
        },
        "id": "F8oQoS8KPO4L",
        "outputId": "87b208b3-7729-4edc-d99f-3c85cfd06041"
      },
      "source": [
        "text = str(text).lower() \n",
        "text = text.capitalize()\n",
        "sentiment_value, confidence = s.sentiment(text)\n",
        "print(text, sentiment_value, confidence)"
      ],
      "execution_count": 21,
      "outputs": [
        {
          "output_type": "stream",
          "text": [
            "The movement was amazing and had great music pos 1.0\n"
          ],
          "name": "stdout"
        }
      ]
    },
    {
      "cell_type": "markdown",
      "metadata": {
        "id": "YtL2XAJGDolA"
      },
      "source": [
        "## Incluirla funcionalidad de buscar posts en Reddit por usuarios. A las publicaciones recolectadas de  Reddit  se  les  debe  hacer  un  procesamiento  para  eliminar hyperlinks,  menciones a  otros subreddits (r/smashbros)y menciones aotros usuarios (/Username).(10 puntos)"
      ]
    },
    {
      "cell_type": "code",
      "metadata": {
        "id": "7vaL25yYrcle",
        "outputId": "e3ef2f36-5751-48e0-a5a0-d3f254ecff9c"
      },
      "source": [
        "!pip install praw"
      ],
      "execution_count": null,
      "outputs": [
        {
          "output_type": "stream",
          "text": [
            "Collecting praw\n",
            "  Downloading praw-7.3.0-py3-none-any.whl (165 kB)\n",
            "Collecting websocket-client>=0.54.0\n",
            "  Downloading websocket_client-1.1.0-py2.py3-none-any.whl (68 kB)\n",
            "Collecting update-checker>=0.18\n",
            "  Downloading update_checker-0.18.0-py3-none-any.whl (7.0 kB)\n",
            "Collecting prawcore<3,>=2.1\n",
            "  Downloading prawcore-2.2.0-py3-none-any.whl (15 kB)\n",
            "Requirement already satisfied: requests<3.0,>=2.6.0 in c:\\users\\donal\\anaconda3\\lib\\site-packages (from prawcore<3,>=2.1->praw) (2.25.1)\n",
            "Requirement already satisfied: idna<3,>=2.5 in c:\\users\\donal\\anaconda3\\lib\\site-packages (from requests<3.0,>=2.6.0->prawcore<3,>=2.1->praw) (2.10)\n",
            "Requirement already satisfied: urllib3<1.27,>=1.21.1 in c:\\users\\donal\\anaconda3\\lib\\site-packages (from requests<3.0,>=2.6.0->prawcore<3,>=2.1->praw) (1.26.4)\n",
            "Requirement already satisfied: chardet<5,>=3.0.2 in c:\\users\\donal\\anaconda3\\lib\\site-packages (from requests<3.0,>=2.6.0->prawcore<3,>=2.1->praw) (4.0.0)\n",
            "Requirement already satisfied: certifi>=2017.4.17 in c:\\users\\donal\\anaconda3\\lib\\site-packages (from requests<3.0,>=2.6.0->prawcore<3,>=2.1->praw) (2020.12.5)\n",
            "Installing collected packages: websocket-client, update-checker, prawcore, praw\n",
            "Successfully installed praw-7.3.0 prawcore-2.2.0 update-checker-0.18.0 websocket-client-1.1.0\n"
          ],
          "name": "stdout"
        }
      ]
    },
    {
      "cell_type": "code",
      "metadata": {
        "id": "rYEuxglRrclf"
      },
      "source": [
        "import praw\n",
        "\n",
        "reddit = praw.Reddit(client_id='6cOKIV7_OKBd_-6kqOxYOg',\n",
        "                     client_secret='3xEPxxGZPrtLBaRXPmIG1HBEZOARwQ', password='Ece321ad!',\n",
        "                     user_agent='uwu', username='onesleepybird')"
      ],
      "execution_count": null,
      "outputs": []
    },
    {
      "cell_type": "code",
      "metadata": {
        "id": "UIe12JaQrclf"
      },
      "source": [
        "subreddit = reddit.subreddit('python')"
      ],
      "execution_count": null,
      "outputs": []
    },
    {
      "cell_type": "code",
      "metadata": {
        "id": "IWfsD8Kmrclf"
      },
      "source": [
        "hot_python = subreddit.hot()"
      ],
      "execution_count": null,
      "outputs": []
    },
    {
      "cell_type": "code",
      "metadata": {
        "id": "Y_y1rj__rclf",
        "outputId": "d07c6426-0e55-454e-a011-15c3f93d5a25"
      },
      "source": [
        "hot_python = subreddit.hot(limit=3)\n",
        "for submission in hot_python:\n",
        "    if not submission.stickied:\n",
        "        print('Title: {}, ups: {}, downs: {}, Have we visited?: {}'.format(submission.title,\n",
        "                                                                           submission.ups,\n",
        "                                                                           submission.downs,\n",
        "                                                                           submission.visited))"
      ],
      "execution_count": null,
      "outputs": [
        {
          "output_type": "stream",
          "text": [
            "Title: My first big project in python (Im really proud of it!!!), ups: 461, downs: 0, Have we visited?: False\n"
          ],
          "name": "stdout"
        }
      ]
    },
    {
      "cell_type": "code",
      "metadata": {
        "id": "9KAJ6zXerclg",
        "outputId": "c8434aaa-eaef-4bb0-e078-681dfc02d3e8"
      },
      "source": [
        "### Implementación reddit\n",
        "### Buscar un \n",
        "import re\n",
        "from pprint import pprint\n",
        "import praw\n",
        "\n",
        "r = praw.Reddit(client_id='6cOKIV7_OKBd_-6kqOxYOg',\n",
        "                     client_secret='3xEPxxGZPrtLBaRXPmIG1HBEZOARwQ', password='Ece321ad!',\n",
        "                     user_agent='uwu', username='onesleepybird')\n",
        "submissions =  r.redditor(\"hoosakiwi\").submissions.hot()\n",
        "\n",
        "self_texts = []\n",
        "for link in submissions:\n",
        "    ## aquí ya se limpia el post/reddit\n",
        "    print(\"----\", ' '.join(re.sub(\"(/[A-Za-z0-9]+)|(@[A-Za-z0-9]+)|([^0-9A-Za-z \\t])|(\\w+:\\/\\/\\S+)|(/+:\\/\\/\\S+)\",\" \",link.title).split()), \"----\")\n",
        "    print(' '.join(re.sub(\"(/[A-Za-z0-9]+)|(@[A-Za-z0-9]+)|([^0-9A-Za-z \\t])|(\\w+:\\/\\/\\S+)\",\" \",link.selftext).split()), \"\\n\")\n"
      ],
      "execution_count": null,
      "outputs": [
        {
          "output_type": "stream",
          "text": [
            "---- Trump Organization Is Charged in 15 Year Tax Scheme ----\n",
            " \n",
            "\n",
            "---- New York Suspends Giuliani s Law License ----\n",
            " \n",
            "\n",
            "---- Trump Justice Department monitored Washington Post reporters phone calls in 2017 ----\n",
            " \n",
            "\n",
            "---- r Lounge ----\n",
            "removed \n",
            "\n",
            "---- Requesting r Think we can use it to host predictions for the league of legends subreddit ----\n",
            " \n",
            "\n",
            "---- Australia floods Thousands to be evacuated as downpours worsen ----\n",
            " \n",
            "\n",
            "---- r is looking for new moderators ----\n",
            "Edit We are no longer accepting applications If you do not hear from us in 2 3 weeks then we have decided not to move forward with your application nbsp Hello Everyone We are looking to recruit new mods to our team You do not need previous moderation experience but you should be willing to spend at minimum 7 hours a week helping to moderate the subreddit So what does that entail As a mod you will Review community reported posts and approve or remove them as per our rules Respond to modmails from the community Warn and ban users who violate our rules Help update or change our rules to better suit the community New ideas are encouraged Engage the community with events and competitions Facilitate AMAs and other fun stuff nbsp If this sounds interesting to you then please apply using this form Applications will be closed in 7 days and late applications will not be considered nbsp These are the minimum requirements for users who wish to apply Your account must be at least 1 year old Your account must be email verified You can check this by looking in your trophy case on your user profile Your account must have at least 1 000 combined karma You should have activity in before this post was made Please make sure you spell your username correctly when applying so we contact you if your application is approved \n",
            "\n",
            "---- r is looking for moderators Applications close in less than 24 hours Previous moderation experience is not required ----\n",
            "Edit Applications are now closed New applications will not be considered nbsp Hi All We are looking for some awesome people to join our global team So what does moderating a community like entail Well As a mod you ll help review community reported comments and submissions to ensure they abide by our rules and sitewide rules You ll respond to modmails from users You ll discuss our rules and help us improve them And of course you ll ban users who violate our rules nbsp If you d like to join our team then you can fill out this application nbsp We are looking for users who meet the following minimum requirements Your account must be at least 1 year old be email verified You can check this by looking in your trophy case have at least 1 000 combined karma nbsp Applications will close in less than 24 hours It will take us a few weeks to review all of the applications but we ll reach out to those we would like to hear more from so please make sure you spell your username correctly when you apply \n",
            "\n",
            "---- Less than 24 hours left to apply to be a moderator for Previous moderator experience is not required ----\n",
            "Edit Applications are now closed New applications will not be considered nbsp Hi All We are looking for some awesome people to join our global team So what does moderating a community like entail Well As a mod you ll help review community reported comments and submissions to ensure they abide by our rules and sitewide rules You ll respond to modmails from users You ll discuss our rules and help us improve them And of course you ll ban users who violate our rules nbsp If you d like to join our team then you can fill out this application nbsp We are looking for users who meet the following minimum requirements Your account must be at least 1 year old be email verified You can check this by looking in your trophy case have at least 1 000 combined karma nbsp Applications will close in less than 24 hours It will take us a few weeks to review all of the applications but we ll reach out to those we would like to hear more from so please make sure you spell your username correctly when you apply \n",
            "\n",
            "---- r is looking for moderators Previous moderator experience is not required ----\n",
            "Edit Applications are now closed New applications will not be considered nbsp Hi All We are looking for some awesome people to join our global team So what does moderating a community like entail Well As a mod you ll help review community reported comments and submissions to ensure they abide by our rules and sitewide rules You ll respond to modmails from users You ll discuss our rules and help us improve them And of course you ll ban users who violate our rules nbsp If you d like to join our team then you can fill out this application nbsp We are looking for users who meet the following minimum requirements Your account must be at least 1 year old be email verified You can check this by looking in your trophy case have at least 1 000 combined karma nbsp Applications will close in 7 days It will take us a few weeks to review all of the applications but we ll reach out to those we would like to hear more from so please make sure you spell your username correctly when you apply \n",
            "\n",
            "---- r is looking for moderators Previous moderator experience is not required ----\n",
            "Edit Applications are now closed New applications will not be considered nbsp Hi All We are looking for some awesome people to join our global team So what does moderating a community like entail Well As a mod you ll help review community reported comments and submissions to ensure they abide by our rules and sitewide rules You ll respond to modmails from users You ll discuss our rules and help us improve them And of course you ll ban users who violate our rules nbsp If you d like to join our team then you can fill out this application nbsp We are looking for users who meet the following minimum requirements Your account must be at least 1 year old be email verified You can check this by looking in your trophy case have at least 1 000 combined karma nbsp Applications will close in 7 days It will take us a few weeks to review all of the applications but we ll reach out to those we would like to hear more from so please make sure you spell your username correctly when you apply \n",
            "\n",
            "---- House cancels Thursday session after police warn of possible plot to breach the Capitol ----\n",
            " \n",
            "\n",
            "---- Subreddit Moderation Feedback Thread 15 ----\n",
            "Hi everyone We are back again with a fresh feedback thread In our last feedback thread we discussed the impact of our temporary rule update Event long bans for region baiting offenses during Worlds and the general moderation of the sub during Worlds There were no major rule changes coming out of that discussion and the last few months have been quiet in general Partly because of COVID and the holidays partly because things have been running pretty smoothly This time I d like to make this an open discussion about anything relating to the subreddit moderation rather than focusing on just a few items So a few prompts What would you all like to see more of of What are we the mods doing poorly What could we do better What are we doing right Oh And there s a cool feature that we ll be trialing out in the sub in the next month or so I can t say much more right now but keep an eye out for it nbsp Feedback is one thing that can help us moderators know what we are doing well and what we can improve upon This thread is for you to give any and all feedback to the mod team of In order to generate meaningful feedback please try to give constructive criticism i e provide an idea or solution instead of I don t like this Please state clearly which rule of moderation subreddit your post refers to at the start of your comment We may not reply to every single one here but we will definitely do our best to look at them all Please keep all top level comments as feedback which means if there are memes they will be removed This thread will last for approximately a week so be sure to get your word in before it goes \n",
            "\n",
            "---- ALERT Reddit is broken ----\n",
            "Hey Everyone Reddit is really struggling today Video submissions are not being processed and are not loading Submissions generally are delayed You may get an error when trying to open a new link As mods our tools are mostly offline It s very difficult for us to respond to your modmails or to approve submissions Update Looks like modtools are working again but some comments are now getting stuck and aren t posting Update 2 Modmail is down again but looks like comments are starting to roll in more steadily Lol \n",
            "\n",
            "---- LCS Lock In 2021 Week 1 Day 2 Live Discussion ----\n",
            "LCS LOCK IN 2021 Lolesports Leaguepedia Eventvods com New to LoL Today s matches will be played on Patch 11 1 Today s Matches Match PST EST CET KST 1 IMT vs EG 1 PM 4 PM 22 00 06 00 2 GG vs TSM 2 PM 5 PM 23 00 07 00 3 C9 vs FLY 3 PM 6 PM 00 00 08 00 4 IMT vs DIG 4 PM 7 PM 01 00 09 00 5 CLG vs 100 5 PM 8 PM 02 00 10 00 All matches are Best of 1 Streams Stream on Twitch Stream on YouTube Stream on Lolesports Comment Stream Teams Group A Team Record Information 1 100 Thieves 1 0 Leaguepedia Twitter 1 Golden Guardians 1 0 Leaguepedia Twitter 1 Team Liquid 1 0 Leaguepedia Twitter 4 Team SoloMid 0 1 Leaguepedia Twitter 5 Counter Logic Gaming 0 2 Leaguepedia Twitter Group B Team Record Information 1 Dignitas 1 0 Leaguepedia Twitter 1 Evil Geniuses 1 0 Leaguepedia Twitter 3 Immortals 0 0 Leaguepedia Twitter 4 Cloud9 0 1 Leaguepedia Twitter 4 FlyQuest 0 1 Leaguepedia Twitter On Air Team Hosts James Dash Patterson Gabriella LeTigress Devia Allen Analyst Desk Mark MarkZ Zimmerman Alberto Crumbz Rengifo Emily LeagueofEmily Rand Kien MeanMrKien Lam Hai Hai Du Lam Kaizen Primal Asdeiu Jake Spawn Tiberi Kieran Allorim Logue Play by Play Commentators David Phreak Turley Julian Pastrytime Carr Rivington Riv Bisland III Clayton CaptainFlowers Raines Color Commentators Sam Kobe Hartman Kenzler Isaac Azael Cummings Bentley Barento Razleplasm Mohammed Format Group Stage 10 teams participate Teams are drafted into two groups with each team selecting a team to be placed into the other group starting with TSM Group A and FLY Group B Single Round Robin Matches are best of one Top 4 teams from each group advance to the Knockout Stage Knockout Stage 8 teams participate Single elimination bracket Quarterfinals are best of three All other matches are best of five Tiebreakers 1 Head to head match record 2 Tiebreaker Bo1 The official NA LCS ruleset can be found here VoDs VoDs on Reddit VoDs on Eventvods com VoDs on YouTube VoDs on Lolesports \n",
            "\n",
            "---- Association of Flight Attendants president says violent protesters should be banned from flying ----\n",
            " \n",
            "\n",
            "---- Suicide bombing suspected in Nashville explosion as investigators search home south of the city ----\n",
            " \n",
            "\n",
            "---- GOP members of Wayne County Board of Canvassers vote against certifying election results ----\n",
            " \n",
            "\n",
            "---- Important Update 2020 Election ----\n",
            "On election night President Trump prematurely declared victory and claimed that the Democrats are stealing the election This is false nbsp Here s a quick FAQ to help you understand what is currently happening in the United States When will we get results Experts are predicting that it could take up to a week or more to get the final unofficial vote tallies in some states The NYTimes has a really helpful chart that explains what to expect in each state The biggest reason for the expected delay in results this year is due to mail in ballots including ballots from military service members which some states were not allowed to start counting until the polls close For example Pennsylvania did not start processing their mail in ballots until Election Day and may not finish counting them all until November 6th Keep in mind that we ve had historically high numbers of mail in ballots this year and counting them all takes time due to the robust security measures in place To dig into this even more we can look at Michigan and Pennsylvania Michigan As of 10 30am ET on 11 10 of votes are left to count and Biden has a small lead The bulk of the remaining ballots are in Detroit s Wayne County but the clerk there has not yet given a timeframe for when we can expect results Michigan Secretary of State Jocelyn Benson is promising a much more complete picture of Michigan by the end of the day Pennsylvania As of 10 30am ET on 11 22 of votes are left to count We are unlikely to know the final count today because 1 Philadelphia its suburbs and Pittsburgh are still counting ballots and 2 ballots can still arrive by Friday if postmarked on Election Day though this is likely to be challenged at the Supreme Court nbsp But we ve never had an election where ballots weren t all counted on election night FALSE On election night experts make projections based on statistical probabilities with the data they have It is normal for it to take weeks to count all the votes The good news is that most states are optimistic that they can have the unofficial vote count available by the end of the week nbsp Okay but counting votes after election night will steal the election FALSE Ballots have to be postmarked by Election Day and many states require that they must be received by Election Day States have to count all votes Counting all the votes cast isn t stealing anything it s making sure that every vote is counted just like every other election nbsp What s the deal with Pennsylvania Why are so many people alarmed Experts anticipated a red mirage in Pennsylvania that would later be subject to a blue shift and it looks like that s what we re seeing right now You can read a really detailed explanation here Here s what s happening Pennsylvania counted the in person Election Day vote first and that vote favored President Trump as expected Mail in ballots are counted later and are expected to favor Biden This is why we saw Trump with a big lead on election night and a shrinking lead as of this morning You should expect to continue to see this shrink Simply put We need to wait for all the votes to be counted before calling the winner nbsp What about Arizona Arizona is interesting because it could actually experience a red shift Early votes were expected to favor Biden and over the course of the night the race has tightened While some media outlets have called Arizona for Biden we should keep an eye on it This is why counting all the votes is not a partisan endeavor nbsp Are mail in ballots rife with fraud No Mail in ballots are very secure Colorado is almost completely vote by mail and has some of the most secure elections in the country Check out this helpful vote by mail resource from the Brennan Center Heck Ivanka and Jared even voted by mail in this election nbsp Are Democrats trying to steal the election No Counting the votes is not stealing the election Americans cast their votes and now we must wait for them all to be counted nbsp Where can I find the official election results The only official results are those certified by state elections officials While the media can make projections based on ballots counted versus outstanding state election officials are the authorities So if you re not sure about a victory claim you re seeing in the media or from candidates check back with the local officials The National Association of Secretaries of States lets you look up state election officials here nbsp Help us stop disinformation President Trump did a lot of damage to our democracy last night with his premature declaration He could still win this election but his continued attempts to undermine our election are very dangerous We will be doing our best to remove misinformation on this subreddit but we need your help Please report comments that Claim that mail in ballots are fraudulent Claim that the election is being stolen Call for violence or try to organize for violent action nbsp We ve got a crazy week ahead of us but if we all work together we can do our part to protect the 2020 election \n",
            "\n",
            "---- Mitch McConnell Wins 7th Term as Republicans Battle to Keep Senate ----\n",
            " \n",
            "\n",
            "---- Here s what you need to know for election week on ----\n",
            "We know a lot of you are very concerned about the US election and frankly we are too There s a lot of disinformation worming its way around online and we need your help to stop it from infecting Let s do our part to protect the 2020 election by stopping disinformation in its tracks Here s what you need to know for election week on Part 1 domain restrictions for election results First our team has decided to only allow election results to be reported from the following trusted outlets New York Times Reuters BBC AP AFP NPR The submission must be an article and it cannot be a mobile link Submitting a live feed shortlink or a mobile link will likely lead to it being removed It also must have the exact title from the article We are doing this to prevent the spread of misinformation by partisan or bad actors who want to sow chaos and undermine the election results nbsp Part 2 Resources and Commonly Asked Questions Will we get results on election night Experts are predicting that it could take up to a week or more to get the final unofficial vote tallies in many states The NYTimes has a really helpful chart that explains what to expect in each state The biggest reason for the expected delay in results this year is due to mail in ballots which some states are not allowed to start counting until the polls close For example Pennsylvania will not start processing their mail in ballots until Election Day and may not finish counting them all until November 6th Keep in mind that we ve had historically high numbers of mail in ballots this year and counting them all takes time due to the robust security measures in place nbsp But we ve never had an election where ballots weren t all counted on election night FALSE On election night experts make projections based on statistical probabilities with the data they have Given that so many votes may still be uncounted on election night it should not alarm anyone if experts decide to hold on making projections It is normal for it to take weeks to count all the votes The good news is that most states are optimistic that they can have the unofficial vote count available by the end of the week We just have to wait for it nbsp Okay but counting votes after election night will steal the election FALSE Ballots have to be postmarked by Election Day and many states require that they must be received by Election Day States have to count all votes Counting all the votes cast isn t stealing anything it s making sure that every vote is counted just like every other election nbsp What s the deal with Pennsylvania Why are so many people alarmed Experts are anticipating a red mirage in Pennsylvania that could later be subject to a blue shift You can read a really detailed explanation here Essentially though Pennsylvania will count the in person Election Day vote first and that vote is expected to favor President Trump Mail in ballots will be counted later which should favor Biden This means that on election night Trump could lead in Pennsylvania by several points but a significant portion of the vote will still be uncounted It s possible that we could see a significant shift in the days following Similarly in Arizona you could see a red shift where the initial vote favors Biden because the early votes are counted first and Election Day votes are counted later All of this is to say We need to wait for all the votes to be counted before calling the winner nbsp Are mail in ballots rife with fraud No Mail in ballots are very secure Colorado is almost completely vote by mail and has some of the most secure elections in the country Check out this helpful vote by mail resource from the Brennan Center Heck Ivanka and Jared even voted by mail in this election nbsp Where can I find the official election results The only official results are those certified by state elections officials While the media can make projections based on ballots counted versus outstanding state election officials are the authorities So if you re not sure about a victory claim you re seeing in the media or from candidates check back with the local officials The National Association of Secretaries of States lets you look up state election officials here nbsp Part 3 Stop Disinformation Here s what to look for and report And lastly we d like to make sure that bad information is not circulating on the subreddit If you see any of the following behavior in the comments please report it right away Users giving wrong information about when to vote where to vote and how to vote We ve already seen organized attempts to suppress and disenfranchise voters by giving the wrong date and locations for voting Users attempting to claim victory for their candidate before official results have called it Users claiming massive fraud or an attempt to steal the election by counting past election night Users calling for violence or trying to organize for violent action nbsp We ve got a crazy week ahead of us but if we all work together we can do our part to protect the 2020 election and stop disinformation on Reddit Thanks everyone \n",
            "\n",
            "---- The US debt is now projected to be larger than the US economy ----\n",
            " \n",
            "\n",
            "---- The Senate must abide by CDC guidelines even if it means delaying Barrett s confirmation hearings ----\n",
            " \n",
            "\n",
            "---- President Donald Trump says he has tested positive for coronavirus ----\n",
            " \n",
            "\n",
            "---- Trump plans to name conservative activist Tom Fitton to court oversight agency ----\n",
            " \n",
            "\n",
            "---- Fire in Ashland Oregon closes Interstate 5 at border truckers abandoning semis ----\n",
            " \n",
            "\n",
            "---- Multiple boats in distress sinking at Trump Boat Parade on Lake Travis ----\n",
            " \n",
            "\n",
            "---- Steve Bannon indicted in scheme to defraud donors to campaign pledging to build border wall ----\n",
            " \n",
            "\n",
            "---- Steve Bannon indicted in scheme to defraud donors to campaign pledging to build border wall ----\n",
            " \n",
            "\n",
            "---- Oculus will require people to log in through Facebook before they can use its VR devices company says ----\n",
            " \n",
            "\n",
            "---- Robert Trump the younger brother of President Donald Trump dead at age 72 ----\n",
            " \n",
            "\n",
            "---- Military helicopter shot at over Virginia injuring a crew member ----\n",
            " \n",
            "\n",
            "---- State lawmaker and local pilot among 7 killed in midair collision over Alaska s Kenai Peninsula ----\n",
            " \n",
            "\n",
            "---- Dealing with Criminal Accusations on the Subreddit ----\n",
            "Hi All Today we are introducing a new rule under our evidence rule Allegations of criminal conduct are not allowed unless it s from a journalistic source A journalistic source is defined as a site with an editor This would specifically disallow for twitter self published blogs twitch streams etc While this is the public facing rule that you will see in the sidebar there is more nuance to our enforcement which is as follows For esports related criminal allegations like pay issues we will allow posts about it from journalistic sources esports insiders and people with immediate first hand knowledge like players coaches etc However we still expect esports insiders and people with immediate first hand knowledge to provide evidence to support their assertions For criminal allegations outside of esports like sexual assault we will only allow a link post that links a journalistic source If there is crossover like sexual assault within a team we will consider that as an allegation outside of esports and will require any post about it to come from a journalistic source Explanation for this change Over the last few weeks we ve seen an uptick in serious allegations made against individuals in the gaming world Posts that callout criminal behavior are a double edged sword and too often the court of public opinion will decide someone s innocence or guilt without all the facts Frankly this puts us in an impossible situation of wanting to give voice to victims while also needing to ensure that sitewide rules against witch hunting and doxxing are upheld Mods are unpaid volunteers and posts like these are very much above our pay grade As such we are implementing stronger standards so that allegations of this nature are vetted by people who are actually paid to report on them Our goal is not to eradicate this news from being on the subreddit but rather to ensure an extra level of fact checking before it is submitted here \n",
            "\n",
            "---- Suspect found dead after federal Judge s son shot and killed husband injured at their NJ home ----\n",
            " \n",
            "\n",
            "---- Trump Commutes Sentence of Roger Stone in Case He Long Denounced Official Says ----\n",
            " \n",
            "\n",
            "---- Nick Cordero Broadway actor who battled COVID 19 has died at age 41 wife says ----\n",
            " \n",
            "\n",
            "---- 2020 LEC Summer Week 4 Day 2 Live Discussion ----\n",
            "LEC 2020 SUMMER Lolesports Leaguepedia Eventvods com New to LoL Today s matches will be played on Patch 10 13 Today s Matches Day X Match PST EST CET KST 1 RGE vs SK 8 AM 11 AM 17 00 01 00 2 VIT vs OG 9 AM 12 PM 18 00 02 00 3 FNC vs S04 10 AM 1 PM 19 00 03 00 4 G2 vs XL 11 AM 2 PM 20 00 04 00 5 MSF vs MAD 12 PM 3 PM 21 00 05 00 All matches are Best of 1 Streams Stream on Twitch Stream on YouTube Stream on Lolesports Teams Team Record Information 1 MAD Lions 7 1 Leaguepedia Twitter 2 Rogue 6 2 Leaguepedia Twitter 3 G2 Esports 5 3 Leaguepedia Twitter 4 Fnatic 4 4 Leaguepedia Twitter 4 Misfits 4 4 Leaguepedia Twitter 4 Origen 4 4 Leaguepedia Twitter 4 SK Gaming 4 4 Leaguepedia Twitter 8 Excel Esports 3 5 Leaguepedia Twitter 8 Team Vitality 3 5 Leaguepedia Twitter 10 FC Schalke 04 0 8 Leaguepedia Twitter On Air Team Host Eefje Sjokz Depoortere Interviewer Laure LaureBuliiv Valee Play by Play Commentators Trevor Quickshot Henry Daniel Drakos Drakos Aaron Medic Chamberlain Analysts Commentators Andrew Vedius Day Indiana Froskurinn Black Christy Ender Frierson Dan Foxdrop Wyatt Format Best of 1 double round robin Nine weeks Ten matches per week Each team plays two matches per week Ten teams Top 6 teams qualify for Spring Playoffs Tiebreakers 1 Head to head record 2 Tiebreaker Bo1 The official LEC ruleset can be found here VoDs VoDs on Reddit VoDs on Eventvods com VoDs on Lolesports \n",
            "\n",
            "---- Nationwide Protests Against Police Brutality Megathread 11 ----\n",
            "There are protests happening across the country right now You can discuss them all here nbsp Update Feeds You can follow the real time updates on CNN here Or you can follow the NYTimes live updates here nbsp Live Streams USA Today Multi city Twitch tv Multi city WCVB 5 Boston Facebook NowThisNews Washington D C Youtube JeffMAC Washington D C Youtube Actual Intelligence NYC ABC 7 NYC NBC 4 NYC Youtube The Resistance Boston ABC 7 Oakland CBS 8 San Diego Youtube Wanderer Nirvana Venice Beach CA CBS 46 Atlanta SnapMap use this to see snaps from protests across the country nbsp Previous Megathreads Megathread 1 May 28 Megathread 2 May 29 Megathread 3 May 30 Megathread 4 May 31 Megathread 5 June 1 Megathread 6 June 2 Megathread 7 June 3 Megathread 8 June 4 Megathread 9 June 5 Megathread 10 June 6 nbsp Comment Sort for This Thread The comments have been set to new so that people can discuss the ongoing events However you can click here to view them by the most upvoted \n",
            "\n",
            "---- Nationwide Protests Against Police Brutality Megathread 10 ----\n",
            "There are protests happening across the country right now You can discuss them all here nbsp Update Feeds You can follow the real time updates on CNN here Or you can follow the NYTimes live updates here nbsp Mainstream Media Livestreams USA Today Multi city Protests Focused on the massive protest in Washington D C right now nbsp Here are some livestreams from regular citizens Twitch tv Multi city Washington D C NYC London Chicago Milwaukee Dallas etc Youtube Kittykat Lounge Washington D C SnapMap use this to see snaps from protests across the country nbsp Previous Megathreads Megathread 1 May 28 Megathread 2 May 29 Megathread 3 May 30 Megathread 4 May 31 Megathread 5 June 1 Megathread 6 June 2 Megathread 7 June 3 Megathread 8 June 4 Megathread 9 June 5 nbsp Comment Sort for This Thread The comments have been set to new so that people can discuss the ongoing events However you can click here to view them by the most upvoted \n",
            "\n",
            "---- Nationwide Protests Against Police Brutality Megathread 9 ----\n",
            "There are protests happening across the country right now You can discuss them all here nbsp Update Feeds You can follow the real time updates on CNN here Or you can follow the NYTimes live updates here nbsp Mainstream Media Livestreams USA Today Multi city Protests nbsp Here are some livestreams from regular citizens Twitch tv Multi city NYC Washington D C Louisville Atlanta Seattle Maine etc Twitch tv Multi city Atlanta Seattle Washington D C NYC Colombus Huntsville Tampa etc Youtube Kittykat Lounge Washington D C Youtube Actual Intelligence New York City Youtube Adventures with PeachyRider Atlanta SnapMap use this to see snaps from protests across the country nbsp Previous Megathreads Megathread 1 May 28 Megathread 2 May 29 Megathread 3 May 30 Megathread 4 May 31 Megathread 5 June 1 Megathread 6 June 2 Megathread 7 June 3 Megathread 8 June 4 nbsp Comment Sort for This Thread The comments have been set to new so that people can discuss the ongoing events However you can click here to view them by the most upvoted \n",
            "\n",
            "---- Nationwide Protests Against Police Brutality Megathread 8 ----\n",
            "There are protests happening across the country right now You can discuss them all here nbsp Update Feeds You can follow the real time updates on CNN here Or you can follow the NYTimes live updates here nbsp Mainstream Media Livestreams USA Today Multi city Protests ABC News National Coverage WVTM 13 Birmingham AL nbsp Here are some livestreams from regular citizens Twitch tv Multi city NYC Atlanta LA Nashville Ohio etc Twitch tv Multi city Atlanta Seattle Washington D C NYC Colombus Philadelphia Tampa etc Youtube Kittykat Lounge Washington D C Youtube Actual Intelligence New York City Youtube EstarTV New York City Youtube JokerATL Atlanta Youtube Adventures with PeachyRider Atlanta Twitch tv Chicago Twitch tv Indianapolis Youtube TBL World Lebanon PA SnapMap use this to see snaps from protests across the country nbsp Previous Megathreads Megathread 1 May 28 Megathread 2 May 29 Megathread 3 May 30 Megathread 4 May 31 Megathread 5 June 1 Megathread 6 June 2 Megathread 7 June 3 nbsp Comment Sort for This Thread The comments have been set to new so that people can discuss the ongoing events However you can click here to view them by the most upvoted \n",
            "\n",
            "---- Nationwide Protests Against Police Brutality Megathread 7 ----\n",
            "There are protests happening across the country right now You can discuss them all here nbsp Update Feeds You can follow the real time updates on CNN here Or you can follow the NYTimes live updates here nbsp Mainstream Media Livestreams Most media are streaming the town hall and not the protests I ll add more in as the protest streams come online ABC News Barack Obama Town Hall USA Today Barack Obama Town Hall Reuters Barack Obama Town Hall USA Today Multi city KTLA 5 Los Angeles KENS 5 San Antonio nbsp Here are some livestreams from regular citizens Twitch tv Multi city Stream Periscope NowThisNews Washington D C marching Facebook NowThisNews Washington D C at the White House Youtube Kittykat Lounge Washington D C Youtube Unicorn Riot Minneapolis Facebook Kristen Harris Talley Seattle Twitch tv Indianapolis Youtube TBL World Baltimore MD Youtube EstarTV New York City Youtube JokerATL Atlanta Youtube Adrian20btw Chicago Youtube AV Watchmen Palmdale CA SnapMap use this to see snaps from protests across the country nbsp Previous Megathreads Megathread 1 May 28 Megathread 2 May 29 Megathread 3 May 30 Megathread 4 May 31 Megathread 5 June 1 Megathread 6 June 2 nbsp Comment Sort for This Thread The comments have been set to new so that people can discuss the ongoing events However you can click here to view them by the most upvoted \n",
            "\n",
            "---- Rep Steve King Who Embraced White Supremacy Loses Primary Amid Nationwide Protests Against Racism ----\n",
            " \n",
            "\n",
            "---- Nationwide Protests Against Police Brutality Megathread 6 ----\n",
            "There are protests happening across the country right now You can discuss them all here nbsp Update Feeds You can follow the real time updates on CNN here Or you can follow the NYTimes live updates here nbsp Mainstream Media Livestreams ABC News National Coverage USA Today Multi city CBS News Houston TX KHOU Houston TX Reuters Washington D C NBC New York New York City NY ABC 7 Los Angeles CA ABC7 News Bay Area San Jose CA KSTP Minneapolis MN Fox 29 Philadelphia PA ABC 7 Chicago IL WRTV Indianapolis IN WLTX News 19 Columbia SC Bloomberg QuickTake News Detroit MI nbsp Here are some livestreams from regular citizens Twitch tv Multi city Washington D C Paris NYC LA Minneapolis Texas Oklahoma New Jersey Periscope Redfish Paris France Periscope NowThisNews Washington D C Youtube Kittykat Lounge Washington D C Facebook Live Carla Cristina Puerto Rico Youtube SlappaDon Live Boston Youtube Regg Inkagnedo Minneapolis Youtube Unicorn Riot Minneapolis Twitch tv Indianapolis Youtube TBL World Baltimore MD Youtube Jeff Mac New York City SnapMap use this to see snaps from protests across the country nbsp Previous Megathreads Megathread 1 May 28 Megathread 2 May 29 Megathread 3 May 30 Megathread 4 May 31 Megathread 5 June 1 nbsp Comment Sort for This Thread The comments have been set to new so that people can discuss the ongoing events However you can click here to view them by the most upvoted \n",
            "\n",
            "---- Nationwide Protests Against Police Brutality Megathread 5 ----\n",
            "There are protests happening across the country right now You can discuss them all here nbsp Update Feeds You can follow the real time updates on CNN here Or you can follow the NYTimes live updates here nbsp Mainstream Media Livestreams ABC News National Coverage USA Today Multi city Reuters Washington D C ABC 7 Los Angeles KSTP Minneapolis CBSN Philadelphia Fox 29 Philadelphia 11 Alive Atlanta 9News Denver nbsp Here are some livestreams from regular citizens Twitch tv Multi city Washington D C Chicago New York City Atlanta Santa Monica Periscope TIME Washington D C Periscope NowThisNew Washington D C Youtube James Prime Chicago Youtube Adventures with PeachyRider Atlanta Stream is offline because she was arrested Youtube Regg Inkagnedo Minneapolis Youtube Unicorn Riot Minneapolis nbsp Previous Megathreads Megathread 1 May 28 Megathread 2 May 29 Megathread 3 May 30 Megathread 4 May 31 nbsp Comment Sort for This Thread The comments have been set to new so that people can discuss the ongoing events However you can click here to view them by the most upvoted \n",
            "\n",
            "---- Nationwide Protests Against Police Brutality Megathread 4 ----\n",
            "There are protests happening across the country right now You can discuss them all here nbsp Update Feeds You can follow the real time updates on CNN here Or you can follow the NYTimes live updates here nbsp Mainstream Media Livestreams ABC News National Coverage USA Today Multi city ABC 7 Santa Monica NBCLA Santa Monica ABC 7 San Francisco KSTP Minneapolis KARE 11 Minneapolis CBSN Philadelphia Fox 29 Philadelphia Detroit Free Press Detroit 11 Alive Atlanta 9News Denver WFAA Dallas KVUE Austin Local 10 Miami WRAL Raleigh nbsp Here are some livestreams from regular citizens Twitch tv Multi city Washington D C Minneapolis New York City Chicago Los Angeles Youtube The Zach and Matt Show Washington D C Youtube Adventures with PeachyRider Atlanta Youtube Wanderer Nirvana Santa Monica Youtube Regg Inkagnedo Minneapolis Youtube Unicorn Riot Minneapolis nbsp Previous Megathreads Megathread 1 May 28 Megathread 2 May 29 Megathread 3 May 30 nbsp Comment Sort for This Thread The comments have been set to new so that people can discuss the ongoing events However you can click here to view them by the most upvoted \n",
            "\n",
            "---- Nationwide Protests for George Floyd Megathread 3 ----\n",
            "There are protests happening across the country right now You can discuss them all here nbsp Update Feeds You can follow the real time updates on CNN here Or you can follow the NYTimes live updates here nbsp Mainstream Media Livestreams NBC News Live covering multiple cities KTLA 5 Los Angeles NBCLA Los Angeles KSTP 5 Minneapolis ABC 7 San Francisco WFAA Dallas 11 Alive Atlanta King 5 Seattle CBSN Philadelphia ABC 4 Salt Lake City WDRB Louisville KY WHEC 10 Rochester NY nbsp Here are some livestreams from regular citizens Twitch Multi city Los Angeles Washington D C Chicago Seattle Twitch Multi city Washington D C Chicago San Francisco Austin Atlanta Seattle Dallas Nashville Youtube Washington D C Youtube Atlanta Twitch Los Angeles Youtube Chicago Youtube Minneapolis Youtube Dallas nbsp Previous Megathreads Megathread 1 May 28 Megathread 2 May 29 nbsp Comment Sort for This Thread The comments have been set to new so that people can discuss the ongoing events However you can click here to view them by the most upvoted \n",
            "\n",
            "---- FBI s Top Lawyer Ousted Amid Fox News Criticism for Role in Flynn Probe ----\n",
            " \n",
            "\n",
            "---- Nationwide Protests for George Floyd Megathread 2 ----\n",
            "There are protests happening across the country right now You can discuss them all here Links coming shortly for livestreams and update feeds nbsp Update Feeds You can follow the real time updates on CNN here Or you can follow the NYTimes live updates here nbsp Mainstream Media Livestreams KSTP Minneapolis CNN Minneapolis note that this stream could change location CNN Atlanta note that this stream could change location 11Alive Atlanta WFAA Dallas NBC Bay Area San Jose ABC 7 San Jose KSHB Kansas City KCCI 8 Des Moines Iowa WHAS 11 Louisville Kentucky KTLA 5 Los Angeles Fox 6 Milwaukee WI nbsp Here are some livestreams from regular citizens Unicorn Riot Minneapolis Protester in Minneapolis Boston Houston Multi city livestream from Twitch nbsp The comments have been set to new so that people can discuss the ongoing events However you can click here to view them by the most upvoted \n",
            "\n",
            "---- Minneapolis Riots Megathread ----\n",
            "This thread is for discussion on the ongoing Riots in Minneapolis and across the country nbsp You can follow the real time updates on CNN here Or you can follow the NYTimes live updates here nbsp You can watch KSTP s live video here There is also a popular periscope stream here by Unicorn Riot which is covering the riots on the ground and interviewing protesters Please note that this is not a mainstream media source nbsp The comments have been set to new so that people can discuss the ongoing events However you can click here to view them by the most upvoted \n",
            "\n",
            "---- U S death toll from coronavirus tops 100 000 ----\n",
            " \n",
            "\n",
            "---- Is it possible to disable chats ----\n",
            "As a mod for some big subreddits I m getting a ridiculous number of chat requests Is it possible to just disable the chat feature Also can you guys make the modmail button more prominent so users feel inclined to use it instead of chatting me all the damn time It s soooooooo annoying \n",
            "\n",
            "---- League of Legends is DOWN ----\n",
            "It looks like League of Legends is offline globally The launcher and login services are not working for anyone Discuss here \n",
            "\n",
            "---- COVID 19 Megathread 8 ----\n",
            "This post is updated daily You can also follow the Reddit Live thread here nbsp COVID 19 has now infected more than 803 313 people There have been 39 014 confirmed deaths and 172 657 confirmed recoveries attributed to the virus nbsp Do you think you have COVID 19 The CDC has a new online tool that allows people to self check for COVID 19 Click here to use the Coronavirus Self Checker tool nbsp Recent Updates Note These are the updates from the last 48 72 hours nbsp MARCH 30 General Coronavirus death rate is lower than previously reported study says but it s still deadlier than seasonal flu The research published in the medical journal The Lancet Infectious Diseases estimated that about 0 66 of those infected with the virus will die That coronavirus death rate which is lower than earlier estimates takes into account potentially milder cases that often go undiagnosed but it s still far higher than the 0 1 of people who are killed by the flu When undetected infections aren t taken into account the Lancet study found that the coronavirus death rate was 1 38 which is more consistent with earlier reports Read more here Updates from around the world Portugal has temporarily given all migrants and asylum seekers full citizenship rights granting them full access to the country s healthcare as the outbreak of the novel coronavirus escalates in the country The move will unequivocally guarantee the rights of all the foreign citizens with applications pending with Portuguese immigration meaning they are in a situation of regular permanence in National Territory until June 30 Read more here Sweden is open for business during its coronavirus outbreak the Scandinavian country believes its distinctive high trust culture will protect it from needing to shut down for the pandemic It s now the only country in Europe to not have restricted movement Read more here Brazil s governors are defying President Jair Bolsonaro over his call to reopen schools and businesses dismissing his argument that the cure of widespread shutdowns to contain the spread of the coronavirus is worse than the disease Read more here Panama has announced new movement restrictions Starting April 1 women will circulate Monday Wednesday and Friday and men Tuesday Thursday and Saturday On Sundays everyone should stay at home The same schedule is used with the last ID number and exceptions established in Decree 507 remain See the tweet here Netherlands A painting by Dutch master Vincent van Gogh was stolen in an overnight smash and grab raid on a museum that was closed to prevent the spread of the coronavirus police and the museum said Monday Read more here Updates from the United States A 1 000 bed Navy ship the Comfort has arrived in New York City The ship has 12 operating rooms a medical laboratory and more than 1 000 officers See the video here Federal judges block 3 states from enforcing abortion bans tied to the pandemic Ohio Iowa Mississippi Alabama and Oklahoma are among the other states that recently moved to suspend access The judges on Monday lifted restrictions Texas Ohio and Alabama imposed on abortion during the coronavirus pandemic in decisions that could have repercussions for several more Republican led states that have deemed the procedure non essential during the crisis Read more here Arizona Virginia and Washington D C have now joined dozens of other states in issuing stay at home orders You can see all the states that currently have stay at home orders and advisories here nbsp MARCH 29 Updates from around the world Hungary Parliament passes bill that gives PM Orb n unlimited power proclaims State of emergency w time limit Rule by decree Parliament suspended No elections Spreading fake news rumors up to 5 yrs in prison Leaving quarantine up to 8 yrs in prison See the tweet here The former Italian Prime Minister calls for Hungary to reverse its dictatorship law or else be expelled from the EU See the tweet here The postponed Tokyo Olympics have been rescheduled and will now be held from July 23 to August 8 in 2021 Read more here Global oil benchmark Brent crude plunged to its cheapest in 18 years on Monday while U S crude briefly tumbled below 20 per barrel on heightened fears that the global coronavirus shutdown could last months and demand for fuel could decline further Read more here Spain s Princess Maria Teresa of Bourbon Parma has become the first royal to die from the novel coronavirus The 86 year old was a cousin of Spain s King Felipe VI She died after contracting COVID 19 Read more here Australia Two Australian states close gun shops Read more here Japan will deny entry to people coming from the U S China South Korea and most of Europe See the tweet here Argentina Honduras and Guatemala are all extending their quarantines through to at least mid April Mexico is calling on all residents in Mexico to stay at home until April 19 saying it was the only way to reduce the transmission rate of the coronavirus Read more here Belarus president refuses to cancel anything and says vodka and saunas will ward off COVID 19 Read more here Netherlands In a national address to the Dutch nation on Monday March 16th Prime Minister Mark Rutte said his country would aim to develop immunity to the novel coronavirus among its population by allowing large numbers to contract the illness at a controlled pace In the past week Rutte has since walked back the herd immunity policy line by introducing what could be characterized as lockdown light The country s pragmatic balancing act doesn t seem to be working as well as intended The confirmed case fatality rate in the Netherlands of approximately 7 stands in stark contrast to its neighbor Germany s 0 7 Read more here Indonesia may soon quarantine almost 30 million people in its capital and surrounding areas and limit people s movement between regions to contain the spread of the coronavirus that s killed more than 100 people in the world s fourth most populous nation Read more here South Korea Around 14 million South Korean households will qualify for financial assistance under the government s newly announced disaster support fund The level of support depends on the number of people in the household with one person households qualifying for 400 000 won 327 while households with four or more people will receive 1 million won 817 in support Read more here Nigeria Both Nigeria s largest city and its capital city will be under a cessation of movement for 14 days said Nigerian President Muhammadu Buhari in a Sunday address which was published on Twitter See the tweet here Updates from the United States President Trump extends social distancing guidelines to April 30 See the tweet here CDC issues domestic travel advisory for New York New Jersey and Connecticut Read more here The Justice Department has started to probe a series of stock transactions made by lawmakers ahead of the sharp market downturn stemming from the spread of coronavirus according to two people familiar with the matter The inquiry which is still in its early stages and being done in coordination with the Securities and Exchange Commission has so far included outreach from the FBI to at least one lawmaker Sen Richard Burr seeking information about the trades according to one of the sources Read more here Treasury Secretary Steven Mnuchin spoke to reporters Sunday morning saying Americans should start to see checks from the 2 trillion stimulus bill direct deposited into their accounts over the next three weeks Read more here New York City builds emergency field hospital in Central Park The mayor announced the construction of a 68 bed emergency field hospital in Central Park s East Meadow Read more here Maryland has now joined other U S states in announcing a stay at home order Read more here Michigan State Rep Isaac Robinson D Detroit died Sunday Crain s reported that Robinson died of suspected coronavirus infection but the cause of his death was not immediately confirmed late Sunday Read more here Liberty University reopened last week igniting a firestorm As of Friday Dr Eppes said nearly a dozen Liberty students were sick with symptoms that suggested Covid 19 the disease caused by the virus Three were referred to local hospital centers for testing An additional eight were told to self isolate Read more here nbsp MARCH 28 Updates from around the world Germany Mr Thomas Schaefer the finance minister of Germany s Hesse state has committed suicide apparently after becoming deeply worried over how to cope with the economic fallout from the coronavirus Mr Schaefer 54 was found dead near a railway track on Saturday Read more here India is planning to turn some railway coaches into isolation wards for patients with coronavirus as authorities scramble to prepare the country s health infrastructure for an expected surge in cases Read more here United Kingdom Fruit and veg will run out unless Britain charters planes to fly in farm workers from eastern Europe UK urgently needs to fill 90 000 positions to pick crops that will otherwise die in the fields Read more here Spain s quarantine measures have been extended until April 9 Read more here Meanwhile the regional government of Madrid is planning to set up a second makeshift morgue which could start receiving coffins on Monday The facility is located inside a failed development project called the City of Justice that was launched in 2005 to bring together all of Madrid s judicial institutions Read more here France A French former cabinet minister and former president of the Parisian Haut de Seine administrative district has become one of the first high profile politicians to die of COVID 19 Patrick Devedjian was 75 Read more here Vietnam has started closing non essential services and restricting religious activities parts of measures under a directive signed by Prime Minister Nguyen Xuan Phuc that runs from Saturday until April 15 Provincial and municipal leaders will decide which specific services are to be shut down Read more here Mexico President Andr s Manuel L pez Obrador has been criticized at home and abroad for what many called a lackadaisical posture urging people to hug shaking hands and kissing well wishers as he stumped and extolling his personal good luck charms such as Catholic scapulars a shamrock and 2 bill But the president and his team have shifted their message radically in recent days as virus cases have begun surging urging people to stay home and to practice social distancing and warning of dire results if that advice is ignored Although the Mexican government still hasn t instituted curfews or mandatory stay at home orders Read more here This change comes after a Mexican governor sparked outrage earlier in the week by claiming that poor people are immune to the virus Read more here Updates from the United States Kansas joins dozens of other states in issuing a stay at home order Read more here Rhode Island sparked outrage with the state s new coronavirus measures which include stopping and screening passengers in cars wtih New York license plates and going door to door to inform any New Yorkers who may have come to the state that they must self quarantine for 14 days Read more here In response NY Governor Cuomo has threatened to sue Rhode Island Read more here Meanwhile President Trump and Governor Cuomo got into a constitutional slapfight about whether or not a federal quarantine would be mandated for New York New Jersey and Connecticut In the end President Trump backed down and instead requested the CDC issue a strong travel advisory for the area which has now happened Read more here nbsp Tracking COVID 19 Johns Hopkins University has a live tracker of the global spread of COVID 19 here The CDC is tracking US cases here Today s situation report from the WHO The CDC s COVID 19 Situation Summary There are tons of travel bans globally right now CNN has put together a full list here nbsp Reputable Sources for Information The CDC s Dedicated Coronavirus Resource The WHO s Dedicated Coronavirus Resource The University of Chicago School of Medicine s handy FAQ style resource nbsp Previous Megathreads March 19 25 Megathread 7 March 14 18 Megathread 6 March 10 13 Megathread 5 March 1 9 Megathread 4 Feb 9 29 Megathread 3 Feb 6 9 Megathread 2 Jan 29 Feb 6 Megathread 1 \n",
            "\n",
            "---- Exclusive U S axed CDC expert job in China months before virus outbreak ----\n",
            " \n",
            "\n",
            "---- U S Orders Up To A Yearlong Break On Mortgage Payments ----\n",
            " \n",
            "\n",
            "---- COVID 19 Megathread 7 ----\n",
            "This post is updated daily You can also follow the Reddit Live thread here nbsp COVID 19 has now infected more than 468 523 people There have been 21 192 confirmed deaths and 113 780 confirmed recoveries attributed to the virus nbsp Do you think you have COVID 19 The CDC has a new online tool that allows people to self check for COVID 19 Click here to use the Coronavirus Self Checker tool nbsp Major Updates Recent updates are just under this section 1 United States The US State Department has raised their travel warning to a Global Level 4 Health Advisory and is advising all U S citizens to avoid all international travel due to the global impact of COVID 19 In countries where commercial departure options remain available U S citizens who live in the United States should arrange for immediate return to the United States unless they are prepared to remain abroad for an indefinite period Read more here nbsp Recent Updates Note These are the updates from the last 48 72 hours MARCH 25 United States The Senate just passed a 2 Trillion stimulus package the most expensive ever to help companies and Americans during the coronavirus crisis The package includes 500 billion in loans for distressed industries expanded unemployment benefits a one time 1 200 payment to Americans that make 75 000 or less a year funding for hospitals and municipalities and more Read more here House Speaker Pelosi is saying that she expects a fourth coronavirus relief package will be needed Read more here United States New York City morgues are near capacity DHS briefing warns Officials were told that morgues in the city are expected to reach capacity next week per the briefing Read more here United States Colorado Idaho and Minnesota more than a dozen other U S states in issuing a stay at home order United States Defense Secretary Mark Esper has ordered a stop to all troop movement overseas for 60 days to attempt to curb the spread of the coronavirus in the military The stop movement order will apply to all U S forces civilian personnel and families including those scheduled to return stateside and those scheduled to deploy with some exceptions Read more here United Kingdom Prince Charles 71 has tested positive for coronavirus and is displaying mild symptoms but otherwise remains in good health The Duchess of Cornwall 72 has been tested but does not have the virus Charles and Camilla are now self isolating at Balmoral Buckingham Palace said the Queen last saw her son the heir to the throne on 12 March but was in good health Read more here United Kingdom Millions of 15 minute home coronavirus tests are set to be available on the high street or for Amazon delivery to people self isolating according to Public Health England PHE in a move that could restore many people s lives to a semblance of pre lockdown normality Read more here France will withdraw all troops it has stationed in Iraq until further notice due to the coronavirus outbreak Read more here Saudi Arabia reported its second coronavirus death and tightened a nationwide curfew barring entry to and exit from the capital Riyadh and the holy cities of Mecca and Medina as well as movement between all provinces from on Wednesday The orders approved by King Salman and published by state media also brought forward the start of curfew in the three cities to 3pm from 7pm starting on Thursday Read more here Brazil Gangs and militias have imposed strict curfews Now with the state government woefully underfunded and Brazilian President Bolsonaro widely criticized for a slow response to the outbreak criminal gangs that have long held sway across Rio s favelas are taking their own precautions against the virus according to residents and press reports According to well sourced Rio newspaper Extra City of God gangsters have been driving round the slum blaring out a recorded message to residents We re imposing a curfew because nobody is taking this seriously Whoever is in the street screwing around or going for a walk will receive a corrective and serve as an example Better to stay home doing nothing The message has been given Read more here Zimbabwe s public hospital doctors went on strike Wednesday over a lack of protective gear as the coronavirus begins to spread in a country whose health system has almost collapsed It s the latest blow to a system where some patients families are asked to provide such basics as gloves and even clean water The Zimbabwe Hospital Doctors Association president Tawanda Zvakada said the hundreds of doctors are at high risk and will return to work when the government provides suitable protection Right now we are exposed and no one seems to care Read more here New Zealand sends emergency alert to citizens We are depending on you Read more here PM Jacinda Ardern also hosted a Facebook Live last night from her home to answer questions about the coronavirus response Watch here Italy s coronavirus infection rate slowed for a fourth successive day on Wednesday and the the total number of deaths also dropped though still remained high at 683 Read more here Singapore is heading towards a deep recession The numbers are among the first official data from any country showing how coronavirus might impact economies and signal the onset of the global recession Read more here Japan The governor of Tokyo has asked the city s residents to stay at home this weekend to avoid an explosion of Covid 19 infections following a rise in the number of local cases Read more here The United Nations announced a 2 billion global response package to fight the coronavirus pandemic in countries that leaders say may not have the resources themselves to combat the virus Read more here Britain s deputy ambassador to Hungary Steven Dick age 37 has died after contracting coronavirus See the tweet here Workers in at least eight Amazon warehouses across the United States have tested positive for the coronavirus just as the e commerce giant ramps up hiring to meet surging online sales In response Amazon temporarily closed down facilities in some cases in order for the centers to be sanitized Read more here Footage of empty cities from across the globe See the video here nbsp MARCH 24 The head of the World Health Organization on the acceleration of the coronavirus It took 67 days from the first reported case to reach the first 100 000 cases 11 days for the second 100 000 cases and just 4 days for the third 100 000 cases Read more here United States The White House urged anyone who has been in New York to self quarantine for 14 days to stop the spread of the coronavirus which has become widespread in the city Read more here United States President Trump wants packed churches and economy open again on Easter despite the deadly threat of coronavirus Read more here United States New York City will enact a plan to open up specific streets for exercise in each of the five boroughs beginning Thursday as coronavirus takes its heavy toll on the city Read more here UK asks for 250 000 volunteers to help its health service cope with the coronavirus outbreak Read more here Sierra Leone introduced a 12 month state of emergency to deal with the coronavirus Read more here Brazil President Jair Bolsonaro continues to ignore warnings about the coronavirus as the virus spreads across the country There are at least 1 980 confirmed cases of the virus in Brazil with the death toll at 34 Bolsonaro has called the virus a little flu and said the pandemic is a fantasy and has refused to close non essential businesses to prevent the spread of the virus He has also attacked the governors of Sao Paulo and Rio de Janeiro states for implementing shutdown orders Brazilians angry over Bolsonaro s lack of response have been banging pots and pans on their balconies in an act of protest Read more here India imposed a three week long nationwide lockdown for its 1 3 billion people the most far reaching measure undertaken by any government to curb the spread of the coronavirus pandemic Read more here United States Los Angeles County Sheriff orders gun stores to close adds 1 300 deputies to patrol Read more here United States Waffle House has now closed 365 locations across the U S due to the coronavirus pandemic 1 627 locations remain open Read more here For those of you wondering why this is news the Federal Emergency Management Agency FEMA measures how serious things are in an area by using the Waffle House Index China reopens parts of the Great Wall of China after coronavirus closures Read more here nbsp MARCH 23 Around 20 of the global population is under lockdown ordered to stay home as the world enters a critical week in responding to the accelerating coronavirus pandemic Read more here CDC says coronavirus survived in Princess Cruise ship cabins for up to 17 days after passengers left Read more here The 2020 Tokyo Olympic Games are going to be postponed amid the coronavirus pandemic Read more here United States Atlanta GA is now under a 14 day lockdown Michigan Indiana Oregon Washington state and West Virginia also issued stay at home orders in their states to slow the spread of the coronavirus Massachusetts and New Mexico meanwhile announced a stay at home advisories 16 states now have stay at home orders or advisories United Kingdom The prime minister approved a ban on all unnecessary movement of people for at least three weeks Police will break up gatherings and will have the power to fine individuals who defy the tough new laws On Tuesday Cabinet Office Minister Michael Gove said further action will be considered and stricter rules could be imposed if necessary Read more here Russia Moscow s police force is preparing to enforce a near total shutdown of the Russian capital if the number of coronavirus cases rises including a curfew and a ban on entering and exiting the city Read more here Italy Sparking hope Italy s new coronavirus cases slow for a second day Read more here Spain Spanish soldiers helping to fight the coronavirus pandemic have found elderly patients in retirement homes abandoned and in some cases dead in their beds the defence ministry has said Read more here Spain The crematoriums in Madrid are overflowing The City Council has been forced to close the municipal funeral home due to the lack of suits and masks The bodies according to the municipal sources consulted are piled up in public hospitals and in private homes Faced with this situation the Town Hall the Army and the Community have agreed to turn the Ice Palace into the great morgue of the capital Read more here Spain Footage from inside a Spanish hospital from the BBC See the video tweet here France Prime Minister Edouard Philippe said a virtual lockdown in France imposed to slow the spread of the coronavirus could last several more weeks and that his government was tightening restrictions even further He said citizens from Tuesday would only be able to exercise once a day within 1 kilometre of their home and that burial ceremonies would be restricted to 20 people Read more here Brazil Some of Brazil s soccer stadiums arenas and convention centers will be converted into field hospitals to treat patients infected with coronavirus In S o Paulo the city with the largest number of confirmed deaths and cases the mayor s office announced that 2 000 hospital beds would be added to the Pacaembu stadium and the Anhembi convention center in the next few weeks Read more here Mexico will hand over control of approximately 10 hospitals to the army to prepare the country to deal with the critical stage of the coronavirus outbreak Read more here South Africa The National Coronavirus Command Council has decided to enforce a nation wide lockdown for 21 days with effect from midnight on Thursday 26 March ending on April 16th 2020 Read more here The presidents of Ivory Coast and Senegal two of West Africa s largest economies declared states of emergency on Monday imposing curfews and travel restrictions on their populations in response to accelerating coronavirus outbreaks Read more here Egypt Virus kills 2 senior military officers in Egypt Major General Shafee Dawood head of major infrastructure projects at the military engineering authority became the latest high ranking figure in Egypt to die from COVID 19 in hospital His death comes after Major General Khaled Shaltout the army s chief of water management died from the virus late Sunday Read more here India More than half of India is under complete lockdown until March 31 as the government tries to contain the spread of COVID 19 Read more here Pakistan finally went into the lockdown mode in order to contain the spread of novel coronavirus as the army was called in to support the civil administration in the four provinces as well as Azad Jammu and Kashmir to ensure people stay at home Read more here Nepal goes into coronavirus lockdown three days after the government took some drastic measures to control the spread of COVID 19 in the country The nationwide lockdown will continue till March 31 Read more here Nigeria Health officials in Nigeria have issued a warning over chloroquine after they said three people in the country overdosed on the drug in the wake of President Trump s comments about using it to treat coronavirus Read more here Germany Chancellor Merkel s spokesman says her first coronavirus test after possible exposure negative more to be done See the tweet here More Updates from the United States Chicago will rent more than 1 000 empty hotel rooms as housing for those affected by the coronavirus The rooms are intended to free up space in hospitals for patients in need of critical care Read more here President Trump signed an Executive Order to prevent hoarding price gouging of supplies needed in the war against the coronavirus See the Tweet here Today to keep renters in multifamily properties in their home and to support multifamily property owners during the coronavirus national emergency the Federal Housing Finance Agency FHFA is announcing that Fannie Mae and Freddie Mac the Enterprises will offer multifamily property owners mortgage forbearance with the condition that they suspend all evictions for renters unable to pay rent due to the impact of coronavirus The eviction suspensions are in place for the entire duration of time that a property owner remains in forbearance The forbearance is available to all multifamily properties with an Enterprise backed performing multifamily mortgage negatively affected by the coronavirus national emergency Read more here President Trump on Monday said he is considering scaling back steps to constrain the spread of the coronavirus in the next week or two because of concerns that the impact on the economy has become too severe But loosening restrictions on social distancing and similar measures soon probably would require him to override the internal warnings of senior U S health officials including Anthony S Fauci who have said that the United States has not yet felt the worst of the pandemic Read more here nbsp Tracking COVID 19 Johns Hopkins University has a live tracker of the global spread of COVID 19 here The CDC is tracking US cases here Today s situation report from the WHO The CDC s COVID 19 Situation Summary There are tons of travel bans globally right now CNN has put together a full list here nbsp Reputable Sources for Information The CDC s Dedicated Coronavirus Resource The WHO s Dedicated Coronavirus Resource The University of Chicago School of Medicine s handy FAQ style resource \n",
            "\n",
            "---- Trump invokes Defense Production Act to expand production of hospital masks and more ----\n",
            " \n",
            "\n",
            "---- COVID 19 FAQ and Resources ----\n",
            "CDC Recommendations The CDC in accordance with its guidance for large events and mass gatherings recommends that for the next 8 weeks organizers whether groups or individuals cancel or postpone in person events that consist of 50 people or more throughout the United States Read more here People over 60 and those with severe chronic heart lung or kidney disease stay at home as much as possible and avoid crowds Read more here Travelers particularly those who are older and have underlying health issues should defer all cruise ship travel worldwide The CDC also notes that cruise ship passengers are at increased risk of person to person spread of infectious diseases including COVID 19 Read more here nbsp Tracking COVID 19 Johns Hopkins University has a live tracker of the global spread of COVID 19 here The CDC is tracking US cases here Daily situation report from the WHO The CDC s COVID 19 Situation Summary nbsp Reputable Sources for Information The CDC s Dedicated Coronavirus Resource The WHO s Dedicated Coronavirus Resource The University of Chicago School of Medicine s handy FAQ style resource nbsp Here are some of the answers to the most frequently asked questions we re seeing on the subreddit Please note that the University of Chicago Med resource contains more questions and answers than what we ve copy here nbsp What is a coronavirus What is a novel coronavirus A coronavirus is the name for a large set of illnesses including the common cold and other respiratory infections The term novel coronavirus means it s a new form of the virus The 2019 novel coronavirus has been named SARS CoV 2 and the disease it causes is called coronavirus disease 2019 or COVID 19 nbsp How does the COVID 19 spread This virus is highly transmissible and can spread easily from person to person even before someone develops symptoms It s carried on respiratory droplets when we talk sneeze and cough and these can land on surfaces or in someone s mouth or nose When it comes to respiratory droplets 6 feet is the magic distance That s how far these tiny infected droplets can travel Being within 6 feet of someone who is sick can get you or your personal space contaminated with COVID 19 When droplets land on surfaces we can pick them up with our hands and transfer them to our eyes mouth and nose when we touch our faces This is why hand hygiene is so important Good hand hygiene means washing our hands not just after we re using the restroom or before we re eating but regularly throughout the day Respiratory secretions like snot and sputum may also be infectious so cover your coughs and sneezes use disposable tissues throw them away when you re done and wash your hands afterward Keep your work surfaces clean and wipe off your keyboard and your phone nbsp What are the symptoms of COVID 19 Is it deadly Most people who become infected with the virus have mild symptoms and may not know they are sick Others get flu like symptoms Some patients particularly adults over 65 and those with underlying medical conditions develop a severe form of pneumonia which can lead to death If you are experiencing symptoms it is important to know when to see a doctor Patients develop symptoms like fever body aches cough shortness of breath and sore throat about 5 6 days after infection We have recently learned that some people have the unusual symptom of losing their sense of smell which affects taste as well This seems to be temporary and eventually goes away Most people will feel pretty miserable for a week and get better on their own Some people won t get as sick but it s still important not to be out and about so as not to spread the disease A minority of patients will get worse instead of better This usually occurs after 5 7 days of illness and these patients will have more shortness of breath and worsening cough If this happens it s time to contact your doctor again or go to an urgent care center or emergency room Be sure to call first so they know you are coming nbsp Is everyone at risk for catching COVID 19 Yes It doesn t appear anyone is naturally immune to this particular virus and there s no reason to believe anybody has antibodies that would normally protect them unless they recently had the virus However children appear to be among those least likely to have a bad outcome from contracting the disease The lack of previous experience with this virus is part of the reason public health officials are working so hard to contain and slow the spread of this particular coronavirus When viruses are both new which means the population is highly susceptible and can easily pass from person to person a high transmission rate they can be very dangerous nbsp Why do some people with the COVID 19 get sicker than others It looks like only about 20 of people who contract this novel coronavirus need to be hospitalized The other 80 get what feels like a bad cold or flu and recover at home in about a week A lot of this has to do with underlying medical conditions but even healthy people can get pretty sick People who are more vulnerable to any kind of infection because of their age or chronic health conditions are more at risk for getting really sick from COVID 19 We don t understand why some healthy people get better easily and others get so sick they need oxygen or even a ventilator to help them breathe but we are learning more every day If you have COVID 19 and you are getting sicker and sicker instead of better and better you should contact your doctor or visit an emergency room Be sure to call first so they know to expect you nbsp Who are the most at risk for contracting a severe case of COVID 19 The most vulnerable populations for having a bad outcome with COVID 19 including needing to be in the hospital or on a ventilator are people over the age of 60 especially men but we don t really understand why with additional medical concerns This includes people who are smokers who have hypertension high blood pressure diabetes low immune systems and underlying lung disease or those who take medicines to suppress their immune systems because they have some sort of autoimmune condition or cancer We strongly recommend that these individuals begin curtailing all of their outdoor activities in accordance with the recent CDC guidelines These people should not be traveling and they should not be out in crowds They should be staying home as much as possible And if you haven t been instructed to work from home you should ask about working from home if you are in one of these groups nbsp Are minorities more likely to get COVID 19 We are seeing a higher number of COVID 19 cases among minorities and low income families This most likely reflects the ongoing racial and socioeconomic disparities in healthcare in these communities Low income workers are less likely to be able to work at home Multiple families living in the same house and homelessness also contribute to the spread of the virus Additionally African Americans are more likely to have health conditions such as diabetes heart disease and high blood pressure and these can be less well controlled than in Caucasians The causes for this are multifactorial but if people in underserved communities are less able to get care for their diabetes they may also be less able to get care for COVID 19 At UChicago Medicine we are committed to caring for each and every person who comes our way especially now during this crisis We are providing the best care possible with world experts in critical care and infectious diseases for all of our patients with COVID 19 nbsp What kind of medical care do patients with COVID 19 need About 20 of COVID 19 patients need to be hospitalized for their pneumonia like illnesses Some of them will require critical care and ventilators special machines that help them breathe And some need to stay on ventilators for weeks at a time It s this portion of patients who continue to be most concerning Many of them will be able to recover with lots of time and support Still a high level of critically ill patients can overwhelm the healthcare systems across our nation pretty quickly Some parts of the US have already been experiencing this Without social distancing it could be much worse We need toPro make sure we slow the spread of COVID so there are enough hospital beds and ventilators for everyone who needs one nbsp How do you screen patients for COVID 19 At UChicago Medicine we are considering anyone with respiratory symptoms fever or any other symptom of COVID 19 as a potential case That means we ask everyone about symptoms when they arrive at the medical center and take appropriate precautions Patients are put into isolation right away and staff wear personal protective equipment like gowns gloves masks and eye shields when they are in the patient s room Patients who need aerosol generating procedures like nebulizer treatments or high flow nasal cannula oxygen therapy are placed in rooms with that keep air flowing away from the hallway Many patients don t need to stay in the hospital and are able to isolate at home nbsp What should I do if I think I am infected with COVID 19 We only test people who are sick and occasionally those who are about to undergo important high risk procedures such as an an organ transplant The test to diagnose COVID 19 isn t useful unless you are sick and it s still more limited than any of us want it to be Make sure you tell your doctor about any risks for COVID you may have so they can get you a test if you need it It s also worth mentioning that people shouldn t be worried if they go to their doctor s office and get tested for respiratory viruses and the results say they have a coronavirus That s because coronavirus is the name for a whole group of viruses including things like the common cold Most doctors offices can test for normal everyday coronaviruses If you see test results that say you have one you shouldn t worry If you are being tested for COVID 19 your doctor will be very very specific and will walk you through any results that come back nbsp Can I get tested for COVID 19 if I m worried I ve been exposed Only if you are sick The test to diagnose COVID 19 isn t useful unless you are sick and it s still more limited than any of us want it to be Make sure you tell your doctor about any risks for COVID you may have so they can get you a test if you need it It s also worth mentioning that people shouldn t be worried if they go to their doctor s office and get tested for respiratory viruses and the results say they have a coronavirus That s because coronavirus is the name for a whole group of viruses including things like the common cold Most doctors offices can test for normal everyday coronaviruses If you see test results that say you have one you shouldn t worry If you are being tested for COVID 19 your doctor will be very very specific and will walk you through any results that come back nbsp If I had a mild case of COVID 19 how do I know when I am well Those with mild cases of COVID 19 appear to recover within one to two weeks In severe cases full recovery may take six weeks or more When you no longer have a fever even without taking Tylenol or ibuprofen your cough is gone and you are eating a normal diet again you can be considered well That said it s normal to still feel more tired than usual and it will take some time for you to regain your strength Everyone needs to stay isolated for at least a week After that most experts think it s safe for you to return to work when you have been symptom free for at least 3 full days nbsp If I get COVID 19 and recover will I develop an immunity to it If so how long will it last There is good evidence that most people make antibodies in response to infection and this will provide some protection Limited reports of reinfection are still being investigated and we don t know how good our immune response will be or how long it will last So far it doesn t look like patients are going back to the hospital with another round of infection but even those who recovered early on in Wuhan China have only been well for a few months Experts from University of Chicago Medicine and around the world are working hard to answer this question nbsp Does COVID 19 permanently damage lungs or other organs It s too early to know if the coronavirus has long term effects on lung capacity or if it permanently damages other organs Doctors will be monitoring patients who fully recovered from the virus to see if complications related to having the virus are permanent nbsp What is the status of treatments and a vaccine for COVID 19 For now doctors can only treat the symptoms with supportive care not the virus itself There is no antibiotic these are designed for bacterial infections not viral ones for COVID 19 Scientists are working on a vaccine but we don t expect to have a good vaccine until spring 2021 However ongoing trials at UChicago Medicine and other centers suggest that there are some existing antiviral drugs that may be helpful for the sickest patients In fact the University of Chicago is part of a multi institutional team that has mapped a protein of SARS CoV 2 and found drugs previously in development for SARS could be effective for COVID 19 We are enrolling patients in trials of remdesivir hydroxychloroquine and even using the antibodies in the blood serum of patients who have recovered to treat currently sick patients \n",
            "\n",
            "---- COVID 19 Megathread 6 ----\n",
            "This post is updated daily You can also follow the Reddit Live thread here nbsp COVID 19 has now infected more than 215 956 people There have been 8 757 confirmed deaths and 84 080 confirmed recoveries attributed to the virus nbsp Recent Updates Note These are the updates from the last 48 72 hours MARCH 18 United States President Trump signed into law a coronavirus relief package which provides free coronavirus testing and ensures paid emergency leave for those who are infected or caring for a family member with the illness The bill also provides additional Medicaid funding food assistance and unemployment benefits The third phase coronavirus response bill is expected to pass later this week Read more here United States President Trump announced that home foreclosures and evictions will be suspended until the end of April Read more here He also invoked the Defense Production Act which gives the government the authority to control the production and distribution of scarce materials deemed essential to the national defense In his executive order Trump specifically cites protective equipment presumably face masks and ventilators as meeting the criteria in this provision Read more here United States Reps Mario Diaz Balart and Ben McAdams become first members of Congress to test positive for coronavirus Read more here United States King County in Washington State is building a 200 bed field hospital on Shoreline soccer field amid coronavirus outbreak Read more here United States The New York Stock Exchange said starting March 23 it will temporarily close its historic trading floor and move fully to electronic trading This is the first time the physical trading floor of the Big Board has ever shut independently while electronic trading continues Read more here United States and Canada US President Donald Trump and Canadian Prime Minister Justin Trudeau have agreed to close the US Canada border to all non essential travel in an attempt to curb the spread of coronavirus Trade will not be affected Read more here Canada Prime Minister Justin Trudeau has announced a massive 82 billion aid package to help Canadians and businesses cope with the global COVID 19 pandemic including income supports wage subsidies and tax deferrals The package includes 27 billion in direct supports and another 55 billion to help business liquidity through tax deferrals Read more here Japan s Hokkaido the nation s prefecture with the highest number of coronavirus infections will end its state of emergency over the epidemic on Thursday Read more here Europe The European Central Bank launched an extra emergency bond buying program worth 750 billion euros 820 billion in the latest attempt to calm markets and protect a euro area economy struggling to cope with the coronavirus epidemic Read more here France French police handed out over 4 000 fines Wednesday to people found violating an order to stay at home on the first full day of a lockdown aimed at slowing the spread of the coronavirus in the country Read more here Portugal s President Marcelo Rebelo de Sousa declared a state of emergency to combat the coronavirus pandemic The new measures allow Prime Minister Ant nio Costa s government to restrict movement of people temporarily suspend the right of workers in vital sectors such as health civil protection security and defense to strike and ban protests and social or religious meetings Read more here Brazil Davi Alcolumbre the head of Brazil s Senate became the latest high level political figure to test positive for coronavirus on Wednesday Read more here Chilean president Sebastian Pinera declared a 90 day state of catastrophe Wednesday to address the spread of COVID 19 in the country which has 238 confirmed cases of the novel coronavirus By law a state of catastrophe puts the armed forces in charge of public order and security and enables military control of the movement of people and goods Military officials will be able to issue direct instructions to public employees and local governments and establish measures deemed necessary to maintain public order including curfews Read more here Africa Sub Saharan Africa records first coronavirus death Read more here Both the United States and the United Kingdom have confirmed cases of coronavirus within their jails Europe This year s Eurovision Song Contest has been canceled in the wake of the coronavirus pandemic organizers confirmed on Wednesday marking the first time that the much loved competition has ever been scrapped Read more here Australian airline Qantas and its subsidiary Jetstar will suspend scheduled international flights from late March until at least the end of May due to the coronavirus crisis In a statement posted on its website Thursday Qantas Group announced that 60 of its domestic flights would also be cut and two thirds of its 30 000 employees would be temporarily stood down Read the announcement here RyanAir Europe s biggest low cost carrier said it expected most if not all flights to be grounded apart from a small number to maintain connections between the UK and Ireland Read more here nbsp MARCH 17 United States A plan developed by the federal government to combat the coronavirus reportedly projects the pandemic will last 18 months or more and could feature multiple waves Read more here United States Treasury Secretary Steven Mnuchin raised the possibility with Republican senators that U S unemployment could rise to 20 without government intervention because of the impact of the coronavirus Mnuchin discussed the scenario with the lawmakers on Tuesday as he proposed an economic stimulus of 1 trillion or more Read more here United States Treasury and IRS to delay tax payment deadline by 90 days Read more here United States The U S military is preparing Naval hospital ships for deployment and is looking to open its labs to help test civilians for coronavirus The Pentagon also plans to distribute equipment Read more here United States White House requests and additional 45 8 billion in emergency funding due to coronavirus The request comes on top of the 8 3 billion in emergency funding passed by Congress just two weeks ago and underscores just how dramatically financial demands at federal agencies have grown in a matter of days Read more here United States Schools are likely to be closed for the rest of this school year according to Governor Newsom of California Ohio s governor has made similar statements Read more here United States Are Hospitals Near Me Ready for Coronavirus Here Are Nine Different Scenarios There is a tool in the article that allows you to see your area s hospital capacity See the interactive tool here EU Leaders of European Union countries have agreed to close the EU s external borders to most people from other countries for 30 days in a new effort to slow the coronavirus pandemic Movement within European Union member nations will be still be allowed Read more here Spain Spanish Prime Minister Pedro Sanchez announced a package of measures worth a total 200 billion euros 219 billion between loans credit guarantees benefits and direct aid to mitigate the impact of the coronavirus epidemic on the economy The package represents about 20 of the country s gross domestic product 117 billion euros for the package will come from the government with the rest to come from private companies Read more here Scotland No new jury trials will take place in Scotland for the foreseeable future due to coronavirus Read more here Bolivia will close its borders to non residents and suspend all international flights to combat the spread of coronavirus The measure will remain in place until March 31 Read more here Australia declares emergency warns coronavirus crisis could last six months Read more here Euro 2020 has been postponed by one year until 2021 because of the coronavirus pandemic Read more here nbsp MARCH 16 A Phase 1 clinical trial evaluating an investigational vaccine designed to protect against coronavirus disease 2019 COVID 19 has begun at Kaiser Permanente Washington Health Research Institute KPWHRI in Seattle Read more here The European Union will ban all nonessential travel into the bloc for at least 30 days Read more here France has instituted a lockdown and will deploy 100 000 police to enforce the lockdown and fixed checkpoints will be set up across the country Under the new measures soldiers would help transport the sick to hospitals with spare capacity and a military hospital with 30 intensive care beds would be set up in the eastern region of Alsace where one of the largest infection clusters has broken out Macron also announced he was postponing the second round of local elections on Sunday Read more here United States President Trump held a press conference today where he said that the U S may be able to get the new coronavirus outbreak under control by July or August at the earliest He also said his administration may look at lockdowns for certain areas or hot spots in the nation but said he wasn t considering a full national lockdown Watch the press conference here and read about it here United States The Department of Health and Human Services experienced suspicious cyberactivity Sunday night related to its coronavirus response The suspicious activity HHS was not a hack but it may have been a distributed denial of service or DDOS attack Read more here United States Six Bay Area counties announced shelter in place orders for all residents on Monday the strictest measure of its kind yet in the continental United States directing everyone to stay inside their homes and away from others as much as possible for the next three weeks The directive begins at 12 01 a m Tuesday and involves San Francisco Santa Clara San Mateo Marin Contra Costa and Alameda counties a combined population of more than 6 7 million Read more here United States New York New Jersey and Connecticut institute regional rules that ban gatherings of over 50 and close casinos gyms and theaters Read more here United States The Ohio primary has been postponed Ohio Gov Mike DeWine R announced late Monday that his administration will order that polls be closed on Tuesday due to a health emergency Read more here United States Dow Plummets Nearly 3 000 Points as Virus Fears Spread Read more here Canada is closing its borders to noncitizens because of the coronavirus pandemic U S citizens are exempt from the ban for the moment Read more here Israel is preparing to open four hotels across the country as quarantines sites for confirmed cases of coronavirus Minister of Defense Naftali Bennett announced Monday night The hotels will be used to treat people exhibiting mild symptoms of the virus Read more here Finland closes schools declares state of emergency over coronavirus Daycare centres are to stay open but parents were asked to keep their kids home if possible Read more here Sudan s ruling sovereign council closed all airports ports and land crossings and declared a public health emergency on Monday over fears about the spread of coronavirus Read more here Idris Elba has tested positive for coronavirus along with several other celebrities See Idris tweet here Amazon will hire 100 000 warehouse and delivery workers in the United States to deal with a surge in online orders as many consumers have turned to the web to meet their needs during the coronavirus outbreak Read more here The Peace Corps is telling its volunteers around the world that it is suspending all operations globally and evacuating all volunteers in light of the spread of the new coronavirus Read more here United States The College Board has cancelled the May SATs Read more here nbsp Tracking COVID 19 Vox is keeping track of COVID 19 infections for each U S state here John Hopkins University has a live tracker of the global spread of COVID 19 here Today s situation report from the WHO The CDC s COVID 19 Situation Summary There are tons of travel bans globally right now CNN has put together a full list here nbsp Reputable Sources for Information The CDC s Dedicated Coronavirus Resource The WHO s Dedicated Coronavirus Resource The University of Chicago School of Medicine s handy FAQ style resource \n",
            "\n",
            "---- Hide awards on posts tagged Spoiler ----\n",
            "On game match threads we require spoiler tags so people won t know the result before they ve had a chance to watch the game For big games though people often give tons of awards to those posts right after they end depending on the outcome which then spoils it for people It would be great if posts tagged as spoilers could also have their awards hidden until someone clicks into the post and opts to view the content \n",
            "\n",
            "---- COVID 19 Megathread 4 ----\n",
            "This post is updated daily nbsp COVID 19 has now infected more than 111 363 people There have been 3 892 confirmed deaths and 62 375confirmed recoveries attributed to the virus nbsp Recent Updates Note These are the updates from the last 48 72 hours MARCH 8 and 9 Ireland is expected to cancel all St Patrick s Day parades Dublin and Cork have already canceled Read more here Iran temporarily released about 70 000 prisoners because of the coronavirus contagion as the death toll rose by 43 new fatalities to 237 Meanwhile Saudi Arabia temporarily suspended land and sea travel to and from Oman France Germany Turkey and Spain for citizens and residents to help stem the spread of coronavirus Earlier suspensions include the United Arab Emirates Kuwait Bahrain Lebanon Syria South Korea Egypt Italy and Iraq Read more here The U S death toll reached 21 on Sunday with 554 confirmed cases across 34 states and the District of Columbia All but three of the deaths have been in Washington state two were in Florida and one in California Read more here China reports the fewest number of coronavirus cases since it started tracking the disease in January Read more here France on Sunday banned gathering of more than 1 000 people as the death toll and number of coronavirus infections continued to rise Read more and see ongoing updates here Rick Cotton head of the Port Authority of New York and New Jersey which runs NY s airports has tested positive for the new coronavirus See the tweet here President Trump tweeted this on the morning of March 9 So last year 37 000 Americans died from the common Flu It averages between 27 000 and 70 000 per year Nothing is shut down life the economy go on At this moment there are 546 confirmed cases of CoronaVirus with 22 deaths Think about that Sen Ted Cruz interacted with person who has tested positive for coronavirus Cruz said he feels fine and is not showing symptoms of the coronavirus but will self quarantine out of an abundance of caution Read more here nbsp MARCH 7 Italy is set to lock down at least 16 million people in the region of Lombardy and in 11 other provinces in the north and east of the country The mandatory quarantine will last until early April Read more here Iranian official who took part in 1979 Iran hostage crisis dies of coronavirus He is the sixth politician or government official to be killed by the virus in Iran Read more here About 70 people were trapped after a hotel being used as a coronavirus quarantine facility in the Chinese city of Quanzhou collapsed Read more here Authorities in the United States have reported 434 cases of the coronavirus and 19 deaths according to data compiled by NBC News Several states have declared emergencies in response to the virus including California Florida Indiana Kentucky Maryland New York Utah and Washington Pennsylvania has issued a disaster declaration and the city of Austin Texas has issued a local disaster declaration Read more here CPAC attendee tests positive for coronavirus Read more here nbsp CDC Recommendations People over 60 and those with severe chronic heart lung or kidney disease stay at home as much as possible and avoid crowds Read more here Travelers particularly those who are older and have underlying health issues should defer all cruise ship travel worldwide The CDC also notes that cruise ship passengers are at increased risk of person to person spread of infectious diseases including COVID 19 Read more here nbsp Tracking COVID 19 Vox is keeping track of COVID 19 infections for each U S state here John Hopkins University has a live tracker of the global spread of COVID 19 here Today s situation report from the WHO The CDC s COVID 19 Situation Summary nbsp New Countries reporting cases their first cases this week Note 1 The list starts fresh each Monday Note 2 This list is pulled from the WHO s daily situation reports linked above Bulgaria Costa Rica Faroe Islands French Guiana Maldives Martinique Republic of Moldova Over 100 countries have now reported lab confirmed cases of COVID 19 nbsp Reputable Sources for Information The CDC s Dedicated Coronavirus Resource The WHO s Dedicated Coronavirus Resource The University of Chicago School of Medicine s handy FAQ style resource nbsp And for those too lazy to click on the University of Chicago Med resource here are some of the answers to commonly asked questions nbsp What is a coronavirus What is a novel coronavirus A coronavirus is actually the name for a set of illnesses including the common cold and other respiratory infections A novel coronavirus means it s a new virus that originated in animals but has jumped to humans This particular 2019 novel coronavirus from Wuhan is called COVID 19 or 2019 nCoV nbsp How does the COVID 19 spread This virus is really transmissible and can spread easily from person to person even before a person develops symptoms It s carried on respiratory droplets when we talk sneeze and cough and these can land on surfaces or in someone s mouth or nose When it comes to respiratory droplets 6 feet is the magic distance That s how far these tiny infected droplets can travel Being within 6 feet of someone who is sick can get you or your personal space contaminated with COVID 19 When droplets land on surfaces we can pick them up with our hands and transfer them to our eyes mouth and nose when we touch our faces This is why hand hygiene is so important Respiratory secretions like snot and sputum are also infectious so cover your coughs and sneezes nbsp What are the symptoms of the virus Is it deadly It typically causes flu like symptoms Some patients particularly the elderly and others with other chronic health conditions develop a severe form of pneumonia Patients develop symptoms like fever muscle and body aches cough and sore throat about 5 6 days after infection Most people will feel pretty miserable for a week and get better on their own Some people won t get as sick but it s still important not to be out and about so as not to spread the disease A minority of patients will get worse instead of better This usually happens after 5 7 days of illness and these patients will have more shortness of breath and worsening cough If this happens it s time to contact your doctor again or even go to an emergency room Be sure to call first so they know you are coming The numbers of people who have been diagnosed and how many have died are changing daily As of early March there have been over 97 000 confirmed cases with a death toll of about 3 000 more than 2 900 in mainland China But these numbers are just estimates it s still unclear how many people have actually been infected worldwide Most of the deaths have been in adults over 60 years old who had other health concerns nbsp Are we all at risk for catching this new coronavirus 2019 nCoV Yes It doesn t appear anyone is naturally immune to this particular virus and there s no reason to believe anybody has antibodies that would normally protect them The lack of previous experience with this pathogen is part of the reason why public health officials around the globe are working so hard to contain the spread of this particular coronavirus from Wuhan When viruses come out like this that are both new which means the population is highly susceptible and can easily pass from person to person a high transmission rate they can be really dangerous even if here s a low percentage of people who die from them nbsp Why do some people with the COVID 19 get sicker than others It looks like only about 20 of people who contract this novel coronavirus need to be hospitalized The other 80 get what feels like a bad cold and recover at home A lot of this has to do with underlying medical conditions People who are more vulnerable to any kind of infection because of their age or chronic health conditions are more at risk for getting really sick from COVID 19 That said some otherwise healthy people do seem to be getting sicker from this infection than we would expect We don t understand why that is or what might be different about these patients If you have COVID 19 and you are getting sicker and sicker instead of better and better you should contact your doctor or visit an ER Be sure to call first so they know to expect you nbsp What kind of medical care do patients with COVID 19 need About 80 of people who contract this new coronavirus will feel sick but ultimately be just fine It s the 20 of COVID 19 patients who get really really sick that worry many of us in the infectious diseases field A lot of these critically ill patients wind up needing to be hospitalized for their pneumonia like illnesses They typically require critical care and ventilation special machines that help them breathe And some need to stay on ventilators for weeks at a time It s this portion of patients that is most concerning Depending on how many cases develop here in the U S providing that level of care for so many people over a number of weeks runs the risk of overwhelming the nation s health care system pretty quickly We can help prevent this kind of surge in patients by practicing social distancing see below for more explanation nbsp Should people be more concerned about the seasonal flu or COVID 19 There s widespread seasonal flu activity going on right now all around the U S But there are steps you can take to protect yourself from influenza You can get an annual flu shot You can take medication like Tamiflu that protects you from getting influenza after you ve been exposed You can cover your mouth and wash your hands to mitigate the spread And like clockwork this year s influenza strain is going to die out in the spring because it will have run its course The challenge with COVID 19 is that we probably can t contain it and we don t know if we re really prepared as a country for a massive coronavirus epidemic If we are lucky it will slow down a bit over the summer but the next few months look like they are going to be pretty tough for all of us We need to be as ready as we can for whatever comes our way and know that we will get through it eventually nbsp How can I protect myself Should I wear a facemask Take the preventive actions you do for the cold and flu This includes avoiding close contact with people who are sick not touching your eyes nose and mouth washing your hands thoroughly and frequently and cleaning and disinfecting objects and surfaces you come in contact with regularly The CDC does not recommend you wear a facemask to protect yourself from getting COVID 19 or other respiratory illnesses Those who have COVID 19 and are showing symptoms should wear a mask to protect others from getting the virus Any healthcare worker taking care of someone infected with COVID 19 also should wear a mask nbsp Can I take an antibiotic or vaccinate against the virus There is no antibiotic they are designed for bacterial infections not viral ones to treat COVID 19 Scientists are already working on a vaccine but we don t expect to have a good vaccine until spring of 2021 at the earliest However ongoing trials in China suggest that there are some existing antiviral drugs that may be helpful for the sickest patients In fact the University of Chicago is part of a multi institutional team that has mapped a protein of SARS CoV 2 and found drugs previously in development for SARS could be effective for COVID 19 For now doctors can only treat the symptoms not the virus itself \n",
            "\n",
            "---- The Boards are dead Welcome to the new folks ----\n",
            "RIP Boards Read the board closure announcement here And welcome to Reddit The best thing you can do as a new person here is check the sidebar and read our full rules You can read them here But since we know most redditors aren t likely to do that here s a quick summary of our most commonly violated rules 1 Don t personally attack other users Keep your discussions civil And most obviously don t threaten other people and don t use hate speech That s a quick way to get an insta ban 2 Unlike the boards this is not a place for tech or account support related questions Instead you should still reach out to riot support to resolve those issues That said we do host a bug megathread for all new patches and we encourage you to post about your bugs in those threads 3 All posts here must be directly related to League of Legends the game the league community fanart cosplay fanfiction etc and league esports For posts related to personalities and esports the content must focus on players interactions with the game and not their lives outside of it 4 Memes are also disallowed here unless they are remade in their entirety Basically we want to see original content instead of the same recycled template memes Be creative and you can still have fun with this stuff 5 Screenshots tweets and videos under 15 seconds all need to be in text posts This is to help curb low effort content on the sub 6 Your posts should address the community and not just Riot So if you do a Riot please style post it will almost certainly be removed Instead share your idea with the wider community and Riot will probably see it 7 Make sure your titles describe the content of your posts Vague contextless and memetic titles will end up removed 8 We take a very hard line against spam Your recent user history must contain no more than 4 self promoting links If using New Reddit this is your last 25 posts For comments to be considered in the ratio they must be part of a discussion and not be short one or two word comments 9 Lastly we know that people love to share their posts with friends and fans and the boards allowed you to do that However on reddit we frown on vote manipulation As such please Do not encourage friends anywhere to upvote or downvote Reddit posts Do not ask for upvotes in your post or say This will be downvoted but You can link or otherwise share your comments links on social media provided you follow the exact titling shown here I just posted POST TITLE on Reddit followed by a link to your post If you are violating our rules on a regular basis and otherwise interacting here in bad faith then this is what you can expect And finally the closure of the boards means that we may see more Rioters around the subreddit You ll know who they are by their pretty flair Only verified Rioters will have this flair so if you see a comment from a Riot flaired user you ll know it s legit \n",
            "\n",
            "---- Coronavirus Megathread 3 ----\n",
            "This post is updated daily nbsp Update America has seen its first coronavirus death in Washington State Read more here Additionally the first case of COVID 19 in the United States which may involve community spread was confirmed by a CDC test on Wednesday The case is in California nbsp The Trump Administration held a second press briefing about the coronavirus today You can watch it here nbsp Update The CDC is urging Americans to prepare for an outbreak in the United States Read their preparedness memo here You can watch the press briefing here nbsp The World Health Organization has declared the Coronavirus a Global Health Emergency nbsp Today s situation report from the WHO The CDC s COVID 19 Situation Summary nbsp A novel coronavirus likely transmitted from animals to humans at a market in Wuhan China has now infected more than 85 994 people There have been 2 941 confirmed deaths and 39 761 confirmed recoveries attributed to the virus and it s now in more than 28 countries nbsp New Countries reporting cases this week Algeria Croatia Switzerland Austria Note For the first time since the onset of symptoms of the first identified case of COVID 19 on 8 December 2019 there have been more new cases reported from countries outside of China than from China nbsp Reputable Sources for Information The CDC s Dedicated Coronavirus Resource The WHO s Dedicated Coronavirus Resource And the University of Chicago School of Medicine s handy FAQ style resource nbsp You can also check out this live tracker of the spread of the coronavirus provided by John Hopkins University nbsp And for those too lazy to click on the University of Chicago Med resource here are some of the answers to commonly asked questions nbsp What is a coronavirus What is a novel coronavirus A coronavirus is actually the name for a set of illnesses including the common cold and other respiratory infections A novel coronavirus means it s a new virus that originated in animals but has jumped to humans This particular 2019 novel coronavirus from Wuhan is called COVID 19 or 2019 nCoV nbsp How does the Wuhan coronavirus spread So far there s limited information about the Wuhan novel coronavirus including how easy it is to spread and how dangerous it is But we know the virus can be transmitted from person to person and it is passed by coughing and other close contact Close contact is a vague term that means a lot of things to different people But in this case it specifically means being within about six feet of someone for a prolonged period of time without wearing recommended personal protective equipment such as a disposable face mask It could also be having direct contact with infectious secretions of someone who has a case of the virus for example being coughed on while not wearing personal protective equipment That can sound scary but it s important to know that influenza is also transmitted the same way nbsp What are the symptoms of the virus We re still learning more about Wuhan novel coronavirus but we know it typically causes flu like symptoms including a fever cough and congestion Some patients particularly the elderly and others with other chronic health conditions develop a severe form of pneumonia nbsp Are we all at risk for catching this new coronavirus 2019 nCoV Yes It doesn t appear anyone is naturally immune to this particular virus and there s no reason to believe anybody has antibodies that would normally protect them The lack of previous experience with this pathogen is part of the reason why public health officials around the globe are working so hard to contain the spread of this particular coronavirus from Wuhan When viruses come out like this that are both new which means the population is highly susceptible and can easily pass from person to person a high transmission rate they can be really dangerous even if here s a low percentage of people who die from them nbsp Why do some people with the Wuhan coronavirus get sicker than others It looks like only about 20 of people who contract this novel coronavirus actually wind up needing to be hospitalized The other 80 get what feels like a really bad cold and they recover at home A lot of it has to do with underlying medical conditions People who are more vulnerable to any kind of infection because of their age or chronic health conditions are more at risk for getting really sick from this novel coronavirus too That said some otherwise healthy people do seem to be getting more sick from this infection than we would expect We don t understand why that is or what might be different about those people Thanks to the work of scientists and doctors on the ground in China which is really nothing short of heroic we re learning a little more every single day nbsp Is this coronavirus deadly The numbers of how many people have been diagnosed or how many have died are changing rapidly Without accurate numerators and denominators the jury s still out That said we do know that more than 100 people in China have died from this virus Based on the information I m seeing it looks very similar to SARS in a number of ways except for the fact that it s likely less deadly but more transmittable nbsp What kind of medical care do patients with the Wuhan coronavirus need About 80 of people who contract this new coronavirus will feel sick but ultimately be just fine It s the other 20 who get really really sick that worry so many of us in the infectious diseases field A lot of these critically ill patients wind up needing to be hospitalized for their pneumonia like illnesses They typically require critical care and ventilation special machines that help them breathe And some need to stay on ventilators for weeks at a time It s that portion of patients that s most concerning Depending how many cases develop here in the U S providing that level of care for that many people over a number of weeks runs the risk of overwhelming the nation s health care system pretty quickly nbsp How do you treat patients with this virus Can you vaccinate against it Things like antibiotics are designed to kill bacteria not a virus So typically doctors can treat the symptoms but not the virus itself There s no vaccine yet \n",
            "\n",
            "---- Coronavirus Megathread ----\n",
            "Update The World Health Organization has declared the Coronavirus a Global Health Emergency nbsp Today s situation report from the WHO nbsp A novel coronavirus likely transmitted from animals to humans at a market in Wuhan China has now infected more than 28 347 people There have been 565 confirmed deaths and 1 382 confirmed recoveries attributed to the virus and it s now in at least 24 countries Since the outbreak there have been a lot of sensational headlines and up to the minute reporting about the dire futures we may all face If you are seeking accurate information without the wild speculation please refer to the following sources The CDC s Dedicated Coronavirus Resource The WHO s Dedicated Coronavirus Resource And the University of Chicago School of Medicine s handy FAQ style resource nbsp The WHO even made a short video to answer some of the common questions they re getting Check it out here nbsp You can also check out this live tracker of the spread of the coronavirus provided by John Hopkins University nbsp And for those too lazy to click on the University of Chicago Med resource here are some of the answers to commonly asked questions nbsp What is a coronavirus What is a novel coronavirus A coronavirus is actually the name for a set of illnesses including the common cold and other respiratory infections A novel coronavirus means it s a new virus that originated in animals but has jumped to humans This particular virus from Wuhan is being called the 2019 novel coronavirus or 2019 nCoV nbsp How does the Wuhan coronavirus spread So far there s limited information about the Wuhan novel coronavirus including how easy it is to spread and how dangerous it is But we know the virus can be transmitted from person to person and it is passed by coughing and other close contact Close contact is a vague term that means a lot of things to different people But in this case it specifically means being within about six feet of someone for a prolonged period of time without wearing recommended personal protective equipment such as a disposable face mask It could also be having direct contact with infectious secretions of someone who has a case of the virus for example being coughed on while not wearing personal protective equipment That can sound scary but it s important to know that influenza is also transmitted the same way nbsp Is this coronavirus deadly The numbers of how many people have been diagnosed or how many have died are changing rapidly Without accurate numerators and denominators the jury s still out That said we do know that more than 100 people in China have died from this virus Based on the information I m seeing it looks very similar to SARS in a number of ways except for the fact that it s likely less deadly but more transmittable nbsp What are the symptoms of the virus We re still learning more about Wuhan novel coronavirus but we know it typically causes flu like symptoms including a fever cough and congestion Some patients particularly the elderly and others with other chronic health conditions develop a severe form of pneumonia nbsp How do you treat patients with this virus Can you vaccinate against it Things like antibiotics are designed to kill bacteria not a virus So typically doctors can treat the symptoms but not the virus itself There s no vaccine yet \n",
            "\n",
            "---- Rick Fox is Alive ----\n",
            "removed \n",
            "\n",
            "---- LCS 2020 Spring Week 1 Day 1 Live Discussion ----\n",
            "LCS 2020 SPRING Lolesports Leaguepedia Eventvods com New to LoL Today s matches will be played on Patch 10 1 Today s Matches Day X Match PST EST CET KST 1 C9 vs TL 2 PM 5 PM 23 00 07 00 2 CLG vs DIG 3 PM 6 PM 00 00 08 00 3 100 vs GG 4 PM 7 PM 01 00 09 00 4 IMT vs FLY 5 PM 8 PM 02 00 10 00 All matches are Best of 1 Streams Stream on Twitch Stream on YouTube Stream on Lolesports Comment Stream Teams Team Record Information 1 100 Thieves 0 0 Leaguepedia Riot 1 Cloud9 0 0 Leaguepedia Riot 1 Counter Logic Gaming 0 0 Leaguepedia Riot 1 Dignitas 0 0 Leaguepedia Riot 1 Evil Geniuses 0 0 Leaguepedia Riot 1 FlyQuest 0 0 Leaguepedia Riot 1 Golden Guardians 0 0 Leaguepedia Riot 1 Immortals 0 0 Leaguepedia Riot 1 Team Liquid 0 0 Leaguepedia Riot 1 Team SoloMid 0 0 Leaguepedia Riot On Air Team Host James Dash Patterson Interviewer Ovilee Ovilee May Analyst Desk Neil Pr0lly Hammad Mark MarkZ Zimmerman Alberto Crumbz Rengifo Play by Play Commentators David Phreak Turley Julian Pastrytime Carr Rivington Riv Bisland III Clayton CaptainFlowers Raines Color Commentators Sam Kobe Hartman Kenzler Isaac Azael Cummings Bentley Joshua Jatt Leesman Format Best of 1 double round robin Nine weeks 10 matches per week Each team plays two matches per week Ten teams Top 6 teams qualify for Spring Playoffs Top 2 teams receive a bye to the Semi Finals Tiebreakers 1 Head to head match record 2 Tiebreaker Bo1 The official NA LCS ruleset can be found here VoDs VoDs on Reddit VoDs on Eventvods com VoDs on Lolesports \n",
            "\n",
            "---- Rule Changes Coming Out of the Quarterly Feedback Thread ----\n",
            "About a month ago we posted the quarterly moderation feedback thread asking you all for your input on the state of the subreddit and our moderation We read through all the feedback and now we have a few rule changes to announce based on some of the top comments nbsp Rule Change 1 Game Breaking Bugs The most upvoted comment in the thread stated that The next time the game is super buggy could you guys at least leave some thread up on the frontpage that informs people of the situation If you just checked the frontpage of the subreddit it looked like nothing was out of the ordinary while half the runes in the game weren t working crashes were running rampant Annie was permastunning people and a bunch of other crap Nobody wants to have to check the megathread for bug reports and read through it for a while just to realize that the game isn t particularly playable We agree with OP that game breaking bugs are super frustrating and that a megathread for bug reports may not be ideal for users That said the megathread is still really important for the devs who check it regularly after new patches With this in mind we re adding a new bullet under our bug rule which states Game breaking bugs are allowed as their own post provided that the bug is severe enough to be a widespread issue that fundamentally impacts the playability or balance of the game The definition of game breaking is a bit subjective so here are a few examples of the level of impact we are looking for The recent Annie permastun bug The Xerath global ult bug The Riven insta base combo If the bug is not at that level of impact on the game then it will likely be removed and forced into the bug megathread Also we encourage all of you to make sure that all bugs including the game breaking ones still end up in the bug megathread We ll be monitoring the impact of this rule change on the bug megathreads so make sure those don t fall out of style One last note here is that because game breaking is a bit subjective and because the overall impact of a bug may not be immediately apparent moderator enforcement on this one could be inconsistent We re going into this change with eyes wide open on the potential obstacles but we want to give this a try because of the community response With all that in mind please be patient as we work out the kinks and be sure to give us feedback on how we can make this rule in particular function well nbsp Rule Change 2 Server Status Posts The second most upvoted comment was If people are unable to play the game it seems pretty directly related to the game not to mention that the servers running the game are also directly related to the game otherwise they wouldn t be running the game If a lot of people have the same problem I wanna know how widespread that problem is and I don t want to go to new for that and find out how many posts have been created that haven t been deleted yet As a result of this feedback we have removed the previous server status rule that said Posts about the status of servers issues related to the servers and network issues are not allowed The new rule is User posts about the status of servers are allowed but only if the issue is confirmed by Riot The post will be removed once the server issues are resolved Duplicate posts about server issues will be removed under our existing repost rule nbsp Rule Change 3 Post Match Threads PMTs and Tournaments Another request we saw was around PMTs and game day rules This comment sums up the feedback pretty well I can t stand the change where you remove post match discussions after 24 hours well typically it seems to be less than that Post match discussions are my favorite aspect of this sub and even if they fill up the front page it s quality content so why suppress it Can you at least include a sidebar link to all of the week s post match discussions Well RealFatChicken we have since implemented an archive on the sidebar so that request is already answered Buuuut we have even better news for you esports fans Before we get to the better news though some context is necessary so everyone can understand the change A few months ago we implemented game day rules to help deal with the flood of esports content that happens on game days which is roughly 4 days a week every week Fri Sun games followed by posts sticking around through Monday Under these rules a bot removes LCS and LEC PMTs after 15 hours and then reapproves them after 40 hours in order to free up the first second and third pages of the subreddit for new content Removed PMTs are still available throughout this time via the live discussion threads and the new archive in the sidebar Now for that better news for you esports lovers We re updating our game day rules to exempt PMTs from being removed during quarterfinals semi finals and finals matches in LCS LEC as well as International tournaments like MSI and Worlds This change should keep all the hype that comes with these big matches while still keeping the subreddit fresh during the rest of the year That s all for now \n",
            "\n",
            "---- LEC 2019 Summer Week 9 Day 2 Live Discussion ----\n",
            "LEC 2019 SUMMER Lolesports Leaguepedia Eventvods com New to LoL Today s matches will be played on Patch 9 15 Today s Matches Day X Match PST EST CET KST 1 SPY vs MSF 8 AM 11 AM 17 00 01 00 2 OG vs SK 9 AM 12 PM 18 00 02 00 3 S04 vs VIT 10 AM 1 PM 19 00 03 00 4 G2 vs XL 11 AM 2 PM 20 00 04 00 5 FNC vs RGE 12 PM 3 PM 21 00 05 00 All matches are Best of 1 Streams Stream on Twitch Stream on YouTube Stream on Lolesports Comment Stream Teams Team Record Information 1 G2 Esports 14 3 Leaguepedia Lolesports 2 Fnatic 13 4 Leaguepedia Lolesports 3 Splyce 12 5 Leaguepedia Lolesports 4 FC Schalke 04 10 7 Leaguepedia Lolesports 5 Team Vitality 7 10 Leaguepedia Lolesports 5 Origen 7 10 Leaguepedia Lolesports 5 Rogue 7 10 Leaguepedia Lolesports 8 SK Gaming 6 11 Leaguepedia Lolesports 9 Misfits 5 12 Leaguepedia Lolesports 10 Excel Esports 4 13 Leaguepedia Lolesports On Air Team Host Eefje Sjokz Depoortere Interviewer Laure LaureBuliiv Valee Play by Play Commentators Trevor Quickshot Henry Daniel Drakos Drakos Aaron Medic Chamberlain Analysts Commentators Andrew Vedius Day Indiana Froskurinn Black Christy Ender Frierson Dan Foxdrop Wyatt Format Best of 1 double round robin Nine weeks Ten matches per week Each team plays two matches per week Ten teams Top 6 teams qualify for Spring Playoffs Tiebreakers 1 Head to head record 2 Tiebreaker Bo1 The official LEC ruleset can be found here VoDs VoDs on Reddit VoDs on Eventvods com VoDs on Lolesports \n",
            "\n",
            "---- LCS Summer 2019 Week 8 Day 2 Live Discussion ----\n",
            "LCS 2019 SUMMER Lolesports Leaguepedia Eventvods com New to LoL Today s matches will be played on Patch 9 14 Today s Matches Day X Match PST EST CET KST 1 OPT vs GGS 12 PM 3 PM 21 00 05 00 2 100 vs TSM 1 PM 4 PM 22 00 06 00 3 C9 vs TL 2 PM 5 PM 23 00 07 00 4 FOX vs CLG 3 PM 6 PM 00 00 08 00 5 CG vs FLY 4 PM 7 PM 01 00 09 00 All matches are Best of 1 Streams Stream on Twitch Stream on YouTube Stream on Lolesports Comment Stream Teams Team Record Information 1 Team Liquid 12 3 Leaguepedia Riot 2 Counter Logic Gaming 10 5 Leaguepedia Riot 3 Cloud9 9 6 Leaguepedia Riot 3 Team SoloMid 9 6 Leaguepedia Riot 5 OpTic Gaming 8 7 Leaguepedia Riot 6 Golden Guardians 7 8 Leaguepedia Riot 7 100 Thieves 6 9 Leaguepedia Riot 7 Clutch Gaming 6 9 Leaguepedia Riot 9 FlyQuest 5 10 Leaguepedia Riot 10 Echo Fox 3 12 Leaguepedia Riot On Air Team Host James Dash Patterson Interviewer Ovilee Ovilee May Analyst Desk Mark MarkZ Zimmerman Play by Play Commentators David Phreak Turley Julian Pastrytime Carr Rivington Riv Bisland III Clayton CaptainFlowers Raines Color Commentators Sam Kobe Hartman Kenzler Isaac Azael Cummings Bentley Joshua Jatt Leesman RIP Aidan Zirene Moon Format Best of 1 double round robin Nine weeks Ten matches per week Each team plays two matches per week Ten teams Top 6 teams qualify for Spring Playoffs Top 2 teams receive a bye to the Semi Finals Tiebreakers 1 Head to head match record 2 Tiebreaker Bo1 The official NA LCS ruleset can be found here VoDs VoDs on Reddit VoDs on Eventvods com VoDs on Lolesports \n",
            "\n",
            "---- LCS 2019 Summer Week 7 Day 1 Live Discussion ----\n",
            "LCS 2019 SUMMER Lolesports Leaguepedia Eventvods com New to LoL Today s matches will be played on Patch 9 13 Today s Matches Day X Match PST EST CET KST 1 C9 vs 100T 2 PM 5 PM 23 00 07 00 2 TSM vs GGS 3 PM 6 PM 00 00 08 00 3 FLY vs CLG 4 PM 7 PM 01 00 09 00 4 TL vs CG 5 PM 8 PM 02 00 10 00 5 FOX vs OPT 6 PM 9 PM 03 00 11 00 All matches are Best of 1 Streams Stream on Twitch Stream on YouTube Stream on Lolesports Comment Stream Teams Team Record Information 1 Team Liquid 9 3 Leaguepedia Riot 2 Cloud9 8 4 Leaguepedia Riot 3 Counter Logic Gaming 7 5 Leaguepedia Riot 3 Team SoloMid 7 5 Leaguepedia Riot 5 Golden Guardians 6 6 Leaguepedia Riot 5 OpTic Gaming 6 6 Leaguepedia Riot 7 100 Thieves 5 7 Leaguepedia Riot 7 Clutch Gaming 5 7 Leaguepedia Riot 9 FlyQuest 4 8 Leaguepedia Riot 10 Echo Fox 3 9 Leaguepedia Riot On Air Team Host James Dash Patterson Interviewer Ovilee Ovilee May Analyst Desk Mark MarkZ Zimmerman Play by Play Commentators David Phreak Turley Julian Pastrytime Carr Rivington Riv Bisland III Clayton CaptainFlowers Raines Color Commentators Sam Kobe Hartman Kenzler Isaac Azael Cummings Bentley Aidan Zirene Moon Joshua Jatt Leesman Format Best of 1 double round robin Nine weeks Ten matches per week Each team plays two matches per week Ten teams Top 6 teams qualify for Spring Playoffs Top 2 teams receive a bye to the Semi Finals Tiebreakers 1 Head to head match record 2 Tiebreaker Bo1 The official NA LCS ruleset can be found here VoDs VoDs on Reddit VoDs on Eventvods com VoDs on Lolesports \n",
            "\n",
            "---- White House on lockdown with reporters being moved to press briefing room reports say ----\n",
            " \n",
            "\n",
            "---- We re the Rioters working on Teamfight Tactics Ask us anything ----\n",
            " \n",
            "\n",
            "---- A Few Rule Updates ----\n",
            "Hi Everyone We want to share with you a few quick rule updates for nbsp 1 We ve updated our satire rule again to add some clarity The previous wording was Titles of satire content must state it is satire in the title The new wording is Satire is allowed but if your title is misleading or tries to trick users then your post should be tagged with Satire Our original satire rule update was meant to help with satirical posts that violated our misleading title rule however the wording meant that we were over enforcing on the intended change We have adjusted the wording to match our intended enforcement nbsp 2 Queue Flooding We ve added a rule to prevent queue flooding Users can make no more than 5 submissions in within a 24 hour window Most users won t notice any change at all However the change should help reduce spam and should give more users the opportunity to submit content nbsp 3 Tagging posts for minor title corrections We dislike removing great posts that have small errors in them So we re trying out a new policy where mods can tag and add sticky comments for minor corrections on otherwise accurate and relevant posts Minor is defined as limited to one word or number change that does not impact the core meaning or point of the post Here are a few posts that were removed but could have benefited from this policy TFblade hitting rank 1 in 14 days it was actually 18 days RatIRL 1v5 it was actually a 1v4 Tyler 1 goes 1v5 it was a 1v4 We ll be trying this policy out for a bit and we ll be actively listening to feedback on it If we find that it s encouraging more misleading and inaccurate titles we may choose to revert the policy nbsp One last thing Teamfight Tactics will be on PBE soon As of right now we intend to allow submissions about Teamfight Tactics on the league subreddit but our rules will still apply Posts about Teamfight Tactics that are made to the league subreddit will need to abide by those rules one big one at play here is our no PBE bug posts rule However the subreddit has a much more minimal ruleset and will allow posts about PBE bugs for the new game mode It will also allow a lot of other stuff that would not be allowed in the main subreddit like memes \n",
            "\n",
            "---- Welcome to ----\n",
            "This is the dedicated subreddit for Teamfight Tactics Just a quick note to check out the rules before you post here With that out of the way it s time to get HYPE \n",
            "\n",
            "---- LEC 2019 Summer Week 2 Day 2 Live Discussion ----\n",
            "LEC 2019 SUMMER Lolesports Leaguepedia Eventvods com New to LoL Today s matches will be played on Patch 9 11 Today s Matches Day 2 Match PST EST CET KST 1 XL vs SPY 8 AM 11 AM 17 00 00 00 2 SK vs RGE 9 AM 12 PM 18 00 01 00 3 OG vs MSF 10 AM 1 PM 19 00 02 00 4 S04 vs FNC 11 AM 2 PM 20 00 03 00 5 VIT vs G2 12 PM 3 PM 21 00 04 00 All matches are Best of 1 Streams Stream on Twitch Stream on YouTube Stream on Lolesports Comment Stream Teams Team Record Information 1 Fnatic 3 0 Leaguepedia Lolesports 1 G2 Esports 3 0 Leaguepedia Lolesports 3 FC Schalke 04 2 1 Leaguepedia Lolesports 3 Misfits 2 1 Leaguepedia Lolesports 3 Rogue 2 1 Leaguepedia Lolesports 6 Origen 1 2 Leaguepedia Lolesports 6 SK Gaming 1 2 Leaguepedia Lolesports 6 Splyce 1 2 Leaguepedia Lolesports 9 Excel Esports 0 3 Leaguepedia Lolesports 9 Team Vitality 0 3 Leaguepedia Lolesports On Air Team Host Eefje Sjokz Depoortere Interviewer Laure LaureBuliiv Valee Play by Play Commentators Trevor Quickshot Henry Daniel Drakos Drakos Aaron Medic Chamberlain Analysts Commentators Andrew Vedius Day Indiana Froskurinn Black Christy Ender Frierson Dan Foxdrop Wyatt Format Best of 1 double round robin Nine weeks Ten matches per week Each team plays two matches per week Ten teams Top 6 teams qualify for Spring Playoffs Top 2 teams receive a bye to the Semi Finals Tiebreakers 1 Head to head record 2 Tiebreaker Bo1 The official LEC ruleset can be found here VoDs VoDs on Reddit VoDs on Eventvods com VoDs on Lolesports \n",
            "\n",
            "---- LCS 2019 Summer Week 2 Day 1 Live Discussion ----\n",
            "LCS 2019 SUMMER Lolesports Leaguepedia Eventvods com New to LoL Today s matches will be played on Patch 9 11 Today s Matches Day X Match PST EST CET KST 1 C9 vs FOX 2 PM 5 PM 23 00 07 00 2 TL vs 100T 3 PM 6 PM 00 00 08 00 3 TSM vs FLY 4 PM 7 PM 01 00 09 00 4 OPT vs CLG 5 PM 8 PM 02 00 10 00 5 CG vs GGS 6 PM 9 PM 03 00 11 00 All matches are Best of 1 Streams Stream on Twitch Stream on YouTube Stream on Lolesports Comment Stream Teams Team Record Information 1 Cloud9 2 0 Leaguepedia Riot 1 Golden Guardians 2 0 Leaguepedia Riot 1 OpTic Gaming 2 0 Leaguepedia Riot 4 Counter Logic Gaming 1 1 Leaguepedia Riot 4 Echo Fox 1 1 Leaguepedia Riot 4 Team Liquid 1 1 Leaguepedia Riot 4 Team SoloMid 1 1 Leaguepedia Riot 8 100 Thieves 0 2 Leaguepedia Riot 8 Clutch Gaming 0 2 Leaguepedia Riot 8 FlyQuest 0 0 Leaguepedia Riot On Air Team Host James Dash Patterson Interviewer Ovilee Ovilee May Analyst Desk Mark MarkZ Zimmerman Play by Play Commentators David Phreak Turley Julian Pastrytime Carr Rivington Riv Bisland III Clayton CaptainFlowers Raines Color Commentators Sam Kobe Hartman Kenzler Isaac Azael Cummings Bentley Aidan Zirene Moon RIP Joshua Jatt Leesman Format Best of 1 double round robin Nine weeks Ten matches per week Each team plays two matches per week Ten teams Top 6 teams qualify for Spring Playoffs Top 2 teams receive a bye to the Semi Finals Tiebreakers 1 Head to head match record 2 Tiebreaker Bo1 The official NA LCS ruleset can be found here VoDs VoDs on Reddit VoDs on Eventvods com VoDs on Lolesports \n",
            "\n",
            "---- Ex SRO charged with child neglect for inaction during Parkland massacre ----\n",
            " \n",
            "\n",
            "---- LCS Spring 2019 Week 8 Day 2 Live Discussion ----\n",
            "LCS 2019 SPRING Lolesports Leaguepedia Eventvods com New to LoL Today s matches will be played on Patch 9 5 Kayle and Sylas are disabled Today s Matches Day 2 Match PST EST CET KST 1 GGS vs CG 12 PM 3 PM 21 00 05 00 2 C9 vs OPT 1 PM 4 PM 22 00 06 00 3 100 vs FOX 2 PM 5 PM 23 00 07 00 4 TL vs FLY 3 PM 6 PM 00 00 08 00 5 CLG vs TSM 4 PM 7 PM 01 00 09 00 All matches are Best of 1 Streams Stream on Twitch Stream on YouTube Stream on Lolesports Comment Stream Teams Team Record Information 1 Team Liquid 14 1 Leaguepedia Riot 2 Cloud9 11 4 Leaguepedia Riot 3 Team SoloMid 10 5 Leaguepedia Riot 4 FlyQuest 8 7 Leaguepedia Riot 5 Counter Logic Gaming 6 9 Leaguepedia Riot 5 Golden Guardians 6 9 Leaguepedia Riot 5 OpTic Gaming 6 9 Leaguepedia Riot 8 Clutch Gaming 5 10 Leaguepedia Riot 8 Echo Fox 5 10 Leaguepedia Riot 10 100 Thieves 4 11 Leaguepedia Riot On Air Team Host James Dash Patterson Interviewer Ovilee Ovilee May Analyst Desk Mark MarkZ Zimmerman Play by Play Commentators David Phreak Turley Julian Pastrytime Carr Rivington Riv Bisland III Clayton CaptainFlowers Raines Color Commentators Sam Kobe Hartman Kenzler Isaac Azael Cummings Bentley RIP Joshua Jatt Leesman Aidan Zirene Moon Format Best of 1 double round robin Nine weeks Ten matches per week Each team plays two matches per week Ten teams Top 6 teams qualify for Spring Playoffs Top 2 teams receive a bye to the Semi Finals Tiebreakers 1 Head to head match record 2 Tiebreaker Bo1 The official NA LCS ruleset can be found here VoDs VoDs on Reddit VoDs on Eventvods com VoDs on Lolesports \n",
            "\n",
            "---- LCS Spring 2019 Week 8 Day 1 Live Discussion ----\n",
            "LCS 2019 SPRING Lolesports Leaguepedia Eventvods com New to LoL Today s matches will be played on Patch 9 5 Kayle and Sylas are disabled Today s Matches Day 1 Match PST EST CET KST 1 OPT vs CLG 2 PM 5 PM 23 00 07 00 2 CG vs TL 3 PM 6 PM 00 00 08 00 3 FOX vs C9 4 PM 7 PM 01 00 09 00 4 TSM vs GGS 5 PM 8 PM 02 00 10 00 5 FLY vs 100 6 PM 9 PM 03 00 11 00 All matches are Best of 1 Streams Stream on Twitch Stream on YouTube Stream on Lolesports Comment Stream Teams Team Record Information 1 Team Liquid 13 1 Leaguepedia Riot 2 Cloud9 11 3 Leaguepedia Riot 3 Team SoloMid 9 5 Leaguepedia Riot 4 FlyQuest 7 7 Leaguepedia Riot 5 Golden Guardians 6 8 Leaguepedia Riot 5 OpTic Gaming 6 8 Leaguepedia Riot 7 Clutch Gaming 5 9 Leaguepedia Riot 7 Counter Logic Gaming 5 9 Leaguepedia Riot 9 100 Thieves 4 10 Leaguepedia Riot 9 Echo Fox 4 10 Leaguepedia Riot On Air Team Host James Dash Patterson Interviewer Ovilee Ovilee May Analyst Desk Mark MarkZ Zimmerman Play by Play Commentators David Phreak Turley Julian Pastrytime Carr Rivington Riv Bisland III Clayton CaptainFlowers Raines Color Commentators Sam Kobe Hartman Kenzler Isaac Azael Cummings Bentley Aidan Zirene Moon RIP Joshua Jatt Leesman Format Best of 1 double round robin Nine weeks Ten matches per week Each team plays two matches per week Ten teams Top 6 teams qualify for Spring Playoffs Top 2 teams receive a bye to the Semi Finals Tiebreakers 1 Head to head match record 2 Tiebreaker Bo1 The official NA LCS ruleset can be found here VoDs VoDs on Reddit VoDs on Eventvods com VoDs on Lolesports \n",
            "\n",
            "---- LCS Spring 2019 Week 7 Day 1 Live Discussion ----\n",
            "LCS 2019 SPRING Lolesports Leaguepedia Eventvods com New to LoL Today s matches will be played on Patch 9 4 Today s Matches Day 1 Match PST EST CET KST 1 GGS vs CLG 2 PM 5 PM 23 00 07 00 2 C9 vs TL 3 PM 6 PM 00 00 08 00 3 TSM vs 100 4 PM 7 PM 01 00 09 00 4 CG vs FLY 5 PM 8 PM 02 00 10 00 5 FOX vs OPT 6 PM 9 PM 03 00 11 00 All matches are Best of 1 Streams Stream on Twitch Stream on YouTube Stream on Lolesports Comment Stream Teams Team Record Information 1 Team Liquid 11 1 Leaguepedia Riot 2 Cloud9 10 2 Leaguepedia Riot 3 Team SoloMid 7 5 Leaguepedia Riot 4 Counter Logic Gaming 5 7 Leaguepedia Riot 4 FlyQuest 5 7 Leaguepedia Riot 4 Golden Guardians 5 7 Leaguepedia Riot 4 OpTic Gaming 5 7 Leaguepedia Riot 8 100 Thieves 4 8 Leaguepedia Riot 8 Clutch Gaming 4 8 Leaguepedia Riot 8 Echo Fox 4 8 Leaguepedia Riot On Air Team Host James Dash Patterson Interviewer Ovilee Ovilee May Analyst Desk Mark MarkZ Zimmerman Play by Play Commentators David Phreak Turley Julian Pastrytime Carr Rivington Riv Bisland III Clayton CaptainFlowers Raines Color Commentators Sam Kobe Hartman Kenzler Isaac Azael Cummings Bentley Aidan Zirene Moon RIP Joshua Jatt Leesman Format Best of 1 double round robin Nine weeks Ten matches per week Each team plays two matches per week Ten teams Top 6 teams qualify for Spring Playoffs Top 2 teams receive a bye to the Semi Finals Tiebreakers 1 Head to head match record 2 Tiebreaker Bo1 The official NA LCS ruleset can be found here VoDs VoDs on Reddit VoDs on Eventvods com VoDs on Lolesports \n",
            "\n",
            "---- LEC 2019 Spring Week 8 Day 2 Live Discussion ----\n",
            "LEC 2019 SPRING Lolesports Leaguepedia Eventvods com New to LoL Today s matches will be played on Patch 9 4 Today s Matches Day 2 Match PST EST CET KST 1 MSF vs S04 8 AM 11 AM 17 00 01 00 2 SK vs SPY 9 AM 12 PM 18 00 02 00 3 XL vs FNC 10 AM 1 PM 19 00 03 00 4 OG vs RGE 11 AM 2 PM 20 00 04 00 5 G2 vs VIT 12 PM 3 PM 21 00 05 00 All matches are Best of 1 Streams Stream on Twitch Stream on YouTube Stream on Lolesports Comment Stream Teams Team Record Information 1 G2 Esports 12 3 Leaguepedia Lolesports 2 Team Vitality 10 5 Leaguepedia Lolesports 3 Origen 9 6 Leaguepedia Lolesports 3 Splyce 9 6 Leaguepedia Lolesports 5 Fnatic 8 7 Leaguepedia Lolesports 6 FC Schalke 04 7 8 Leaguepedia Lolesports 6 Misfits 7 8 Leaguepedia Lolesports 6 SK Gaming 7 8 Leaguepedia Lolesports 9 Excel Esports 4 11 Leaguepedia Lolesports 10 Rogue 2 13 Leaguepedia Lolesports On Air Team Host Eefje Sjokz Depoortere Interviewer Laure LaureBuliiv Valee Play by Play Commentators Trevor Quickshot Henry Daniel Drakos Drakos Aaron Medic Chamberlain Analysts Commentators Andrew Vedius Day Indiana Froskurinn Black Christy Ender Frierson Dan Foxdrop Wyatt Guest Analyst Alex Machine Richardson Format Best of 1 double round robin Nine weeks Ten matches per week Each team plays two matches per week Ten teams Top 6 teams qualify for Spring Playoffs Top 2 teams receive a bye to the Semi Finals Tiebreakers 1 Head to head record 2 Tiebreaker Bo1 The official LEC ruleset can be found here VoDs VoDs on Reddit VoDs on Eventvods com VoDs on Lolesports \n",
            "\n",
            "---- LCS Spring 2019 Week 6 Day 2 Live Discussion ----\n",
            "LCS 2019 SPRING Lolesports Leaguepedia Eventvods com New to LoL Today s matches will be played on Patch 9 4 Today s Matches Day 2 Match PST EST CET KST 1 FOX vs CG 12 PM 3 PM 21 00 05 00 2 100 vs GGS 1 PM 4 PM 22 00 06 00 3 C9 vs TSM 2 PM 5 PM 23 00 07 00 4 TL vs CLG 3 PM 6 PM 00 00 08 00 5 FLY vs OPT 4 PM 7 PM 01 00 09 00 All matches are Best of 1 Streams Stream on Twitch Stream on YouTube Stream on Lolesports Comment Stream Teams Team Record Information 1 Team Liquid 10 1 Leaguepedia Riot 2 Cloud9 9 2 Leaguepedia Riot 3 Team SoloMid 7 4 Leaguepedia Riot 4 Counter Logic Gaming 5 6 Leaguepedia Riot 4 FlyQuest 5 6 Leaguepedia Riot 6 100 Thieves 4 7 Leaguepedia Riot 6 Echo Fox 4 7 Leaguepedia Riot 6 Golden Guardians 4 7 Leaguepedia Riot 6 OpTic Gaming 4 7 Leaguepedia Riot 10 Clutch Gaming 3 8 Leaguepedia Riot On Air Team Host James Dash Patterson Interviewer Ovilee Ovilee May Analyst Desk Mark MarkZ Zimmerman Play by Play Commentators David Phreak Turley Julian Pastrytime Carr Rivington Riv Bisland III Clayton CaptainFlowers Raines Color Commentators Sam Kobe Hartman Kenzler Isaac Azael Cummings Bentley Aidan Zirene Moon RIP Joshua Jatt Leesman Format Best of 1 double round robin Nine weeks Ten matches per week Each team plays two matches per week Ten teams Top 6 teams qualify for Spring Playoffs Top 2 teams receive a bye to the Semi Finals Tiebreakers 1 Head to head match record 2 Tiebreaker Bo1 The official NA LCS ruleset can be found here VoDs VoDs on Reddit VoDs on Eventvods com VoDs on Lolesports \n",
            "\n",
            "---- Seize the memes of production A few rule changes ----\n",
            "Hi Everyone We ve been listening to all the feedback we ve received over the last few months and now we re ready to announce a few changes that have been driven by all of you There are three big rule changes here so make sure to read through them all Loosening our Meme Rule Previously we had a zero tolerance rule for memes However after reading thread after thread after thread about the issues with this enforcement we ve decided to run a trial change For the next month we will be running a trial where our meme rule is loosened to allow high quality original content that references memes for inspiration Here are a few examples of memes that have been removed in the past but would be allowed now under this new rule Morgana and Kayle Purrrgot Urgette The updated rule is as follows Memes with League of Legends text or images imposed over a template are not allowed Post this content on Fanart or videos that originate from memes that are remade in their entirety are permitted Copycat posts such as MS Paint drawings front page topics reposted with slight changes and other similar posts may be removed Under this rule we will still be removing actual memes and content that includes memetic content The key here is that the content must be remade in its entirety so including clipped or cut and pasted memes in your video will still get it removed One more thing Our meme title rule remains as is Vague contextless memetic or inaccurate titles are not allowed Titles should represent or describe the content of a post If your title contains memes your post will be removed nbsp Short Duration Videos 15 Second Rule Last month we announced that we were trialing a reduction in our short duration video rule after feedback we received in our quarterly thread Previously we required all videos under 30 seconds to be put into text posts but during the trial we reduced that requirement to 15 seconds We re happy to report that the change is now permanent This means that videos 15 seconds or longer can be posted directly to the subreddit while those shorter than 15 seconds will still need to be posted in a text post Please note that padding your video to make it hit the threshold will lead to it being removed nbsp Character Requirement Changes Personal stories now require 750 characters down from 1 000 characters Tweets now require 250 characters up from 215 Changing the character requirement was inspired in part by feedback from and subreddit meta on our discord Essentially people felt 1 000 characters was just too long and that a reduction would be appropriate After some discussion we went with a slight loosening to 750 characters For twitter there are two reasons for this change The first is that twitter increased the max character count on their tweets to 280 yes we know it happened ages ago While most tweets we see here don t go that high we felt it was enough to make a minor adjustment So then why 250 Mostly for consistency s sake It s hard to remember a bunch of different numbers for character requirements so we wanted to streamline it with other rules both for our own ease of enforcement but also for users That s all for now Please let us know what you think of these changes and hit us up with any questions you might have \n",
            "\n",
            "---- LCS Spring 2019 Week 5 Day 2 Live Discussion ----\n",
            "LCS 2019 SPRING Lolesports Leaguepedia Eventvods com New to LoL Today s matches will be played on Patch 9 3 Today s Matches Day 2 Match PST EST CET KST 1 GGS vs FOX 12 PM 3 PM 21 00 05 00 2 OPT vs CG 1 PM 4 PM 22 00 06 00 3 C9 vs CLG 2 PM 5 PM 23 00 07 00 4 FLY vs TSM 3 PM 6 PM 00 00 08 00 5 TL vs 100 4 PM 7 PM 01 00 09 00 All matches are Best of 1 Streams Stream on Twitch Stream on YouTube Stream on Lolesports Comment Stream Teams Team Record Information 1 Team Liquid 8 1 Leaguepedia Riot 2 Cloud9 7 2 Leaguepedia Riot 3 FlyQuest 5 4 Leaguepedia Riot 3 Team SoloMid 5 4 Leaguepedia Riot 5 Counter Logic Gaming 4 5 Leaguepedia Riot 5 Echo Fox 4 5 Leaguepedia Riot 7 100 Thieves 3 6 Leaguepedia Riot 7 Clutch Gaming 3 6 Leaguepedia Riot 7 Golden Guardians 3 6 Leaguepedia Riot 7 OpTic Gaming 3 6 Leaguepedia Riot On Air Team Host James Dash Patterson Interviewer Ovilee Ovilee May Analyst Desk Mark MarkZ Zimmerman Play by Play Commentators David Phreak Turley Julian Pastrytime Carr Rivington Riv Bisland III Clayton CaptainFlowers Raines Color Commentators Sam Kobe Hartman Kenzler Isaac Azael Cummings Bentley Aidan Zirene Moon RIP Joshua Jatt Leesman Format Best of 1 double round robin Nine weeks Ten matches per week Each team plays two matches per week Ten teams Top 6 teams qualify for Spring Playoffs Top 2 teams receive a bye to the Semi Finals Tiebreakers 1 Head to head match record 2 Tiebreaker Bo1 The official NA LCS ruleset can be found here VoDs VoDs on Reddit VoDs on Eventvods com VoDs on Lolesports \n",
            "\n",
            "---- LCS Spring 2019 Week 5 Day 1 Live Discussion ----\n",
            "LCS 2019 SPRING Lolesports Leaguepedia Eventvods com New to LoL Today s matches will be played on Patch 9 3 Today s Matches Day 1 Match PST EST CET KST 1 OPT vs 100 2 PM 5 PM 23 00 07 00 2 TL vs FOX 3 PM 6 PM 00 00 08 00 3 CG vs GGS 4 PM 7 PM 01 00 09 00 4 FLY vs C9 5 PM 8 PM 02 00 10 00 5 TSM vs CLG 6 PM 9 PM 03 00 11 00 All matches are Best of 1 Streams Stream on Twitch Stream on YouTube Stream on Lolesports Comment Stream Teams Team Record Information 1 Team Liquid 7 1 Leaguepedia Riot 2 Cloud9 6 2 Leaguepedia Riot 3 FlyQuest 5 3 Leaguepedia Riot 4 Counter Logic Gaming 4 4 Leaguepedia Riot 4 Echo Fox 4 4 Leaguepedia Riot 4 Team SoloMid 4 4 Leaguepedia Riot 7 100 Thieves 3 5 Leaguepedia Riot 7 Golden Guardians 3 5 Leaguepedia Riot 9 Clutch Gaming 2 6 Leaguepedia Riot 9 OpTic Gaming 2 6 Leaguepedia Riot On Air Team Host James Dash Patterson Interviewer Ovilee Ovilee May Analyst Desk Mark MarkZ Zimmerman Play by Play Commentators David Phreak Turley Julian Pastrytime Carr Rivington Riv Bisland III Clayton CaptainFlowers Raines Color Commentators Sam Kobe Hartman Kenzler Isaac Azael Cummings Bentley Aidan Zirene Moon RIP Joshua Jatt Leesman Format Best of 1 double round robin Nine weeks Ten matches per week Each team plays two matches per week Ten teams Top 6 teams qualify for Spring Playoffs Top 2 teams receive a bye to the Semi Finals Tiebreakers 1 Head to head match record 2 Tiebreaker Bo1 The official NA LCS ruleset can be found here VoDs VoDs on Reddit VoDs on Eventvods com VoDs on Lolesports \n",
            "\n",
            "---- LEC 2019 Spring Week 6 Day 2 Live Discussion ----\n",
            "LEC 2019 SPRING Lolesports Leaguepedia Eventvods com New to LoL Today s matches will be played on Patch 9 3 Today s Matches Day 2 Match PST EST CET KST 1 G2 vs XL 8 AM 11 AM 17 00 00 00 2 SK vs S04 9 AM 12 PM 18 00 01 00 3 OG vs MSF 10 AM 1 PM 19 00 02 00 4 SPY vs RGE 11 AM 2 PM 20 00 03 00 5 VIT vs FNC 12 PM 3 PM 21 00 04 00 All matches are Best of 1 Streams Stream on Twitch Stream on YouTube Stream on Lolesports Comment Stream Teams Team Record Information 1 G2 Esports 10 1 Leaguepedia Lolesports 2 Team Vitality 8 3 Leaguepedia Lolesports 3 FC Schalke 04 7 4 Leaguepedia Lolesports 4 Origen 6 5 Leaguepedia Lolesports 4 Splyce 6 5 Leaguepedia Lolesports 6 Misfits 5 6 Leaguepedia Lolesports 6 SK Gaming 5 6 Leaguepedia Lolesports 8 Fnatic 4 7 Leaguepedia Lolesports 9 Excel Esports 2 9 Leaguepedia Lolesports 9 Rogue 2 9 Leaguepedia Lolesports On Air Team Host Eefje Sjokz Depoortere Interviewer Laure LaureBuliiv Valee Play by Play Commentators Trevor Quickshot Henry Daniel Drakos Drakos Aaron Medic Chamberlain Analysts Commentators Andrew Vedius Day Indiana Froskurinn Black Christy Ender Frierson Dan Foxdrop Wyatt Format Best of 1 double round robin Nine weeks Ten matches per week Each team plays two matches per week Ten teams Top 6 teams qualify for Spring Playoffs Top 2 teams receive a bye to the Semi Finals Tiebreakers 1 Head to head record 2 Tiebreaker Bo1 The official LEC ruleset can be found here VoDs VoDs on Reddit VoDs on Eventvods com VoDs on Lolesports \n",
            "\n",
            "---- New Mods 2019 Introduction and AMA ----\n",
            "Hello Thank you to everyone who applied to join the mod team We read through EVERY SINGLE application and really appreciate the time and effort you all put into them It s been amazing to see just how many of you care so much about the subreddit but we can only choose a few people Please welcome our new mods and ask them and the rest of us anything nbsp I Hi I m I Some of you will know me from the League of Legends Discord where I m often found hanging out in subreddit meta and others of you will know me from Main thing to know is I have a strong interest in the sub not being permanently on fire so expect to see me more on the serious side of discussion than the frontlines of the meme wars in the comments Also said he d bring out the jumper cables if I didn t say in the intro he was the best mod Peace nbsp AND nbsp Hi everyone I m new Holds up memes My name is Dongsquad420BlazeIt Stargaurdianbard but you can call me the moderator of d00m I m 28 23 years old mature for my age and I like to browse League of Legends with my Teemo Urgot RIP patch 9 4 Bard plushie I m a Teemo Urgot Bard main if you don t like it you re a 5m You ve probably seen me memeing around but now I m ready to enforce the rules and chew bubble gum And I m all out of gum Hey so this will be my blurp for the new mod announcement its completely original and took me a lot of time to come up with so positive criticisms only please Say welcome to the new overlords mods And ask questions We ll answer em \n",
            "\n",
            "---- Police sources New evidence suggests Jussie Smollett orchestrated attack ----\n",
            " \n",
            "\n",
            "---- LCS Spring 2019 Week 4 Day 1 Live Discussion ----\n",
            "LCS 2019 SPRING Lolesports Leaguepedia Eventvods com New to LoL Today s matches will be played on Patch 9 3 with the hotfix to remove the 0cs strat Today s Matches Day 1 Match PST EST CET KST 1 TSM vs OPT 2 PM 5 PM 23 00 07 00 2 GGS vs TL 3 PM 6 PM 00 00 08 00 3 C9 vs FOX 4 PM 7 PM 01 00 09 00 4 100 vs FLY 5 PM 8 PM 02 00 10 00 5 CG vs CLG 6 PM 9 PM 03 00 11 00 All matches are Best of 1 Streams Stream on Twitch Stream on YouTube Stream on Lolesports Comment Stream Teams Team Record Information 1 Team Liquid 6 0 Leaguepedia Riot 2 Cloud9 4 2 Leaguepedia Riot 3 100 Thieves 3 3 Leaguepedia Riot 3 Counter Logic Gaming 3 3 Leaguepedia Riot 3 Echo Fox 3 3 Leaguepedia Riot 3 FlyQuest 3 3 Leaguepedia Riot 7 Clutch Gaming 2 4 Leaguepedia Riot 7 Golden Guardians 2 4 Leaguepedia Riot 2 OpTic Gaming 2 4 Leaguepedia Riot 2 Team SoloMid 2 4 Leaguepedia Riot On Air Team Host James Dash Patterson Interviewer Ovilee Ovilee May Analyst Desk Mark MarkZ Zimmerman Play by Play Commentators David Phreak Turley Julian Pastrytime Carr Rivington Riv Bisland III Clayton CaptainFlowers Raines Color Commentators Sam Kobe Hartman Kenzler Isaac Azael Cummings Bentley Aidan Zirene Moon RIP Joshua Jatt Leesman Format Best of 1 double round robin Nine weeks Ten matches per week Each team plays two matches per week Ten teams Top 6 teams qualify for Spring Playoffs Top 2 teams receive a bye to the Semi Finals Tiebreakers 1 Head to head match record 2 Tiebreaker Bo1 The official NA LCS ruleset can be found here VoDs VoDs on Reddit VoDs on Eventvods com VoDs on Lolesports \n",
            "\n",
            "---- Tekashi 6ix9ine Pleads Guilty to 9 Federal Counts ----\n",
            " \n",
            "\n",
            "---- A few rule updates and why Zoe is the best champion ever created ----\n",
            "Hi Everyone World s best mod here to tell you about some recent rule updates Buckle up and read closely Short Duration Videos We ll be trialling a pretty big change to our short duration video rule over the next month Up until now our rule required that all videos under 30 seconds be posted in a text post For the next month we re lowering that threshold to 15 seconds That means that videos that are 15 seconds long will be allowed as direct posts on the subreddit while those under 15 seconds still need to be posted in text posts We re running this as a trial because the original rule was meant to combat spam and ensure higher quality video content We want to allow great content but we don t want to open the floodgates for spam and a frontpage flooded with low quality videos At the end of the trial our team will determine if the change is permanent or if the rule will be reverted to the 30 second requirement nbsp NSFW Rule You all are some dirty motherfuckers so we re updating our NSFW rule to include a new bullet point Posts that engage in casual sexism or sexual objectification are not allowed This includes posts that compare the thigh gaps boobs or asses of champions and other similar submissions And yes that means that the other aspects of our NSFW rule are very much still in effect You still can t post your nasty lux erotica to the sub you still can t share your drawings and you still can t post lingerie cosplay nbsp Direct Address Rule We already posted about this update to our enforcement last week I m not going to rewrite the entire post here but the TL DR is that we are loosening our direct address rule to allow implicit addresses and we ll be treating them like feature suggestions Don t know what all that means then click this link and read the more detailed post And finally Zoe is a disaster of a champion She should be deleted from the game \n",
            "\n",
            "---- is looking for new moderators ----\n",
            "Edit Apps are now closed Any apps that come in after this edit was made will not be considered Thank you all for applying we ll reach out to the people who made the cut later this week nbsp Hi Everyone We re looking for new moderators to join our awesome team Don t think you re cool enough to make the cut Don t worry neither were we when we first joined We ll teach you and soon you ll feel right at home Moderating for the subreddit is a volunteer position and it can be a lot of fun Here s a quick preview of the day in the life of a mod While this is a volunteer position we expect mods on our team to be active so you should only apply if you can commit 10 hours per week to moderating Click here to apply Please answer the questions in the application as best you can be honest be thorough and don t rush You will have 7 days from the time of this post to get them filled out If you have any questions about the application feel free to reply to this thread as a comment send us a modmail or hit us up on Discord Now that that s all out of the way We look forward to seeing your responses and welcoming new members to our team Edit A few people have asked when they ll hear back Here s our tentative timeline People have 7 days from the date and time that this post was first submitted to apply Our team will then review all of the submitted apps It is impossible for us to respond to all applicants so we ll only be messaging those whose applications stood out We hope to message those individuals sometime in the next 2 weeks \n",
            "\n",
            "---- Nancy Pelosi Elected Speaker as Democrats Take Control of House ----\n",
            " \n",
            "\n",
            "---- Trump Tried to Hire William Barr as Top Lawyer on Russia Probe Months Before Tapping Him For AG ----\n",
            " \n",
            "\n",
            "---- Special counsel Robert Mueller calls for light sentence for former Trump national security advisor Michael Flynn ----\n",
            " \n",
            "\n",
            "---- Michael Cohen Is The 33rd Person Mueller Has Charged And Could Be Among The Most Important ----\n",
            " \n",
            "\n",
            "---- Allow mods to archive mod discussions in modmail ----\n",
            "Internal mod discussions in modmail can t be archived which means that the mod discussions tab is always full It would be great if we could archive those discussions just like other modmails \n",
            "\n",
            "---- Megathread California Wildfires ----\n",
            "The California wildfires are an ongoing disaster and this thread will serve as the central discussion place as things continue to unfold nbsp Acting Governor Newsom has declared multiple States of Emergency due to wildfires LA and Ventura Counties Proclamation Butte County Proclamation Resources If you have been impacted by wildfires and are looking for resources local assistance services housing and additional important information visit the statewide wildfire recovery resources website For anyone looking for a pet that was displaced during the Camp Fire you can find more information at nvadg org nbsp The latest information Fires 2 82 confirmed fatalities 1 000 people missing Camp Fire Location Butte County 151 272 acres burned 70 contained 3 injuries 79 fatalities confirmed 11 713 residences 472 commercial and 3 388 other buildings destroyed Woolsey Fire Location Los Angeles County Ventura County 96 949 acres burned 90 contained 3 firefighter injuries 3 civilian fatalities confirmed 71 500 structures destroyed 341 damaged nbsp You can view the fire map here and another fire map here nbsp Air Quality The air quality is very poor in many locations You can check your air quality index here nbsp New concerns as of the morning of November 20th The National Weather Service has issued a flash flood watch from Wednesday through Friday for the Camp Fire area The rain will likely assist firefighters in ending the fire threat but it opens up concerns re mudslides nbsp Useful resources for staying informed as things continue to develop Sign up for Nixle severe weather alerts from local law enforcement and agencies For the latest information on individual fires click here Follow CalFire on Twitter for the latest updates Wildfire preparedness Tips for protecting your pets during a wildfire Edit The comments are set to a suggested sort of new however you can change it to best in order to see the most upvoted comments \n",
            "\n"
          ],
          "name": "stdout"
        }
      ]
    },
    {
      "cell_type": "markdown",
      "metadata": {
        "id": "j5aqYYb_DxbX"
      },
      "source": [
        "## Tres arquitecturas diferentes de RNN para la clasificación de texto como positivo o negativo. Los tres modelos deben ser integrados al modelo de ensamble original. (15 puntos)"
      ]
    },
    {
      "cell_type": "code",
      "metadata": {
        "id": "HPmZ-luybQ1b"
      },
      "source": [
        "from keras.preprocessing.text import Tokenizer\n",
        "from keras.preprocessing.sequence import pad_sequences"
      ],
      "execution_count": 58,
      "outputs": []
    },
    {
      "cell_type": "code",
      "metadata": {
        "colab": {
          "base_uri": "https://localhost:8080/"
        },
        "id": "-PvD19MxSCCi",
        "outputId": "610fd8e9-0a87-4eb4-f278-168d4dc73d02"
      },
      "source": [
        "#Import dataset\n",
        "\n",
        "DATASET_COLUMNS = [\"target\", \"ids\", \"date\", \"flag\", \"user\", \"text\"]\n",
        "DATASET_ENCODING = \"ISO-8859-1\"\n",
        "\n",
        "dataset = pd.read_csv('training.1600000.processed.noemoticon.csv', encoding=DATASET_ENCODING, names=DATASET_COLUMNS)\n",
        "#Print number of observations and features\n",
        "print('This dataset has {} observations with {} features.'.format(dataset.shape[0], dataset.shape[1]))\n",
        "#Check for null values\n",
        "dataset.info()"
      ],
      "execution_count": 59,
      "outputs": [
        {
          "output_type": "stream",
          "text": [
            "This dataset has 1600000 observations with 6 features.\n",
            "<class 'pandas.core.frame.DataFrame'>\n",
            "RangeIndex: 1600000 entries, 0 to 1599999\n",
            "Data columns (total 6 columns):\n",
            " #   Column  Non-Null Count    Dtype \n",
            "---  ------  --------------    ----- \n",
            " 0   target  1600000 non-null  int64 \n",
            " 1   ids     1600000 non-null  int64 \n",
            " 2   date    1600000 non-null  object\n",
            " 3   flag    1600000 non-null  object\n",
            " 4   user    1600000 non-null  object\n",
            " 5   text    1600000 non-null  object\n",
            "dtypes: int64(2), object(4)\n",
            "memory usage: 73.2+ MB\n"
          ],
          "name": "stdout"
        }
      ]
    },
    {
      "cell_type": "code",
      "metadata": {
        "colab": {
          "base_uri": "https://localhost:8080/",
          "height": 204
        },
        "id": "PkqxJ6X8YpgI",
        "outputId": "d100699a-2576-44ab-f2a4-cfb89bfaa410"
      },
      "source": [
        "dataset.head()"
      ],
      "execution_count": 60,
      "outputs": [
        {
          "output_type": "execute_result",
          "data": {
            "text/html": [
              "<div>\n",
              "<style scoped>\n",
              "    .dataframe tbody tr th:only-of-type {\n",
              "        vertical-align: middle;\n",
              "    }\n",
              "\n",
              "    .dataframe tbody tr th {\n",
              "        vertical-align: top;\n",
              "    }\n",
              "\n",
              "    .dataframe thead th {\n",
              "        text-align: right;\n",
              "    }\n",
              "</style>\n",
              "<table border=\"1\" class=\"dataframe\">\n",
              "  <thead>\n",
              "    <tr style=\"text-align: right;\">\n",
              "      <th></th>\n",
              "      <th>target</th>\n",
              "      <th>ids</th>\n",
              "      <th>date</th>\n",
              "      <th>flag</th>\n",
              "      <th>user</th>\n",
              "      <th>text</th>\n",
              "    </tr>\n",
              "  </thead>\n",
              "  <tbody>\n",
              "    <tr>\n",
              "      <th>0</th>\n",
              "      <td>0</td>\n",
              "      <td>1467810369</td>\n",
              "      <td>Mon Apr 06 22:19:45 PDT 2009</td>\n",
              "      <td>NO_QUERY</td>\n",
              "      <td>_TheSpecialOne_</td>\n",
              "      <td>@switchfoot http://twitpic.com/2y1zl - Awww, t...</td>\n",
              "    </tr>\n",
              "    <tr>\n",
              "      <th>1</th>\n",
              "      <td>0</td>\n",
              "      <td>1467810672</td>\n",
              "      <td>Mon Apr 06 22:19:49 PDT 2009</td>\n",
              "      <td>NO_QUERY</td>\n",
              "      <td>scotthamilton</td>\n",
              "      <td>is upset that he can't update his Facebook by ...</td>\n",
              "    </tr>\n",
              "    <tr>\n",
              "      <th>2</th>\n",
              "      <td>0</td>\n",
              "      <td>1467810917</td>\n",
              "      <td>Mon Apr 06 22:19:53 PDT 2009</td>\n",
              "      <td>NO_QUERY</td>\n",
              "      <td>mattycus</td>\n",
              "      <td>@Kenichan I dived many times for the ball. Man...</td>\n",
              "    </tr>\n",
              "    <tr>\n",
              "      <th>3</th>\n",
              "      <td>0</td>\n",
              "      <td>1467811184</td>\n",
              "      <td>Mon Apr 06 22:19:57 PDT 2009</td>\n",
              "      <td>NO_QUERY</td>\n",
              "      <td>ElleCTF</td>\n",
              "      <td>my whole body feels itchy and like its on fire</td>\n",
              "    </tr>\n",
              "    <tr>\n",
              "      <th>4</th>\n",
              "      <td>0</td>\n",
              "      <td>1467811193</td>\n",
              "      <td>Mon Apr 06 22:19:57 PDT 2009</td>\n",
              "      <td>NO_QUERY</td>\n",
              "      <td>Karoli</td>\n",
              "      <td>@nationwideclass no, it's not behaving at all....</td>\n",
              "    </tr>\n",
              "  </tbody>\n",
              "</table>\n",
              "</div>"
            ],
            "text/plain": [
              "   target  ...                                               text\n",
              "0       0  ...  @switchfoot http://twitpic.com/2y1zl - Awww, t...\n",
              "1       0  ...  is upset that he can't update his Facebook by ...\n",
              "2       0  ...  @Kenichan I dived many times for the ball. Man...\n",
              "3       0  ...    my whole body feels itchy and like its on fire \n",
              "4       0  ...  @nationwideclass no, it's not behaving at all....\n",
              "\n",
              "[5 rows x 6 columns]"
            ]
          },
          "metadata": {
            "tags": []
          },
          "execution_count": 60
        }
      ]
    },
    {
      "cell_type": "code",
      "metadata": {
        "colab": {
          "base_uri": "https://localhost:8080/",
          "height": 204
        },
        "id": "1Y8jCmAlY9Hd",
        "outputId": "8ecfa6ed-0b16-4cbd-b83a-706dca9ec920"
      },
      "source": [
        "dataset.drop(['ids','date','flag','user'],axis=1,inplace=True)\n",
        "dataset.head()"
      ],
      "execution_count": 61,
      "outputs": [
        {
          "output_type": "execute_result",
          "data": {
            "text/html": [
              "<div>\n",
              "<style scoped>\n",
              "    .dataframe tbody tr th:only-of-type {\n",
              "        vertical-align: middle;\n",
              "    }\n",
              "\n",
              "    .dataframe tbody tr th {\n",
              "        vertical-align: top;\n",
              "    }\n",
              "\n",
              "    .dataframe thead th {\n",
              "        text-align: right;\n",
              "    }\n",
              "</style>\n",
              "<table border=\"1\" class=\"dataframe\">\n",
              "  <thead>\n",
              "    <tr style=\"text-align: right;\">\n",
              "      <th></th>\n",
              "      <th>target</th>\n",
              "      <th>text</th>\n",
              "    </tr>\n",
              "  </thead>\n",
              "  <tbody>\n",
              "    <tr>\n",
              "      <th>0</th>\n",
              "      <td>0</td>\n",
              "      <td>@switchfoot http://twitpic.com/2y1zl - Awww, t...</td>\n",
              "    </tr>\n",
              "    <tr>\n",
              "      <th>1</th>\n",
              "      <td>0</td>\n",
              "      <td>is upset that he can't update his Facebook by ...</td>\n",
              "    </tr>\n",
              "    <tr>\n",
              "      <th>2</th>\n",
              "      <td>0</td>\n",
              "      <td>@Kenichan I dived many times for the ball. Man...</td>\n",
              "    </tr>\n",
              "    <tr>\n",
              "      <th>3</th>\n",
              "      <td>0</td>\n",
              "      <td>my whole body feels itchy and like its on fire</td>\n",
              "    </tr>\n",
              "    <tr>\n",
              "      <th>4</th>\n",
              "      <td>0</td>\n",
              "      <td>@nationwideclass no, it's not behaving at all....</td>\n",
              "    </tr>\n",
              "  </tbody>\n",
              "</table>\n",
              "</div>"
            ],
            "text/plain": [
              "   target                                               text\n",
              "0       0  @switchfoot http://twitpic.com/2y1zl - Awww, t...\n",
              "1       0  is upset that he can't update his Facebook by ...\n",
              "2       0  @Kenichan I dived many times for the ball. Man...\n",
              "3       0    my whole body feels itchy and like its on fire \n",
              "4       0  @nationwideclass no, it's not behaving at all...."
            ]
          },
          "metadata": {
            "tags": []
          },
          "execution_count": 61
        }
      ]
    },
    {
      "cell_type": "code",
      "metadata": {
        "colab": {
          "base_uri": "https://localhost:8080/"
        },
        "id": "I86vp8JCaBCG",
        "outputId": "258c8416-ec9a-4fe2-a0c3-cc0076a32deb"
      },
      "source": [
        "import re\n",
        "stemmer = nltk.SnowballStemmer(\"english\")\n",
        "from nltk.corpus import stopwords\n",
        "import string\n",
        "nltk.download('stopwords')\n",
        "stopword=stopwords.words('english')\n",
        "stopword.remove('not')\n",
        "stopword.remove('no')\n",
        "stopword=set(stopword)"
      ],
      "execution_count": 62,
      "outputs": [
        {
          "output_type": "stream",
          "text": [
            "[nltk_data] Downloading package stopwords to /root/nltk_data...\n",
            "[nltk_data]   Package stopwords is already up-to-date!\n"
          ],
          "name": "stdout"
        }
      ]
    },
    {
      "cell_type": "code",
      "metadata": {
        "colab": {
          "base_uri": "https://localhost:8080/"
        },
        "id": "nUKomKM-aO6l",
        "outputId": "6c94b00b-2646-4b17-d689-ef211585c9c5"
      },
      "source": [
        "print(stopword)"
      ],
      "execution_count": 63,
      "outputs": [
        {
          "output_type": "stream",
          "text": [
            "{'why', \"hadn't\", 'you', 'with', \"needn't\", 's', 'd', 'myself', 'itself', 'by', \"you'll\", 'were', 'as', 've', 'more', 'all', 'did', 'am', 'above', 'each', 'so', 'does', 'm', 'was', 'its', 'having', 'over', 'they', 'should', 'both', 'most', 'and', 'i', 'yourselves', \"that'll\", 'about', 'too', 'have', 'him', \"it's\", 'o', \"you'd\", 'very', 'mustn', 'only', 'yourself', 't', 'a', \"didn't\", 'these', 'their', 'shan', 'or', 'between', 'hasn', 'hadn', 'of', 'what', 'mightn', 'whom', \"won't\", 'because', 'been', \"wouldn't\", 'down', 'don', 'out', 'ain', 'at', 'wouldn', 'we', 'an', 'me', 'that', 'through', \"you've\", 'couldn', 'them', 'doesn', 'do', 'my', 'when', \"aren't\", 'being', 'needn', \"doesn't\", \"hasn't\", \"weren't\", 'under', 'than', 'after', 'now', 'this', 'until', 'it', 'ourselves', 'y', 'who', 'further', \"mightn't\", 'to', 'her', 'she', \"don't\", 'on', 'll', 'theirs', 'are', 'the', 'below', 'here', 'wasn', \"you're\", 'his', 'if', \"shan't\", 'while', 'own', 'during', 'there', 'how', 're', 'off', 'then', 'has', 'won', \"haven't\", \"couldn't\", 'shouldn', 'yours', 'into', 'will', 'some', 'before', 'themselves', 'such', 'from', 'for', 'against', 'hers', 'haven', 'other', 'up', 'those', 'any', 'in', 'ours', 'once', \"wasn't\", 'herself', 'isn', 'aren', 'had', 'himself', 'where', 'but', 'can', 'same', 'again', 'our', \"she's\", 'your', 'ma', 'be', \"shouldn't\", \"should've\", 'which', \"mustn't\", 'nor', \"isn't\", 'he', 'just', 'didn', 'few', 'weren', 'doing', 'is'}\n"
          ],
          "name": "stdout"
        }
      ]
    },
    {
      "cell_type": "code",
      "metadata": {
        "id": "QBruCqGjaXzi"
      },
      "source": [
        "def clean_tweet(data):\n",
        "  data = str(data).lower()\n",
        "  \n",
        "  text_cleaning_re = \"@\\S+|https?:\\S+|http?:\\S|[^A-Za-z0-9]+\"\n",
        "  data = re.sub(text_cleaning_re, ' ' ,data)\n",
        "  data = [word for word in data.split(' ') if word not in stopword]\n",
        "  data=\" \".join(data)\n",
        "  #data = [stemmer.stem(word) for word in data.split(' ')]\n",
        "  #data=\" \".join(data)\n",
        "  \n",
        "  return data\n",
        "\n",
        "dataset['text'] = dataset['text'].apply(clean_tweet)"
      ],
      "execution_count": 64,
      "outputs": []
    },
    {
      "cell_type": "code",
      "metadata": {
        "colab": {
          "base_uri": "https://localhost:8080/",
          "height": 204
        },
        "id": "CFVa7t89ahHH",
        "outputId": "c0b00f91-279a-41e6-a95e-ff97c49b34a8"
      },
      "source": [
        "dataset.head()"
      ],
      "execution_count": 65,
      "outputs": [
        {
          "output_type": "execute_result",
          "data": {
            "text/html": [
              "<div>\n",
              "<style scoped>\n",
              "    .dataframe tbody tr th:only-of-type {\n",
              "        vertical-align: middle;\n",
              "    }\n",
              "\n",
              "    .dataframe tbody tr th {\n",
              "        vertical-align: top;\n",
              "    }\n",
              "\n",
              "    .dataframe thead th {\n",
              "        text-align: right;\n",
              "    }\n",
              "</style>\n",
              "<table border=\"1\" class=\"dataframe\">\n",
              "  <thead>\n",
              "    <tr style=\"text-align: right;\">\n",
              "      <th></th>\n",
              "      <th>target</th>\n",
              "      <th>text</th>\n",
              "    </tr>\n",
              "  </thead>\n",
              "  <tbody>\n",
              "    <tr>\n",
              "      <th>0</th>\n",
              "      <td>0</td>\n",
              "      <td>awww bummer shoulda got david carr third day</td>\n",
              "    </tr>\n",
              "    <tr>\n",
              "      <th>1</th>\n",
              "      <td>0</td>\n",
              "      <td>upset update facebook texting might cry result...</td>\n",
              "    </tr>\n",
              "    <tr>\n",
              "      <th>2</th>\n",
              "      <td>0</td>\n",
              "      <td>dived many times ball managed save 50 rest g...</td>\n",
              "    </tr>\n",
              "    <tr>\n",
              "      <th>3</th>\n",
              "      <td>0</td>\n",
              "      <td>whole body feels itchy like fire</td>\n",
              "    </tr>\n",
              "    <tr>\n",
              "      <th>4</th>\n",
              "      <td>0</td>\n",
              "      <td>no not behaving mad see</td>\n",
              "    </tr>\n",
              "  </tbody>\n",
              "</table>\n",
              "</div>"
            ],
            "text/plain": [
              "   target                                               text\n",
              "0       0       awww bummer shoulda got david carr third day\n",
              "1       0  upset update facebook texting might cry result...\n",
              "2       0    dived many times ball managed save 50 rest g...\n",
              "3       0                  whole body feels itchy like fire \n",
              "4       0                           no not behaving mad see "
            ]
          },
          "metadata": {
            "tags": []
          },
          "execution_count": 65
        }
      ]
    },
    {
      "cell_type": "code",
      "metadata": {
        "id": "WQ1l37NXav-_"
      },
      "source": [
        "negative_tweets = dataset[dataset['target'] == 0]\n",
        "neutral_tweets = dataset[dataset['target'] == 2]\n",
        "positive_tweets = dataset[dataset['target'] == 4]"
      ],
      "execution_count": 66,
      "outputs": []
    },
    {
      "cell_type": "code",
      "metadata": {
        "id": "iQENOeina5wy"
      },
      "source": [
        "negative_tweets = negative_tweets.loc[np.random.choice(negative_tweets.index, 20000, replace=False)]\n",
        "positive_tweets = positive_tweets.loc[np.random.choice(positive_tweets.index, 20000, replace=False)]"
      ],
      "execution_count": 67,
      "outputs": []
    },
    {
      "cell_type": "code",
      "metadata": {
        "id": "4rmkIs1PbHDf"
      },
      "source": [
        "frames = [negative_tweets, positive_tweets]\n",
        "dataset = pd.concat(frames)"
      ],
      "execution_count": 68,
      "outputs": []
    },
    {
      "cell_type": "code",
      "metadata": {
        "id": "Jvs2HadnjHf6"
      },
      "source": [
        "from sklearn.model_selection import train_test_split\n",
        "\n",
        "train, test  = train_test_split(dataset, test_size=0.2, random_state=42)"
      ],
      "execution_count": 69,
      "outputs": []
    },
    {
      "cell_type": "code",
      "metadata": {
        "colab": {
          "base_uri": "https://localhost:8080/"
        },
        "id": "Zy6UvjzKlXDV",
        "outputId": "fda678fb-36a1-4e42-88b0-41d2fb056e37"
      },
      "source": [
        "train['text'] = train['text'].apply(str)\n",
        "test['text'] = test['text'].apply(str)"
      ],
      "execution_count": 70,
      "outputs": [
        {
          "output_type": "stream",
          "text": [
            "/usr/local/lib/python3.7/dist-packages/ipykernel_launcher.py:1: SettingWithCopyWarning: \n",
            "A value is trying to be set on a copy of a slice from a DataFrame.\n",
            "Try using .loc[row_indexer,col_indexer] = value instead\n",
            "\n",
            "See the caveats in the documentation: https://pandas.pydata.org/pandas-docs/stable/user_guide/indexing.html#returning-a-view-versus-a-copy\n",
            "  \"\"\"Entry point for launching an IPython kernel.\n",
            "/usr/local/lib/python3.7/dist-packages/ipykernel_launcher.py:2: SettingWithCopyWarning: \n",
            "A value is trying to be set on a copy of a slice from a DataFrame.\n",
            "Try using .loc[row_indexer,col_indexer] = value instead\n",
            "\n",
            "See the caveats in the documentation: https://pandas.pydata.org/pandas-docs/stable/user_guide/indexing.html#returning-a-view-versus-a-copy\n",
            "  \n"
          ],
          "name": "stderr"
        }
      ]
    },
    {
      "cell_type": "code",
      "metadata": {
        "id": "M7Ok5lillko8"
      },
      "source": [
        "x_train = train.text.to_numpy()\n",
        "y_train= train.target.to_numpy()\n",
        "x_test= test.text.to_numpy()\n",
        "y_test= test.target.to_numpy()"
      ],
      "execution_count": 71,
      "outputs": []
    },
    {
      "cell_type": "code",
      "metadata": {
        "id": "Bc7I_NPpltPB"
      },
      "source": [
        "max_features = 5000"
      ],
      "execution_count": 72,
      "outputs": []
    },
    {
      "cell_type": "code",
      "metadata": {
        "id": "PE014tkYlv9w"
      },
      "source": [
        "tokenizer = Tokenizer(num_words=max_features, split=' ')\n",
        "tokenizer.fit_on_texts(x_train)\n",
        "X = tokenizer.texts_to_sequences(x_train) \n",
        "X_train = pad_sequences(X)\n",
        "\n",
        "tokenizer = Tokenizer(num_words=max_features, split=' ')\n",
        "tokenizer.fit_on_texts(x_test)\n",
        "X = tokenizer.texts_to_sequences(x_test) \n",
        "X_test = pad_sequences(X)"
      ],
      "execution_count": 73,
      "outputs": []
    },
    {
      "cell_type": "markdown",
      "metadata": {
        "id": "xipMhNkN39eO"
      },
      "source": [
        "### Modelo 1"
      ]
    },
    {
      "cell_type": "code",
      "metadata": {
        "colab": {
          "base_uri": "https://localhost:8080/"
        },
        "id": "VC5teCTByhTk",
        "outputId": "f9036c23-c0ce-4767-f61b-f70185355748"
      },
      "source": [
        "#Build Keras Model\n",
        " \n",
        "import keras\n",
        "from keras import Sequential\n",
        "from keras.layers import Dense\n",
        "from keras.layers import Embedding\n",
        "from keras.layers import SimpleRNN\n",
        "from keras import regularizers\n",
        "\n",
        "from keras import optimizers\n",
        " \n",
        "model = Sequential()\n",
        "model.add(Embedding(5000, 128, input_length=X_train.shape[1]))\n",
        "model.add(Dense(units=32, activation='relu'))\n",
        "model.add(SimpleRNN(128,kernel_regularizer=regularizers.l1_l2(l1=5e-4, l2=5e-4), bias_regularizer=regularizers.l2(1e-4),activity_regularizer=regularizers.l2(1e-5)))\n",
        "model.add(Dense(units=1,activation='linear'))\n",
        "model.compile(optimizer=\"adam\", loss='mean_squared_error',  metrics=['mae','mse'])\n",
        " \n",
        "model.build()\n",
        "# Model summary for number of parameters use in the algorithm\n",
        "model.summary()"
      ],
      "execution_count": 118,
      "outputs": [
        {
          "output_type": "stream",
          "text": [
            "Model: \"sequential_16\"\n",
            "_________________________________________________________________\n",
            "Layer (type)                 Output Shape              Param #   \n",
            "=================================================================\n",
            "embedding_12 (Embedding)     (None, 24, 128)           640000    \n",
            "_________________________________________________________________\n",
            "dense_37 (Dense)             (None, 24, 32)            4128      \n",
            "_________________________________________________________________\n",
            "simple_rnn_2 (SimpleRNN)     (None, 128)               20608     \n",
            "_________________________________________________________________\n",
            "dense_38 (Dense)             (None, 1)                 129       \n",
            "=================================================================\n",
            "Total params: 664,865\n",
            "Trainable params: 664,865\n",
            "Non-trainable params: 0\n",
            "_________________________________________________________________\n"
          ],
          "name": "stdout"
        }
      ]
    },
    {
      "cell_type": "code",
      "metadata": {
        "colab": {
          "base_uri": "https://localhost:8080/"
        },
        "id": "CInol3hozDCR",
        "outputId": "815e6fdb-8378-432c-9653-4b0e89553916"
      },
      "source": [
        "history=model.fit(X_train,y_train,batch_size=128, validation_data=(X_test, y_test), epochs=10, verbose=2)"
      ],
      "execution_count": 119,
      "outputs": [
        {
          "output_type": "stream",
          "text": [
            "Epoch 1/10\n",
            "WARNING:tensorflow:Model was constructed with shape (None, 24) for input KerasTensor(type_spec=TensorSpec(shape=(None, 24), dtype=tf.float32, name='embedding_12_input'), name='embedding_12_input', description=\"created by layer 'embedding_12_input'\"), but it was called on an input with incompatible shape (None, 28).\n",
            "250/250 - 10s - loss: 3.7758 - mae: 1.7721 - mse: 3.5873 - val_loss: 4.8083 - val_mae: 1.9508 - val_mse: 4.6494\n",
            "Epoch 2/10\n",
            "250/250 - 7s - loss: 2.6658 - mae: 1.2892 - mse: 2.5242 - val_loss: 5.0862 - val_mae: 1.9453 - val_mse: 4.9599\n",
            "Epoch 3/10\n",
            "250/250 - 7s - loss: 2.3262 - mae: 1.1410 - mse: 2.2043 - val_loss: 5.1694 - val_mae: 1.9527 - val_mse: 5.0560\n",
            "Epoch 4/10\n",
            "250/250 - 7s - loss: 2.0543 - mae: 1.0405 - mse: 1.9420 - val_loss: 5.4255 - val_mae: 1.9785 - val_mse: 5.3177\n",
            "Epoch 5/10\n",
            "250/250 - 7s - loss: 1.8122 - mae: 0.9560 - mse: 1.7030 - val_loss: 5.5635 - val_mae: 1.9743 - val_mse: 5.4576\n",
            "Epoch 6/10\n",
            "250/250 - 7s - loss: 1.5783 - mae: 0.8632 - mse: 1.4728 - val_loss: 5.9338 - val_mae: 1.9962 - val_mse: 5.8301\n",
            "Epoch 7/10\n",
            "250/250 - 8s - loss: 1.3908 - mae: 0.7748 - mse: 1.2879 - val_loss: 6.1619 - val_mae: 2.0068 - val_mse: 6.0591\n",
            "Epoch 8/10\n",
            "250/250 - 7s - loss: 1.2257 - mae: 0.6813 - mse: 1.1234 - val_loss: 6.5057 - val_mae: 2.0122 - val_mse: 6.4042\n",
            "Epoch 9/10\n",
            "250/250 - 7s - loss: 1.1686 - mae: 0.6359 - mse: 1.0641 - val_loss: 6.4173 - val_mae: 1.9826 - val_mse: 6.3109\n",
            "Epoch 10/10\n",
            "250/250 - 7s - loss: 1.0128 - mae: 0.5416 - mse: 0.9077 - val_loss: 6.3623 - val_mae: 1.9748 - val_mse: 6.2581\n"
          ],
          "name": "stdout"
        }
      ]
    },
    {
      "cell_type": "code",
      "metadata": {
        "colab": {
          "base_uri": "https://localhost:8080/",
          "height": 279
        },
        "id": "3CQeuS6mzgKB",
        "outputId": "70aa1659-a8f3-48a5-830b-f5b164b931d9"
      },
      "source": [
        "def plot_history(history):\n",
        "    hist = pd.DataFrame(history.history)\n",
        "    hist['epoch'] = history.epoch\n",
        "    plt.figure()\n",
        "    plt.xlabel('Epoch')\n",
        "    plt.ylabel('Mean Square Error')\n",
        "    plt.plot(hist['epoch'], hist['mse'], label='Train Error')\n",
        "    plt.plot(hist['epoch'], hist['val_mse'], label = 'Val Error')\n",
        "    plt.legend()\n",
        "\n",
        "plot_history(history)"
      ],
      "execution_count": 120,
      "outputs": [
        {
          "output_type": "display_data",
          "data": {
            "image/png": "[encoded data removed]",
            "text/plain": [
              "<Figure size 432x288 with 1 Axes>"
            ]
          },
          "metadata": {
            "tags": [],
            "needs_background": "light"
          }
        }
      ]
    },
    {
      "cell_type": "markdown",
      "metadata": {
        "id": "NN_DmrH94JLs"
      },
      "source": [
        "### Modelo 2"
      ]
    },
    {
      "cell_type": "code",
      "metadata": {
        "colab": {
          "base_uri": "https://localhost:8080/"
        },
        "id": "1C01c0HJ4K5O",
        "outputId": "dc493de2-9ba5-4380-c81b-e1b1e9ffa528"
      },
      "source": [
        "#Build Keras Model\n",
        " \n",
        "import keras\n",
        "from keras import Sequential\n",
        "from keras.layers import Dense\n",
        "from keras.layers import Embedding\n",
        "from keras.layers import Input\n",
        "\n",
        "\n",
        "from keras import optimizers\n",
        " \n",
        "model2 = Sequential()\n",
        "model2.add(Embedding(5000, 32, input_length=X_train.shape[1]))\n",
        "model2.add(Dense(units=8, activation='sigmoid'))\n",
        "model2.add(Dense(units=32, activation='softmax'))\n",
        "model2.add(Dense(units=1,activation='linear'))\n",
        "model2.compile(optimizer=\"adam\", loss='mean_squared_error',  metrics=['mae','mse'])\n",
        " \n",
        "model2.build()\n",
        "# Model summary for number of parameters use in the algorithm\n",
        "model2.summary()"
      ],
      "execution_count": 104,
      "outputs": [
        {
          "output_type": "stream",
          "text": [
            "Model: \"sequential_10\"\n",
            "_________________________________________________________________\n",
            "Layer (type)                 Output Shape              Param #   \n",
            "=================================================================\n",
            "embedding_6 (Embedding)      (None, 24, 32)            160000    \n",
            "_________________________________________________________________\n",
            "dense_23 (Dense)             (None, 24, 8)             264       \n",
            "_________________________________________________________________\n",
            "dense_24 (Dense)             (None, 24, 32)            288       \n",
            "_________________________________________________________________\n",
            "dense_25 (Dense)             (None, 24, 1)             33        \n",
            "=================================================================\n",
            "Total params: 160,585\n",
            "Trainable params: 160,585\n",
            "Non-trainable params: 0\n",
            "_________________________________________________________________\n"
          ],
          "name": "stdout"
        }
      ]
    },
    {
      "cell_type": "code",
      "metadata": {
        "colab": {
          "base_uri": "https://localhost:8080/"
        },
        "id": "4oD6saD176oR",
        "outputId": "8986db93-0660-4bcc-b83f-d5779e04f1b1"
      },
      "source": [
        "history2=model2.fit(X_train,y_train,batch_size=128, validation_data=(X_test, y_test), epochs=10, verbose=2)"
      ],
      "execution_count": 105,
      "outputs": [
        {
          "output_type": "stream",
          "text": [
            "Epoch 1/10\n",
            "WARNING:tensorflow:Model was constructed with shape (None, 24) for input KerasTensor(type_spec=TensorSpec(shape=(None, 24), dtype=tf.float32, name='embedding_6_input'), name='embedding_6_input', description=\"created by layer 'embedding_6_input'\"), but it was called on an input with incompatible shape (None, 28).\n",
            "250/250 - 3s - loss: 6.7519 - mae: 2.0027 - mse: 6.7519 - val_loss: 5.5659 - val_mae: 1.9955 - val_mse: 5.5659\n",
            "Epoch 2/10\n",
            "250/250 - 2s - loss: 4.9792 - mae: 1.9965 - mse: 4.9792 - val_loss: 4.4953 - val_mae: 1.9973 - val_mse: 4.4953\n",
            "Epoch 3/10\n",
            "250/250 - 2s - loss: 4.2419 - mae: 1.9942 - mse: 4.2419 - val_loss: 4.1073 - val_mae: 1.9985 - val_mse: 4.1073\n",
            "Epoch 4/10\n",
            "250/250 - 2s - loss: 4.0184 - mae: 1.9888 - mse: 4.0184 - val_loss: 4.0321 - val_mae: 1.9991 - val_mse: 4.0321\n",
            "Epoch 5/10\n",
            "250/250 - 2s - loss: 3.9591 - mae: 1.9811 - mse: 3.9591 - val_loss: 4.0248 - val_mae: 1.9985 - val_mse: 4.0248\n",
            "Epoch 6/10\n",
            "250/250 - 2s - loss: 3.9420 - mae: 1.9760 - mse: 3.9420 - val_loss: 4.0277 - val_mae: 1.9977 - val_mse: 4.0277\n",
            "Epoch 7/10\n",
            "250/250 - 2s - loss: 3.9355 - mae: 1.9723 - mse: 3.9355 - val_loss: 4.0329 - val_mae: 1.9975 - val_mse: 4.0329\n",
            "Epoch 8/10\n",
            "250/250 - 2s - loss: 3.9326 - mae: 1.9704 - mse: 3.9326 - val_loss: 4.0377 - val_mae: 1.9976 - val_mse: 4.0377\n",
            "Epoch 9/10\n",
            "250/250 - 2s - loss: 3.9311 - mae: 1.9690 - mse: 3.9311 - val_loss: 4.0407 - val_mae: 1.9977 - val_mse: 4.0407\n",
            "Epoch 10/10\n",
            "250/250 - 2s - loss: 3.9299 - mae: 1.9680 - mse: 3.9299 - val_loss: 4.0431 - val_mae: 1.9980 - val_mse: 4.0431\n"
          ],
          "name": "stdout"
        }
      ]
    },
    {
      "cell_type": "code",
      "metadata": {
        "colab": {
          "base_uri": "https://localhost:8080/",
          "height": 279
        },
        "id": "K72KeM5U79NQ",
        "outputId": "d2883032-1123-483f-a172-9ce6d1224ae3"
      },
      "source": [
        "def plot_history(history):\n",
        "    hist = pd.DataFrame(history.history)\n",
        "    hist['epoch'] = history.epoch\n",
        "    plt.figure()\n",
        "    plt.xlabel('Epoch')\n",
        "    plt.ylabel('Mean Square Error')\n",
        "    plt.plot(hist['epoch'], hist['mse'], label='Train Error')\n",
        "    plt.plot(hist['epoch'], hist['val_mse'], label = 'Val Error')\n",
        "    plt.legend()\n",
        "\n",
        "plot_history(history2)"
      ],
      "execution_count": 106,
      "outputs": [
        {
          "output_type": "display_data",
          "data": {
            "image/png": "[encoded data removed]",
            "text/plain": [
              "<Figure size 432x288 with 1 Axes>"
            ]
          },
          "metadata": {
            "tags": [],
            "needs_background": "light"
          }
        }
      ]
    },
    {
      "cell_type": "markdown",
      "metadata": {
        "id": "bx1RuzJm9YN_"
      },
      "source": [
        "### Modelo 3"
      ]
    },
    {
      "cell_type": "code",
      "metadata": {
        "colab": {
          "base_uri": "https://localhost:8080/"
        },
        "id": "3QB74G_B-DIT",
        "outputId": "a57ac031-4360-45c1-865b-aeb9218fdbf3"
      },
      "source": [
        "#Build Keras Model\n",
        " \n",
        "import keras\n",
        "from keras import Sequential\n",
        "from keras.layers import Dense\n",
        "from keras.layers import Embedding\n",
        "from keras.layers import Input\n",
        "\n",
        "\n",
        "from keras import optimizers\n",
        " \n",
        "model3 = Sequential()\n",
        "model3.add(Embedding(5000, 32, input_length=X_train.shape[1]))\n",
        "model3.add(Dense(units=16, activation='relu'))\n",
        "model3.add(Dense(units=8, activation='softplus'))\n",
        "model3.add(Dense(units=1,activation='sigmoid'))\n",
        "model3.compile(optimizer=\"sgd\", loss='mean_squared_error',  metrics=['mae','mse'])\n",
        " \n",
        "model3.build()\n",
        "# Model summary for number of parameters use in the algorithm\n",
        "model3.summary()"
      ],
      "execution_count": 110,
      "outputs": [
        {
          "output_type": "stream",
          "text": [
            "Model: \"sequential_13\"\n",
            "_________________________________________________________________\n",
            "Layer (type)                 Output Shape              Param #   \n",
            "=================================================================\n",
            "embedding_9 (Embedding)      (None, 24, 32)            160000    \n",
            "_________________________________________________________________\n",
            "dense_31 (Dense)             (None, 24, 16)            528       \n",
            "_________________________________________________________________\n",
            "dense_32 (Dense)             (None, 24, 8)             136       \n",
            "_________________________________________________________________\n",
            "dense_33 (Dense)             (None, 24, 1)             9         \n",
            "=================================================================\n",
            "Total params: 160,673\n",
            "Trainable params: 160,673\n",
            "Non-trainable params: 0\n",
            "_________________________________________________________________\n"
          ],
          "name": "stdout"
        }
      ]
    },
    {
      "cell_type": "code",
      "metadata": {
        "colab": {
          "base_uri": "https://localhost:8080/"
        },
        "id": "pI5-HAsA-Z5z",
        "outputId": "224691d3-9578-46bd-e881-1fc060709fa8"
      },
      "source": [
        "history3=model3.fit(X_train,y_train,batch_size=128, validation_data=(X_test, y_test), epochs=10, verbose=2)"
      ],
      "execution_count": 111,
      "outputs": [
        {
          "output_type": "stream",
          "text": [
            "Epoch 1/10\n",
            "WARNING:tensorflow:Model was constructed with shape (None, 24) for input KerasTensor(type_spec=TensorSpec(shape=(None, 24), dtype=tf.float32, name='embedding_9_input'), name='embedding_9_input', description=\"created by layer 'embedding_9_input'\"), but it was called on an input with incompatible shape (None, 28).\n",
            "250/250 - 2s - loss: 5.2133 - mae: 2.0011 - mse: 5.2133 - val_loss: 5.0495 - val_mae: 1.9964 - val_mse: 5.0495\n",
            "Epoch 2/10\n",
            "250/250 - 1s - loss: 5.0456 - mae: 2.0009 - mse: 5.0456 - val_loss: 5.0138 - val_mae: 1.9964 - val_mse: 5.0138\n",
            "Epoch 3/10\n",
            "250/250 - 1s - loss: 5.0252 - mae: 2.0009 - mse: 5.0252 - val_loss: 5.0025 - val_mae: 1.9965 - val_mse: 5.0025\n",
            "Epoch 4/10\n",
            "250/250 - 1s - loss: 5.0173 - mae: 2.0009 - mse: 5.0173 - val_loss: 4.9972 - val_mae: 1.9965 - val_mse: 4.9972\n",
            "Epoch 5/10\n",
            "250/250 - 1s - loss: 5.0134 - mae: 2.0009 - mse: 5.0134 - val_loss: 4.9944 - val_mae: 1.9965 - val_mse: 4.9944\n",
            "Epoch 6/10\n",
            "250/250 - 1s - loss: 5.0111 - mae: 2.0009 - mse: 5.0111 - val_loss: 4.9925 - val_mae: 1.9965 - val_mse: 4.9925\n",
            "Epoch 7/10\n",
            "250/250 - 1s - loss: 5.0096 - mae: 2.0009 - mse: 5.0096 - val_loss: 4.9913 - val_mae: 1.9965 - val_mse: 4.9913\n",
            "Epoch 8/10\n",
            "250/250 - 1s - loss: 5.0085 - mae: 2.0009 - mse: 5.0085 - val_loss: 4.9905 - val_mae: 1.9965 - val_mse: 4.9905\n",
            "Epoch 9/10\n",
            "250/250 - 1s - loss: 5.0077 - mae: 2.0009 - mse: 5.0077 - val_loss: 4.9898 - val_mae: 1.9965 - val_mse: 4.9898\n",
            "Epoch 10/10\n",
            "250/250 - 1s - loss: 5.0072 - mae: 2.0009 - mse: 5.0072 - val_loss: 4.9893 - val_mae: 1.9965 - val_mse: 4.9893\n"
          ],
          "name": "stdout"
        }
      ]
    },
    {
      "cell_type": "code",
      "metadata": {
        "colab": {
          "base_uri": "https://localhost:8080/",
          "height": 279
        },
        "id": "p3GHhJa6-sle",
        "outputId": "133def4a-36d1-4870-b34c-e728e7a50c24"
      },
      "source": [
        "def plot_history(history):\n",
        "    hist = pd.DataFrame(history.history)\n",
        "    hist['epoch'] = history.epoch\n",
        "    plt.figure()\n",
        "    plt.xlabel('Epoch')\n",
        "    plt.ylabel('Mean Square Error')\n",
        "    plt.plot(hist['epoch'], hist['mse'], label='Train Error')\n",
        "    plt.plot(hist['epoch'], hist['val_mse'], label = 'Val Error')\n",
        "    plt.legend()\n",
        "\n",
        "plot_history(history3)"
      ],
      "execution_count": 112,
      "outputs": [
        {
          "output_type": "display_data",
          "data": {
            "image/png": "[encoded data removed]",
            "text/plain": [
              "<Figure size 432x288 with 1 Axes>"
            ]
          },
          "metadata": {
            "tags": [],
            "needs_background": "light"
          }
        }
      ]
    },
    {
      "cell_type": "markdown",
      "metadata": {
        "id": "odLAGVbZL_2-"
      },
      "source": [
        "## Funcionalidad Adicional:  Clasificar  comentarios  de  Youtube (10 puntos)"
      ]
    },
    {
      "cell_type": "code",
      "metadata": {
        "colab": {
          "base_uri": "https://localhost:8080/",
          "height": 1000
        },
        "id": "DAhIFoPYTf74",
        "outputId": "b32aba63-3187-4ede-96ef-844e9d46fed6"
      },
      "source": [
        "from googleapiclient.discovery import build\n",
        "\n",
        "api_key = '...'\n",
        "\n",
        "def video_comments(video_id):\n",
        "\t# empty list for storing reply\n",
        "\treplies = []\n",
        "\n",
        "\t# creating youtube resource object\n",
        "\tyoutube = build('youtube', 'v3',\n",
        "\t\t\t\t\tdeveloperKey=api_key)\n",
        "\n",
        "\t# retrieve youtube video results\n",
        "\tvideo_response=youtube.commentThreads().list(\n",
        "\tpart='snippet,replies',\n",
        "\tvideoId=video_id\n",
        "\t).execute()\n",
        "\n",
        "\t# iterate video response\n",
        "\twhile video_response:\n",
        "\t\t\n",
        "\t\t# extracting required info\n",
        "\t\t# from each result object\n",
        "\t\tfor item in video_response['items']:\n",
        "\t\t\t\n",
        "\t\t\t# Extracting comments\n",
        "\t\t\tcomment = item['snippet']['topLevelComment']['snippet']['textDisplay']\n",
        "\t\t\t\n",
        "\t\t\t# counting number of reply of comment\n",
        "\t\t\treplycount = item['snippet']['totalReplyCount']\n",
        "\n",
        "\t\t\t# if reply is there\n",
        "\t\t\tif replycount>0:\n",
        "\t\t\t\t\n",
        "\t\t\t\t# iterate through all reply\n",
        "\t\t\t\tfor reply in item['replies']['comments']:\n",
        "\t\t\t\t\t\n",
        "\t\t\t\t\t# Extract reply\n",
        "\t\t\t\t\treply = reply['snippet']['textDisplay']\n",
        "\t\t\t\t\t\n",
        "\t\t\t\t\t# Store reply is list\n",
        "\t\t\t\t\t#replies.append(reply)\n",
        "\n",
        "\t\t\t# print comment with list of reply\n",
        "\t\t\tprint(comment, s.sentiment(comment), end = '\\n\\n')\n",
        "\n",
        "\t\t\t# empty reply list\n",
        "\t\t\treplies = []\n",
        "\n",
        "\t\t# Again repeat\n",
        "\t\tif 'nextPageToken' in video_response:\n",
        "\t\t\tvideo_response = youtube.commentThreads().list(\n",
        "\t\t\t\t\tpart = 'snippet,replies',\n",
        "\t\t\t\t\tvideoId = video_id\n",
        "\t\t\t\t).execute()\n",
        "\t\telse:\n",
        "\t\t\tbreak\n",
        "\n",
        "# Enter video id\n",
        "video_id = \"Hkfru_xyUGo\"\n",
        "\n",
        "# Call function\n",
        "video_comments(video_id)\n"
      ],
      "execution_count": 33,
      "outputs": [
        {
          "output_type": "stream",
          "text": [
            "legendary ('neg', 1.0)\n",
            "\n",
            "both are amazing endings, to be honest. :) ('pos', 1.0)\n",
            "\n",
            "People in the twitch chat talking about the anime: Omg I need to go watch this<br>Me, who was reading the light novels before the anime was even announced: I am 3 Parallel universes and 3 Plot Twists ahead of you. ('pos', 1.0)\n",
            "\n",
            "i swear ever couple decades someone is always born with some insane power sir your power is your insane drumming abilities ('pos', 1.0)\n",
            "\n",
            "he really did go for the backup stick there ('neg', 0.8)\n",
            "\n",
            "Read the manga, waiting for the anime to finish before watching, kinda regret that I&#39;m waiting. The animation, the music, and everything is just so god ('neg', 0.8)\n",
            "\n",
            "The stick near the end be like<br>IM SCARED OF SPIDERS YEEEETT ('neg', 1.0)\n",
            "\n",
            "sadly the anime has ended :( buuut in the novel there might be or there is enough material for a second SEASON :) and I like this ending better ('pos', 1.0)\n",
            "\n",
            "This song for me has to be the best ending song this year fight me. ('pos', 1.0)\n",
            "\n",
            "I feel like he was better prepared for this than the first ending 🤣🤣🤣 ('neg', 1.0)\n",
            "\n",
            "So I&#39;m A Viewer, So What?<br>So I&#39;m Addicted, So What?<br>So I&#39;m Gonna Read The Novel, So What?<br><br><br><br><br>So Are You Gonna Come With Me? ('neg', 1.0)\n",
            "\n",
            "Boy I can&#39;t wait for the season 2 ED&#39;s<br><br><br>If ever a season 2 will come ('pos', 0.8)\n",
            "\n",
            "Composer: this is pretty good but let&#39;s throw in ff7 battle music to make it better ('pos', 0.6)\n",
            "\n",
            "Well played .. and i love the freaking stick fly away 😂 ('neg', 0.6)\n",
            "\n",
            "I have that same shirt! ('neg', 1.0)\n",
            "\n",
            "You should try &quot;I&#39;ve Been Killing Slimes for 300 Years and Maxed Out My Level&quot;&#39;s opening. Also sung by Aoi Yuuki, but waaaaaayyy different. ('pos', 1.0)\n",
            "\n",
            "i love that people are still finding out he does this ALL BY EAR man how many times has he said he hasn&#39;t listened to a lot of these songs and the fact he often plays suggestions ('neg', 0.8)\n",
            "\n",
            "Lol, I wish to be able to do that :| ('pos', 1.0)\n",
            "\n",
            "yuuki aoi is godlike ('neg', 0.8)\n",
            "\n",
            "Agreed somehow this popped up so sad ep 24 has no date yet. ('neg', 0.8)\n",
            "\n",
            "legendary ('neg', 1.0)\n",
            "\n"
          ],
          "name": "stdout"
        },
        {
          "output_type": "error",
          "ename": "KeyboardInterrupt",
          "evalue": "ignored",
          "traceback": [
            "\u001b[0;31m---------------------------------------------------------------------------\u001b[0m",
            "\u001b[0;31mKeyboardInterrupt\u001b[0m                         Traceback (most recent call last)",
            "\u001b[0;32m<ipython-input-33-fb861525bd92>\u001b[0m in \u001b[0;36m<module>\u001b[0;34m()\u001b[0m\n\u001b[1;32m     61\u001b[0m \u001b[0;34m\u001b[0m\u001b[0m\n\u001b[1;32m     62\u001b[0m \u001b[0;31m# Call function\u001b[0m\u001b[0;34m\u001b[0m\u001b[0;34m\u001b[0m\u001b[0;34m\u001b[0m\u001b[0m\n\u001b[0;32m---> 63\u001b[0;31m \u001b[0mvideo_comments\u001b[0m\u001b[0;34m(\u001b[0m\u001b[0mvideo_id\u001b[0m\u001b[0;34m)\u001b[0m\u001b[0;34m\u001b[0m\u001b[0;34m\u001b[0m\u001b[0m\n\u001b[0m",
            "\u001b[0;32m<ipython-input-33-fb861525bd92>\u001b[0m in \u001b[0;36mvideo_comments\u001b[0;34m(video_id)\u001b[0m\n\u001b[1;32m     43\u001b[0m \u001b[0;34m\u001b[0m\u001b[0m\n\u001b[1;32m     44\u001b[0m                         \u001b[0;31m# print comment with list of reply\u001b[0m\u001b[0;34m\u001b[0m\u001b[0;34m\u001b[0m\u001b[0;34m\u001b[0m\u001b[0m\n\u001b[0;32m---> 45\u001b[0;31m                         \u001b[0mprint\u001b[0m\u001b[0;34m(\u001b[0m\u001b[0mcomment\u001b[0m\u001b[0;34m,\u001b[0m \u001b[0ms\u001b[0m\u001b[0;34m.\u001b[0m\u001b[0msentiment\u001b[0m\u001b[0;34m(\u001b[0m\u001b[0mcomment\u001b[0m\u001b[0;34m)\u001b[0m\u001b[0;34m,\u001b[0m \u001b[0mend\u001b[0m \u001b[0;34m=\u001b[0m \u001b[0;34m'\\n\\n'\u001b[0m\u001b[0;34m)\u001b[0m\u001b[0;34m\u001b[0m\u001b[0;34m\u001b[0m\u001b[0m\n\u001b[0m\u001b[1;32m     46\u001b[0m \u001b[0;34m\u001b[0m\u001b[0m\n\u001b[1;32m     47\u001b[0m                         \u001b[0;31m# empty reply list\u001b[0m\u001b[0;34m\u001b[0m\u001b[0;34m\u001b[0m\u001b[0;34m\u001b[0m\u001b[0m\n",
            "\u001b[0;32m/content/sentiment_mod.py\u001b[0m in \u001b[0;36msentiment\u001b[0;34m(text)\u001b[0m\n\u001b[1;32m    117\u001b[0m     \u001b[0mfeats\u001b[0m \u001b[0;34m=\u001b[0m \u001b[0mfind_features\u001b[0m\u001b[0;34m(\u001b[0m\u001b[0mtext\u001b[0m\u001b[0;34m)\u001b[0m\u001b[0;34m\u001b[0m\u001b[0;34m\u001b[0m\u001b[0m\n\u001b[1;32m    118\u001b[0m \u001b[0;34m\u001b[0m\u001b[0m\n\u001b[0;32m--> 119\u001b[0;31m     \u001b[0;32mreturn\u001b[0m \u001b[0mvoted_classifier\u001b[0m\u001b[0;34m.\u001b[0m\u001b[0mclassify\u001b[0m\u001b[0;34m(\u001b[0m\u001b[0mfeats\u001b[0m\u001b[0;34m)\u001b[0m\u001b[0;34m,\u001b[0m\u001b[0mvoted_classifier\u001b[0m\u001b[0;34m.\u001b[0m\u001b[0mconfidence\u001b[0m\u001b[0;34m(\u001b[0m\u001b[0mfeats\u001b[0m\u001b[0;34m)\u001b[0m\u001b[0;34m\u001b[0m\u001b[0;34m\u001b[0m\u001b[0m\n\u001b[0m",
            "\u001b[0;32m/content/sentiment_mod.py\u001b[0m in \u001b[0;36mconfidence\u001b[0;34m(self, features)\u001b[0m\n\u001b[1;32m     29\u001b[0m         \u001b[0mvotes\u001b[0m \u001b[0;34m=\u001b[0m \u001b[0;34m[\u001b[0m\u001b[0;34m]\u001b[0m\u001b[0;34m\u001b[0m\u001b[0;34m\u001b[0m\u001b[0m\n\u001b[1;32m     30\u001b[0m         \u001b[0;32mfor\u001b[0m \u001b[0mc\u001b[0m \u001b[0;32min\u001b[0m \u001b[0mself\u001b[0m\u001b[0;34m.\u001b[0m\u001b[0m_classifiers\u001b[0m\u001b[0;34m:\u001b[0m\u001b[0;34m\u001b[0m\u001b[0;34m\u001b[0m\u001b[0m\n\u001b[0;32m---> 31\u001b[0;31m             \u001b[0mv\u001b[0m \u001b[0;34m=\u001b[0m \u001b[0mc\u001b[0m\u001b[0;34m.\u001b[0m\u001b[0mclassify\u001b[0m\u001b[0;34m(\u001b[0m\u001b[0mfeatures\u001b[0m\u001b[0;34m)\u001b[0m\u001b[0;34m\u001b[0m\u001b[0;34m\u001b[0m\u001b[0m\n\u001b[0m\u001b[1;32m     32\u001b[0m             \u001b[0mvotes\u001b[0m\u001b[0;34m.\u001b[0m\u001b[0mappend\u001b[0m\u001b[0;34m(\u001b[0m\u001b[0mv\u001b[0m\u001b[0;34m)\u001b[0m\u001b[0;34m\u001b[0m\u001b[0;34m\u001b[0m\u001b[0m\n\u001b[1;32m     33\u001b[0m \u001b[0;34m\u001b[0m\u001b[0m\n",
            "\u001b[0;32m/usr/local/lib/python3.7/dist-packages/nltk/classify/naivebayes.py\u001b[0m in \u001b[0;36mclassify\u001b[0;34m(self, featureset)\u001b[0m\n\u001b[1;32m     86\u001b[0m \u001b[0;34m\u001b[0m\u001b[0m\n\u001b[1;32m     87\u001b[0m     \u001b[0;32mdef\u001b[0m \u001b[0mclassify\u001b[0m\u001b[0;34m(\u001b[0m\u001b[0mself\u001b[0m\u001b[0;34m,\u001b[0m \u001b[0mfeatureset\u001b[0m\u001b[0;34m)\u001b[0m\u001b[0;34m:\u001b[0m\u001b[0;34m\u001b[0m\u001b[0;34m\u001b[0m\u001b[0m\n\u001b[0;32m---> 88\u001b[0;31m         \u001b[0;32mreturn\u001b[0m \u001b[0mself\u001b[0m\u001b[0;34m.\u001b[0m\u001b[0mprob_classify\u001b[0m\u001b[0;34m(\u001b[0m\u001b[0mfeatureset\u001b[0m\u001b[0;34m)\u001b[0m\u001b[0;34m.\u001b[0m\u001b[0mmax\u001b[0m\u001b[0;34m(\u001b[0m\u001b[0;34m)\u001b[0m\u001b[0;34m\u001b[0m\u001b[0;34m\u001b[0m\u001b[0m\n\u001b[0m\u001b[1;32m     89\u001b[0m \u001b[0;34m\u001b[0m\u001b[0m\n\u001b[1;32m     90\u001b[0m     \u001b[0;32mdef\u001b[0m \u001b[0mprob_classify\u001b[0m\u001b[0;34m(\u001b[0m\u001b[0mself\u001b[0m\u001b[0;34m,\u001b[0m \u001b[0mfeatureset\u001b[0m\u001b[0;34m)\u001b[0m\u001b[0;34m:\u001b[0m\u001b[0;34m\u001b[0m\u001b[0;34m\u001b[0m\u001b[0m\n",
            "\u001b[0;32m/usr/local/lib/python3.7/dist-packages/nltk/classify/naivebayes.py\u001b[0m in \u001b[0;36mprob_classify\u001b[0;34m(self, featureset)\u001b[0m\n\u001b[1;32m    111\u001b[0m             \u001b[0;32mfor\u001b[0m \u001b[0;34m(\u001b[0m\u001b[0mfname\u001b[0m\u001b[0;34m,\u001b[0m \u001b[0mfval\u001b[0m\u001b[0;34m)\u001b[0m \u001b[0;32min\u001b[0m \u001b[0mfeatureset\u001b[0m\u001b[0;34m.\u001b[0m\u001b[0mitems\u001b[0m\u001b[0;34m(\u001b[0m\u001b[0;34m)\u001b[0m\u001b[0;34m:\u001b[0m\u001b[0;34m\u001b[0m\u001b[0;34m\u001b[0m\u001b[0m\n\u001b[1;32m    112\u001b[0m                 \u001b[0;32mif\u001b[0m \u001b[0;34m(\u001b[0m\u001b[0mlabel\u001b[0m\u001b[0;34m,\u001b[0m \u001b[0mfname\u001b[0m\u001b[0;34m)\u001b[0m \u001b[0;32min\u001b[0m \u001b[0mself\u001b[0m\u001b[0;34m.\u001b[0m\u001b[0m_feature_probdist\u001b[0m\u001b[0;34m:\u001b[0m\u001b[0;34m\u001b[0m\u001b[0;34m\u001b[0m\u001b[0m\n\u001b[0;32m--> 113\u001b[0;31m                     \u001b[0mfeature_probs\u001b[0m \u001b[0;34m=\u001b[0m \u001b[0mself\u001b[0m\u001b[0;34m.\u001b[0m\u001b[0m_feature_probdist\u001b[0m\u001b[0;34m[\u001b[0m\u001b[0mlabel\u001b[0m\u001b[0;34m,\u001b[0m \u001b[0mfname\u001b[0m\u001b[0;34m]\u001b[0m\u001b[0;34m\u001b[0m\u001b[0;34m\u001b[0m\u001b[0m\n\u001b[0m\u001b[1;32m    114\u001b[0m                     \u001b[0mlogprob\u001b[0m\u001b[0;34m[\u001b[0m\u001b[0mlabel\u001b[0m\u001b[0;34m]\u001b[0m \u001b[0;34m+=\u001b[0m \u001b[0mfeature_probs\u001b[0m\u001b[0;34m.\u001b[0m\u001b[0mlogprob\u001b[0m\u001b[0;34m(\u001b[0m\u001b[0mfval\u001b[0m\u001b[0;34m)\u001b[0m\u001b[0;34m\u001b[0m\u001b[0;34m\u001b[0m\u001b[0m\n\u001b[1;32m    115\u001b[0m                 \u001b[0;32melse\u001b[0m\u001b[0;34m:\u001b[0m\u001b[0;34m\u001b[0m\u001b[0;34m\u001b[0m\u001b[0m\n",
            "\u001b[0;31mKeyboardInterrupt\u001b[0m: "
          ]
        }
      ]
    },
    {
      "cell_type": "markdown",
      "metadata": {
        "id": "iq8fsbXNML3K"
      },
      "source": [
        "## Funcionalidad Adicional 2"
      ]
    },
    {
      "cell_type": "markdown",
      "metadata": {
        "id": "AqDFX4MEMpqG"
      },
      "source": [
        "Ver **MultiClassification.ipynb**\n"
      ]
    },
    {
      "cell_type": "markdown",
      "metadata": {
        "id": "ClIV-Vb1MQnP"
      },
      "source": [
        "## Funcionalidad Adicional 3"
      ]
    },
    {
      "cell_type": "markdown",
      "metadata": {
        "id": "1uiYB8eCMzjf"
      },
      "source": [
        "Ver **IMDB_sentiment_analysis.ipynb**"
      ]
    }
  ]
}